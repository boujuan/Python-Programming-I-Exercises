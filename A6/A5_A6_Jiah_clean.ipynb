{
 "cells": [
  {
   "cell_type": "markdown",
   "metadata": {},
   "source": [
    "### A5 E1. using data frame"
   ]
  },
  {
   "cell_type": "code",
   "execution_count": 1,
   "metadata": {},
   "outputs": [
    {
     "name": "stdout",
     "output_type": "stream",
     "text": [
      "The APP based on the entired timeseries is: 314.67 kW\n"
     ]
    }
   ],
   "source": [
    "import pandas as pd\n",
    "import numpy as np\n",
    "from scipy import interpolate\n",
    "\n",
    "# Parameters\n",
    "rho = 1.225  # density [kg/m^3]\n",
    "D = 82  # rotor_diameter [m]\n",
    "T = 8760  # total hours/years [h]\n",
    "A = np.pi * (D / 2) ** 2 # swept area [m^2]\n",
    "\n",
    "# Processing power curve data\n",
    "power_curve_df = pd.read_csv('Senvion_MM82.csv')\n",
    "cut_in_ws = power_curve_df[power_curve_df['P'] > 0]['ws'].min()\n",
    "cut_out_ws = power_curve_df[power_curve_df['P'] > 0]['ws'].max()\n",
    "cp_i = interpolate.interp1d(power_curve_df['ws'], power_curve_df['cp']) #Interpolate cp\n",
    "\n",
    "# Processing timeseries data\n",
    "timeseries_df = pd.read_csv('timeseries_la_haute_borne_2017.csv')\n",
    "timeseries_df.fillna(0, inplace=True) # change NaN values to zero. 'Inplace=True' => modify the data frame directly and'Inplace=False' will return a new data frame.\n",
    "timeseries_df['WS'] = np.sqrt(timeseries_df['U']**2 + timeseries_df['V']**2)\n",
    "\n",
    "def calculate_APP_entire_timeseries(timeseries_df, cp_i):\n",
    "    \n",
    "    valid_ws = timeseries_df['WS'].between(cut_in_ws, cut_out_ws, inclusive='both')\n",
    "    cp = cp_i(timeseries_df['WS'][valid_ws])\n",
    "    delta_t = 10 / 60  # 10 min in 1h\n",
    "    power = 0.5 * rho * A * cp * timeseries_df['WS'][valid_ws]**3 * delta_t\n",
    "    APP = power.sum() / T\n",
    "\n",
    "    print(f\"The APP based on the entired timeseries is: {APP/1000:.2f} kW\")\n",
    "\n",
    "    return APP\n",
    "\n",
    "#Execution\n",
    "APP_ET = calculate_APP_entire_timeseries(timeseries_df, cp_i)\n"
   ]
  },
  {
   "cell_type": "markdown",
   "metadata": {},
   "source": [
    "### A5 E1. using array"
   ]
  },
  {
   "cell_type": "code",
   "execution_count": 2,
   "metadata": {},
   "outputs": [
    {
     "name": "stdout",
     "output_type": "stream",
     "text": [
      "The APP based on the entire timeseries is: 314.67 kW\n"
     ]
    }
   ],
   "source": [
    "import numpy as np\n",
    "from scipy import interpolate\n",
    "\n",
    "# Parameters\n",
    "rho = 1.225  # density [kg/m^3]\n",
    "D = 82  # rotor_diameter [m]\n",
    "A = np.pi * (D / 2) ** 2  # swept area [m^2]\n",
    "T = 8760  # total hours/years [h]\n",
    "\n",
    "# Processing power curve data\n",
    "power_curve_data = np.genfromtxt('Senvion_MM82.csv', delimiter=',', skip_header=1)\n",
    "ws_power_curve = power_curve_data[:, 0]\n",
    "cp_power_curve = power_curve_data[:, 3]\n",
    "cut_in_ws = ws_power_curve[cp_power_curve > 0].min()\n",
    "cut_out_ws = ws_power_curve[cp_power_curve > 0].max()\n",
    "\n",
    "cp_i = interpolate.interp1d(ws_power_curve, cp_power_curve) #Interpolate cp\n",
    "\n",
    "# Processing timeseries data\n",
    "timeseries_data = np.genfromtxt('timeseries_la_haute_borne_2017.csv', delimiter=',', skip_header=1)\n",
    "U_timeseries = np.nan_to_num(timeseries_data[:, 1])  # Replace NaNs with 0\n",
    "V_timeseries = np.nan_to_num(timeseries_data[:, 2]) \n",
    "ws_timeseries = np.sqrt(U_timeseries**2 + V_timeseries**2)\n",
    "\n",
    "# Function to calculate APP using arrays\n",
    "def calculate_APP_entire_timeseries(ws, cp_i):\n",
    "    valid_ws_range = (ws >= cut_in_ws) & (ws <= cut_out_ws)\n",
    "    valid_ws = ws[valid_ws_range]\n",
    "    cp = cp_i(valid_ws)\n",
    "    delta_t = 10 / 60  # 10 min in 1h\n",
    "    power = 0.5 * rho * A * cp * valid_ws ** 3 * delta_t\n",
    "    APP = np.sum(power) / T\n",
    "\n",
    "    print(f\"The APP based on the entire timeseries is: {APP/1000:.2f} kW\")\n",
    "\n",
    "    return APP\n",
    "\n",
    "# Calculate APP\n",
    "APP_ET_array = calculate_APP_entire_timeseries(ws_timeseries, cp_i)"
   ]
  },
  {
   "cell_type": "code",
   "execution_count": 3,
   "metadata": {},
   "outputs": [
    {
     "name": "stdout",
     "output_type": "stream",
     "text": [
      "The APP based on the average windspeed is: 373.96 kW\n"
     ]
    }
   ],
   "source": [
    "import numpy as np\n",
    "from scipy import interpolate\n",
    "\n",
    "# Parameters\n",
    "rho = 1.225  # Air density [kg/m^3]\n",
    "D = 82  # Rotor diameter [m]\n",
    "A = np.pi * (D / 2) ** 2  # Swept area [m^2]\n",
    "\n",
    "# Processing power curve data\n",
    "power_curve_data = np.genfromtxt('Senvion_MM82.csv', delimiter=',', skip_header=1)\n",
    "ws_power_curve = power_curve_data[:, 0]\n",
    "cp_power_curve = power_curve_data[:, 3]\n",
    "cut_in_ws = ws_power_curve[cp_power_curve > 0].min()\n",
    "cut_out_ws = ws_power_curve[cp_power_curve > 0].max()\n",
    "\n",
    "cp_i = interpolate.interp1d(ws_power_curve, cp_power_curve) # interpolate cp\n",
    "\n",
    "# Processing timeseries data\n",
    "timeseries_data = np.genfromtxt('timeseries_la_haute_borne_2017.csv', delimiter=',', skip_header=1)\n",
    "U_timeseries = np.nan_to_num(timeseries_data[:, 1])  # Replace NaNs with 0\n",
    "V_timeseries = np.nan_to_num(timeseries_data[:, 2]) \n",
    "ws_timeseries = np.sqrt(U_timeseries**2 + V_timeseries**2)\n",
    "\n",
    "def calculate_APP_average_ws(ws, cp_i):\n",
    "    valid_ws_range = (ws >= cut_in_ws) & (ws <= cut_out_ws)\n",
    "    valid_ws = ws[valid_ws_range]\n",
    "    average_ws = np.mean(valid_ws)\n",
    "    cp = cp_i(average_ws)\n",
    "    APP = 0.5 * rho * A * cp * average_ws ** 3 \n",
    "\n",
    "    print(f\"The APP based on the average windspeed is: {APP/1000:.2f} kW\")\n",
    "\n",
    "    return APP\n",
    "\n",
    "APP_avg_ws = calculate_APP_average_ws(ws_timeseries, cp_i)"
   ]
  },
  {
   "cell_type": "markdown",
   "metadata": {},
   "source": [
    "### A6 E4.\n",
    "- (a) Load the data file timeseries_la_haute_borne_2017.csv provided in exercise A5 with pandas. You will have to convert the index with pd.datetime(utc=True) to get a consistent datetime index.\n",
    "- (b) Calculate the wind direction and wind speed and add them in two additional columns\n",
    "- (c) How many NaN-values exist per column? In which months do the most NaN values occur?\n",
    "- (d) Fill the NaN-values of the wind speed with the values of the previous time step. By how many percentage points does the mean wind speed change?"
   ]
  },
  {
   "cell_type": "code",
   "execution_count": 4,
   "metadata": {},
   "outputs": [
    {
     "name": "stdout",
     "output_type": "stream",
     "text": [
      "The number of NaN values in column U is 1521\n",
      "The number of NaN values in column V is 1521\n",
      "The number of NaN values in column Wind Speed is 1521\n",
      "The number of NaN values in column Wind Direction is 1521\n",
      "\n",
      "The month with the most NaN values in column U is September\n",
      "The month with the most NaN values in column V is September\n",
      "The month with the most NaN values in column Wind Speed is September\n",
      "The month with the most NaN values in column Wind Direction is September\n",
      "\n",
      "the orginal mean wind speed was: 5.299 m/s\n",
      "the new mean wind speed is: 5.185 m/s\n",
      "the difference in percentage is: -2.14 %\n"
     ]
    }
   ],
   "source": [
    "import pandas as pd\n",
    "\n",
    "## Task (a)\n",
    "# Load the data\n",
    "timeseries_df = pd.read_csv('timeseries_la_haute_borne_2017.csv')\n",
    "timeseries_df['Time'] = pd.to_datetime(timeseries_df['Time'], utc=True) #convert the 'time' column of the dataframe into datetime objects.\n",
    "timeseries_df.set_index('Time', inplace=True) #designate a specific column as index\n",
    "\n",
    "## Task (b)\n",
    "# Calculate wind direction and wind speed\n",
    "timeseries_df['Wind Speed'] = np.sqrt(timeseries_df['U']**2 + timeseries_df['V']**2)\n",
    "timeseries_df['Wind Direction'] = (np.arctan2(timeseries_df['V'], timeseries_df['U'])* (180/np.pi) + 360) %360 # +360 to ensure all angles are positive, %360 (modulo operation) to bring all angles in the range of 0-359°\n",
    "\n",
    "## Task (c)\n",
    "# Count NaN values per column\n",
    "nan_per_column = timeseries_df.isnull().sum() #Since sum() calculates as True=1 and False=0, you can count the number of NaN in each row and column by calling sum() on the result of isnull().\n",
    "for column in nan_per_column.index:\n",
    "    print(f\"The number of NaN values in column {column} is {nan_per_column[column]}\")\n",
    "print()\n",
    "\n",
    "# Count NaN values per month\n",
    "nan_per_month = timeseries_df.isnull().resample('M').sum()\n",
    "month_with_most_nans = nan_per_month.idxmax() # find the index of the maximum value for each column\n",
    "\n",
    "for column in month_with_most_nans.index:\n",
    "    month_name = month_with_most_nans[column].strftime('%B') #format the datetime object into a string representing the month's name\n",
    "    print(f\"The month with the most NaN values in column {column} is {month_name}\")\n",
    "print()\n",
    "\n",
    "## Task (d)   \n",
    "orig_mean_ws = timeseries_df['Wind Speed'].mean()\n",
    "timeseries_df['Wind Speed'].fillna(method='ffill',inplace=True) # fill with the last valid value before NaN, modify the original df\n",
    "new_mean_ws = timeseries_df['Wind Speed'].mean()\n",
    "\n",
    "change_percentage = ((new_mean_ws - orig_mean_ws) / orig_mean_ws) * 100\n",
    "\n",
    "print(f\"the orginal mean wind speed was: {orig_mean_ws:.3f} m/s\")\n",
    "print(f\"the new mean wind speed is: {new_mean_ws:.3f} m/s\")\n",
    "print(f\"the difference in percentage is: {change_percentage:.2f} %\")"
   ]
  }
 ],
 "metadata": {
  "kernelspec": {
   "display_name": "Python 3",
   "language": "python",
   "name": "python3"
  },
  "language_info": {
   "codemirror_mode": {
    "name": "ipython",
    "version": 3
   },
   "file_extension": ".py",
   "mimetype": "text/x-python",
   "name": "python",
   "nbconvert_exporter": "python",
   "pygments_lexer": "ipython3",
   "version": "3.11.5"
  }
 },
 "nbformat": 4,
 "nbformat_minor": 2
}
