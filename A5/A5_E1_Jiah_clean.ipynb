{
 "cells": [
  {
   "cell_type": "code",
   "execution_count": 1,
   "metadata": {},
   "outputs": [
    {
     "name": "stdout",
     "output_type": "stream",
     "text": [
      "The APP based on the entired timeseries is: 314.67 kW\n"
     ]
    }
   ],
   "source": [
    "import pandas as pd\n",
    "import numpy as np\n",
    "from scipy import interpolate\n",
    "\n",
    "# Load data\n",
    "timeseries_df = pd.read_csv('files/timeseries_la_haute_borne_2017.csv')\n",
    "power_curve_df = pd.read_csv('files/Senvion_MM82.csv')\n",
    "\n",
    "# Constants\n",
    "rho = 1.225  # density [kg/m^3]\n",
    "D = 82  # rotor_diameter [m]\n",
    "T = 8760  # total hours/years [h]\n",
    "A = np.pi * (D / 2) ** 2 # swept area [m^2]\n",
    "cut_in_ws = power_curve_df[power_curve_df['P'] > 0]['ws'].min()\n",
    "cut_out_ws = power_curve_df[power_curve_df['P'] > 0]['ws'].max()\n",
    "\n",
    "# Clear NaN Values & Calcualte WS\n",
    "timeseries_df.dropna(subset=['U', 'V'], inplace=True) # Drop rows where specific columns have NaN values. 'Inplace=True' => modify the data frame directly and'Inplace=False' will return a new data frame.\n",
    "timeseries_df['WS'] = np.sqrt(timeseries_df['U']**2 + timeseries_df['V']**2)\n",
    "\n",
    "# Interpolate cp using the power curve\n",
    "cp_i = interpolate.interp1d(power_curve_df['ws'], power_curve_df['cp'])\n",
    "\n",
    "# Function (later more function to be added for other tasks)\n",
    "def calculate_APP_entire_timeseries(timeseries_df, cp_i):\n",
    "    \n",
    "    valid_ws = timeseries_df['WS'].between(cut_in_ws, cut_out_ws, inclusive='both')\n",
    "    cp = cp_i(timeseries_df['WS'][valid_ws])\n",
    "    delta_t = 10 / 60  # 10 min in 1h\n",
    "    power = 0.5 * rho * A * cp * timeseries_df['WS'][valid_ws]**3 * delta_t\n",
    "    APP = power.sum() / T\n",
    "\n",
    "    print(f\"The APP based on the entired timeseries is: {APP/1000:.2f} kW\")\n",
    "\n",
    "    return APP\n",
    "\n",
    "#Execution\n",
    "APP_ET = calculate_APP_entire_timeseries(timeseries_df, cp_i)\n"
   ]
  }
 ],
 "metadata": {
  "kernelspec": {
   "display_name": "Python 3",
   "language": "python",
   "name": "python3"
  },
  "language_info": {
   "codemirror_mode": {
    "name": "ipython",
    "version": 3
   },
   "file_extension": ".py",
   "mimetype": "text/x-python",
   "name": "python",
   "nbconvert_exporter": "python",
   "pygments_lexer": "ipython3",
   "version": "3.11.5"
  }
 },
 "nbformat": 4,
 "nbformat_minor": 2
}
