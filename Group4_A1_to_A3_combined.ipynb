{
 "cells": [
  {
   "cell_type": "markdown",
   "metadata": {},
   "source": [
    "# <center><b> Python Programming in Energy Science I</b></center>\n",
    "\n",
    "## <center> Assignments A1, A2, A3 </center>\n",
    "\n",
    "### <center>[Group 4]</center>\n",
    "<center> Juan Manuel Boullosa Novo </center>\n",
    "<center> Julia Guimaraes Zimmer </center>\n",
    "<center> Anna Thomas Neeha </center>\n",
    "<center> James Philip </center>\n",
    "<center> Jiah Ryu </center>\n",
    "\n",
    "-------------------------------"
   ]
  },
  {
   "cell_type": "markdown",
   "metadata": {},
   "source": [
    "## <center> Assignment A1 </center>\n",
    "-------------------------------"
   ]
  },
  {
   "cell_type": "markdown",
   "metadata": {},
   "source": [
    "### E1. Number guessing"
   ]
  },
  {
   "cell_type": "markdown",
   "metadata": {},
   "source": [
    "Program where user inputs number [0,100] and computer tries to guess it randomly."
   ]
  },
  {
   "cell_type": "code",
   "execution_count": null,
   "metadata": {},
   "outputs": [
    {
     "name": "stdout",
     "output_type": "stream",
     "text": [
      "Invalid input!\n",
      "1: 87 is too high! [0, 86] 1.00%\n",
      "2: 31 is too low! [32, 86] 1.16%\n",
      "3: 65 is too high! [32, 64] 1.85%\n",
      "____________________________________________\n",
      "4: 50 is a Match!  [32, 64] 3.12%\n",
      "(It took 4 guesses)\n"
     ]
    }
   ],
   "source": [
    "from random import randint\n",
    "\n",
    "def user_input(lower_bound, upper_bound):\n",
    "    while True:\n",
    "        n = int(input(f\"Enter a number [{lower_bound}-{upper_bound}]: \"))\n",
    "        if lower_bound <= n <= upper_bound:\n",
    "            return n\n",
    "        print(\"Invalid input!\")\n",
    "\n",
    "def guess_number(lower_bound, upper_bound, n):\n",
    "    guess_counter = 0\n",
    "    while lower_bound < upper_bound:\n",
    "        guess_counter += 1\n",
    "        guess = randint(lower_bound, upper_bound)\n",
    "        chance = 1 / (upper_bound - lower_bound) * 100\n",
    "\n",
    "        if guess == n:\n",
    "            print(f\"____________________________________________\\n{guess_counter}: {guess} is a Match!  [{lower_bound}, {upper_bound}] {chance:.2f}%\\n(It took {guess_counter} guesses)\")\n",
    "            return\n",
    "        elif guess > n:\n",
    "            result = \"too high!\"\n",
    "            upper_bound = guess - 1\n",
    "        else:\n",
    "            result = \"too low!\"\n",
    "            lower_bound = guess + 1\n",
    "        print(f\"{guess_counter}: {guess} is {result} [{lower_bound}, {upper_bound}] {chance:.2f}%\")         \n",
    "    print(f\"Number ranges convergence obtained [{lower_bound}, {lower_bound}] 100.00%\\n____________________________________________\\n{guess_counter+1:2}: {lower_bound:2} is a Match! [{lower_bound:2}, {lower_bound:3}]\\n(It took {guess_counter+1:2} guesses)\") \n",
    "\n",
    "lower_bound, upper_bound = 0, 100\n",
    "n = user_input(lower_bound, upper_bound)\n",
    "guess_number(lower_bound, upper_bound, n)\n"
   ]
  },
  {
   "cell_type": "markdown",
   "metadata": {},
   "source": [
    "### E2. Vector magnitudes"
   ]
  },
  {
   "cell_type": "markdown",
   "metadata": {},
   "source": [
    "Use a list of classes to store 10 random vectors and find the largest and smallest magnitude. <br>$magnitude = \\sqrt{x^2 + y^2 + z^2}$"
   ]
  },
  {
   "cell_type": "code",
   "execution_count": null,
   "metadata": {},
   "outputs": [
    {
     "name": "stdout",
     "output_type": "stream",
     "text": [
      " 1 : Magnitude of (  4 ,  8 , 17 ) is 19.21\n",
      " 2 : Magnitude of (  7 , 15 , 13 ) is 21.05\n",
      " 3 : Magnitude of ( 19 , 23 , 17 ) is 34.34\n",
      " 4 : Magnitude of (  8 , 28 , 21 ) is 35.90\n",
      " 5 : Magnitude of ( 17 , 28 ,  9 ) is 33.97\n",
      " 6 : Magnitude of (  2 , 17 , 27 ) is 31.97\n",
      " 7 : Magnitude of (  6 , 27 , 13 ) is 30.56\n",
      " 8 : Magnitude of ( 26 ,  4 , 24 ) is 35.61\n",
      " 9 : Magnitude of ( 18 ,  1 , 23 ) is 29.22\n",
      "10 : Magnitude of ( 18 ,  7 ,  6 ) is 20.22\n",
      "\n",
      "Largest magnitude: 35.90, Vector 4: (8, 28, 21)\n",
      "Smallest magnitude: 19.21, Vector 1: (4, 8, 17)\n"
     ]
    }
   ],
   "source": [
    "from numpy.random import randint\n",
    "\n",
    "class Vector:\n",
    "    def __init__(self, x, y, z):\n",
    "        self.x = x\n",
    "        self.y = y\n",
    "        self.z = z\n",
    "        \n",
    "    def magnitude(self):\n",
    "        return (self.x**2 + self.y**2 + self.z**2)**0.5\n",
    "\n",
    "def check_magnitude(v_list):\n",
    "    magnitude_list = [vector.magnitude() for vector in v_list]\n",
    "    max_magnitude, min_magnitude = max(magnitude_list), min(magnitude_list)    \n",
    "    max_magnitude_index, min_magnitude_index = magnitude_list.index(max_magnitude), magnitude_list.index(min_magnitude)\n",
    "    max_vector, min_vector = v_list[max_magnitude_index], v_list[min_magnitude_index]\n",
    "    \n",
    "    print(f\"\\nLargest magnitude: {max_magnitude:.2f}, Vector {max_magnitude_index+1}: ({max_vector.x}, {max_vector.y}, {max_vector.z})\")\n",
    "    print(f\"Smallest magnitude: {min_magnitude:.2f}, Vector {min_magnitude_index+1}: ({min_vector.x}, {min_vector.y}, {min_vector.z})\")\n",
    "\n",
    "limits, size, v_list = [0,30], 10, []\n",
    "# Create 10 random vectors\n",
    "for i in range(size):\n",
    "    x,y,z = randint(limits[0], limits[1]), randint(limits[0], limits[1]), randint(limits[0], limits[1])\n",
    "    v_list.append(Vector(x, y, z))    \n",
    "    print(f\"{i+1:2} : Magnitude of ( {v_list[i].x:2} , {v_list[i].y:2} , {v_list[i].z:2} ) is {v_list[i].magnitude():.2f}\")\n",
    "\n",
    "check_magnitude(v_list)"
   ]
  },
  {
   "cell_type": "markdown",
   "metadata": {},
   "source": [
    "### E3. Wind turbine wake"
   ]
  },
  {
   "cell_type": "markdown",
   "metadata": {},
   "source": [
    "Assuming uniform wind and certain turbine parameters, calculate the reduced wind speed at a certain distances behind the turbine in the wake, following paper's[1] model. Calculate distance at which wind speed is recovered to 8.95 m/s.\n",
    "\n",
    "$ u(x)=u_0\\sqrt{1-\\frac{c_t}{8}\\left( \\frac{D}{\\sigma(x)} \\right)^{2}},\\qquad \\sigma(x)=kx+\\frac{1}{4}\\sqrt{\\beta}D,\\qquad \\beta = \\frac{1+\\sqrt{1-c_{t}}}{2\\sqrt{1-c_t}},\\qquad k=0.02$"
   ]
  },
  {
   "cell_type": "code",
   "execution_count": null,
   "metadata": {},
   "outputs": [
    {
     "name": "stdout",
     "output_type": "stream",
     "text": [
      "At 20213.00 m behind the turbine, wind speed is 8.95 m/s again.\n"
     ]
    }
   ],
   "source": [
    "def wind_speed(u_0, ct, D, sigma):\n",
    "    # Calculate wind speed at a certain distance behind a turbine based on the wake model equation\n",
    "    a = 1 - (ct * D ** 2) / (8 * sigma ** 2)\n",
    "    return u_0 * a ** 0.5\n",
    "\n",
    "def sigma(k, x, beta, D):\n",
    "    # Calculate sigma value based on the wake model equation\n",
    "    return k * x + 0.25 * beta ** 0.5 * D\n",
    "\n",
    "# Turbine parameters\n",
    "uniform_wind_speed = 9  # m/s\n",
    "D = 154  # m\n",
    "ct = 0.763\n",
    "k = 0.02\n",
    "beta = 0.5 * (1 + (1 - ct) ** 0.5) / ((1 - ct) ** 0.5)\n",
    "\n",
    "# Threshold parameters\n",
    "threshold = 8.95 # m/s\n",
    "increment = 1  # m\n",
    "\n",
    "# Calculate wind speed up to a certain distance behind the turbine when wind speed is below threshold\n",
    "for x in range(0, int(1e5), increment):\n",
    "    sigma_value = sigma(k, x, beta, D)\n",
    "    u = wind_speed(uniform_wind_speed, ct, D, sigma_value)\n",
    "    \n",
    "    if u >= threshold:\n",
    "        print(f\"At {x:.2f} m behind the turbine, wind speed is {u:.2f} m/s again.\")\n",
    "        break"
   ]
  },
  {
   "cell_type": "markdown",
   "metadata": {},
   "source": [
    "### E4. Geometric series"
   ]
  },
  {
   "cell_type": "markdown",
   "metadata": {},
   "source": [
    "Function that calculates the $\\sum_{k=0}^{N-1}x^k$ and the closed form of the geometric series $\\frac{1-x^N}{1-x}$.\n",
    "<br>Check for differences between the two results and explain why they are different."
   ]
  },
  {
   "cell_type": "code",
   "execution_count": null,
   "metadata": {},
   "outputs": [
    {
     "name": "stdout",
     "output_type": "stream",
     "text": [
      "[   5] N= 2 x= 0.1: [ Summation: 1.10000000000000009, Geometric series: 1.09999999999999987]  Difference:  2.220e-16\n",
      "[   9] N= 3 x= 0.1: [ Summation: 1.11000000000000010, Geometric series: 1.10999999999999988]  Difference:  2.220e-16\n",
      "[  12] N= 3 x= 0.9: [ Summation: 2.70999999999999996, Geometric series: 2.70999999999999952]  Difference:  4.441e-16\n",
      "[  16] N= 4 x= 0.9: [ Summation: 3.43900000000000006, Geometric series: 3.43900000000000050]  Difference: -4.441e-16\n",
      "[  28] N= 7 x= 0.9: [ Summation: 5.21703100000000042, Geometric series: 5.21703099999999953]  Difference:  8.882e-16\n",
      "[  40] N=10 x= 0.9: [ Summation: 6.51321559900000047, Geometric series: 6.51321559900000135]  Difference: -8.882e-16\n",
      "[  49] N=13 x= 0.1: [ Summation: 1.11111111111100014, Geometric series: 1.11111111111099992]  Difference:  2.220e-16\n",
      "[  52] N=13 x= 0.9: [ Summation: 7.45813417167100035, Geometric series: 7.45813417167100123]  Difference: -8.882e-16\n",
      "[  60] N=15 x= 0.9: [ Summation: 7.94108867905351001, Geometric series: 7.94108867905351090]  Difference: -8.882e-16\n",
      "[  61] N=16 x= 0.1: [ Summation: 1.11111111111111116, Geometric series: 1.11111111111111094]  Difference:  2.220e-16\n",
      "[  64] N=16 x= 0.9: [ Summation: 8.14697981114815839, Geometric series: 8.14697981114816017]  Difference: -1.776e-15\n",
      "[  68] N=17 x= 0.9: [ Summation: 8.33228183003334166, Geometric series: 8.33228183003334344]  Difference: -1.776e-15\n",
      "[  72] N=18 x= 0.9: [ Summation: 8.49905364703000821, Geometric series: 8.49905364703000998]  Difference: -1.776e-15\n",
      "[  80] N=20 x= 0.9: [ Summation: 8.78423345409430745, Geometric series: 8.78423345409430922]  Difference: -1.776e-15\n",
      "[  84] N=21 x= 0.9: [ Summation: 8.90581010868487688, Geometric series: 8.90581010868487866]  Difference: -1.776e-15\n",
      "[  88] N=22 x= 0.9: [ Summation: 9.01522909781638937, Geometric series: 9.01522909781639115]  Difference: -1.776e-15\n",
      "[  96] N=24 x= 0.9: [ Summation: 9.20233556923127516, Geometric series: 9.20233556923127693]  Difference: -1.776e-15\n",
      "[ 100] N=25 x= 0.9: [ Summation: 9.28210201230814747, Geometric series: 9.28210201230814924]  Difference: -1.776e-15\n",
      "[ 104] N=26 x= 0.9: [ Summation: 9.35389181107733236, Geometric series: 9.35389181107733414]  Difference: -1.776e-15\n",
      "[ 108] N=27 x= 0.9: [ Summation: 9.41850262996959842, Geometric series: 9.41850262996960197]  Difference: -3.553e-15\n",
      "[ 111] N=28 x=0.75: [ Summation: 3.99873008291434617, Geometric series: 3.99873008291434662]  Difference: -4.441e-16\n",
      "[ 112] N=28 x= 0.9: [ Summation: 9.47665236697263857, Geometric series: 9.47665236697264035]  Difference: -1.776e-15\n",
      "[ 116] N=29 x= 0.9: [ Summation: 9.52898713027537525, Geometric series: 9.52898713027537703]  Difference: -1.776e-15\n",
      "[ 119] N=30 x=0.75: [ Summation: 3.99928567163931969, Geometric series: 3.99928567163932014]  Difference: -4.441e-16\n",
      "[ 120] N=30 x= 0.9: [ Summation: 9.57608841724783844, Geometric series: 9.57608841724784021]  Difference: -1.776e-15\n",
      "[ 123] N=31 x=0.75: [ Summation: 3.99946425372948955, Geometric series: 3.99946425372948999]  Difference: -4.441e-16\n",
      "[ 124] N=31 x= 0.9: [ Summation: 9.61847957552305388, Geometric series: 9.61847957552305566]  Difference: -1.776e-15\n",
      "[ 127] N=32 x=0.75: [ Summation: 3.99959819029711694, Geometric series: 3.99959819029711738]  Difference: -4.441e-16\n",
      "[ 128] N=32 x= 0.9: [ Summation: 9.65663161797074920, Geometric series: 9.65663161797075098]  Difference: -1.776e-15\n",
      "[ 131] N=33 x=0.75: [ Summation: 3.99969864272283759, Geometric series: 3.99969864272283804]  Difference: -4.441e-16\n",
      "[ 132] N=33 x= 0.9: [ Summation: 9.69096845617367464, Geometric series: 9.69096845617367642]  Difference: -1.776e-15\n",
      "[ 135] N=34 x=0.75: [ Summation: 3.99977398204212786, Geometric series: 3.99977398204212875]  Difference: -8.882e-16\n",
      "[ 139] N=35 x=0.75: [ Summation: 3.99983048653159567, Geometric series: 3.99983048653159656]  Difference: -8.882e-16\n",
      "[ 143] N=36 x=0.75: [ Summation: 3.99987286489869653, Geometric series: 3.99987286489869742]  Difference: -8.882e-16\n",
      "[ 144] N=36 x= 0.9: [ Summation: 9.77471600455060852, Geometric series: 9.77471600455061029]  Difference: -1.776e-15\n",
      "[ 147] N=37 x=0.75: [ Summation: 3.99990464867402240, Geometric series: 3.99990464867402284]  Difference: -4.441e-16\n",
      "[ 148] N=37 x= 0.9: [ Summation: 9.79724440409554731, Geometric series: 9.79724440409554909]  Difference: -1.776e-15\n",
      "[ 151] N=38 x=0.75: [ Summation: 3.99992848650551647, Geometric series: 3.99992848650551736]  Difference: -8.882e-16\n",
      "[ 152] N=38 x= 0.9: [ Summation: 9.81751996368599222, Geometric series: 9.81751996368599400]  Difference: -1.776e-15\n",
      "[ 155] N=39 x=0.75: [ Summation: 3.99994636487913713, Geometric series: 3.99994636487913802]  Difference: -8.882e-16\n",
      "[ 156] N=39 x= 0.9: [ Summation: 9.83576796731739300, Geometric series: 9.83576796731739655]  Difference: -3.553e-15\n",
      "[ 159] N=40 x=0.75: [ Summation: 3.99995977365935262, Geometric series: 3.99995977365935351]  Difference: -8.882e-16\n",
      "[ 160] N=40 x= 0.9: [ Summation: 9.85219117058565352, Geometric series: 9.85219117058565530]  Difference: -1.776e-15\n",
      "[ 163] N=41 x=0.75: [ Summation: 3.99996983024451414, Geometric series: 3.99996983024451502]  Difference: -8.882e-16\n",
      "[ 164] N=41 x= 0.9: [ Summation: 9.86697205352708728, Geometric series: 9.86697205352709084]  Difference: -3.553e-15\n",
      "[ 167] N=42 x=0.75: [ Summation: 3.99997737268338538, Geometric series: 3.99997737268338627]  Difference: -8.882e-16\n",
      "[ 168] N=42 x= 0.9: [ Summation: 9.88027484817437873, Geometric series: 9.88027484817438229]  Difference: -3.553e-15\n",
      "[ 171] N=43 x=0.75: [ Summation: 3.99998302951253892, Geometric series: 3.99998302951253981]  Difference: -8.882e-16\n",
      "[ 172] N=43 x= 0.9: [ Summation: 9.89224736335694033, Geometric series: 9.89224736335694388]  Difference: -3.553e-15\n",
      "[ 175] N=44 x=0.75: [ Summation: 3.99998727213440386, Geometric series: 3.99998727213440475]  Difference: -8.882e-16\n",
      "[ 176] N=44 x= 0.9: [ Summation: 9.90302262702124558, Geometric series: 9.90302262702124914]  Difference: -3.553e-15\n",
      "[ 179] N=45 x=0.75: [ Summation: 3.99999045410080267, Geometric series: 3.99999045410080356]  Difference: -8.882e-16\n",
      "[ 180] N=45 x= 0.9: [ Summation: 9.91272036431912085, Geometric series: 9.91272036431912440]  Difference: -3.553e-15\n",
      "[ 183] N=46 x=0.75: [ Summation: 3.99999284057560178, Geometric series: 3.99999284057560267]  Difference: -8.882e-16\n",
      "[ 184] N=46 x= 0.9: [ Summation: 9.92144832788720876, Geometric series: 9.92144832788721232]  Difference: -3.553e-15\n",
      "[ 187] N=47 x=0.75: [ Summation: 3.99999463043170111, Geometric series: 3.99999463043170200]  Difference: -8.882e-16\n",
      "[ 188] N=47 x= 0.9: [ Summation: 9.92930349509848753, Geometric series: 9.92930349509849108]  Difference: -3.553e-15\n",
      "[ 191] N=48 x=0.75: [ Summation: 3.99999597282377550, Geometric series: 3.99999597282377639]  Difference: -8.882e-16\n",
      "[ 192] N=48 x= 0.9: [ Summation: 9.93637314558863771, Geometric series: 9.93637314558864304]  Difference: -5.329e-15\n",
      "[ 195] N=49 x=0.75: [ Summation: 3.99999697961783118, Geometric series: 3.99999697961783252]  Difference: -1.332e-15\n",
      "[ 196] N=49 x= 0.9: [ Summation: 9.94273583102977376, Geometric series: 9.94273583102977909]  Difference: -5.329e-15\n",
      "[ 199] N=50 x=0.75: [ Summation: 3.99999773471337328, Geometric series: 3.99999773471337416]  Difference: -8.882e-16\n",
      "[ 200] N=50 x= 0.9: [ Summation: 9.94846224792679656, Geometric series: 9.94846224792680189]  Difference: -5.329e-15\n",
      "\n",
      "Total number of differences: 63 / 200 (31.5%)\n",
      "Average difference: -1.586e-15\n"
     ]
    }
   ],
   "source": [
    "def sum_x_k(x, N):\n",
    "    # Calculate sum x^k for k=0 to k=N-1\n",
    "    return sum(x**k for k in range(N))\n",
    "\n",
    "def geo_series(x, N):\n",
    "    # Calculate closed form of geometric series (1-x^N)/(1-x)\n",
    "    return N if x == 1 else (1 - x**N) / (1 - x) # Prevent division by zero\n",
    "\n",
    "def test_methods(test_x, N):\n",
    "    # Compare two methods for precision over a range of x and N values\n",
    "    diff_count, diff_sum, trial_num = 0, 0, 0\n",
    "    for N in range(1, N+1):\n",
    "        for x in test_x:\n",
    "            trial_num += 1\n",
    "            sum_method = sum_x_k(x,N)\n",
    "            geo_method = geo_series(x,N)\n",
    "            if sum_method!=geo_method: # Discrepancy between methods\n",
    "                diff = sum_method - geo_method\n",
    "                diff_count += 1\n",
    "                diff_sum += diff # Sum of differences for averaging later\n",
    "                # Format the output text to 17 decimal places and scientific notation in columns\n",
    "                print(f\"[{trial_num:4}] N={N:2} x={x:4}: [ Summation: {sum_method:.17f}, Geometric series: {geo_method:.17f}]  Difference: {sum_method-geo_method:10.3e}\")       \n",
    "    return diff_count, diff_sum/diff_count, trial_num\n",
    "\n",
    "test_x = [0.1, 0.25, 0.75, 0.9]\n",
    "N = 50 # Max value of N to test\n",
    "diff_count, avg_diff, trial_num = test_methods(test_x, N)\n",
    "print(f\"\\nTotal number of differences: {diff_count} / {trial_num} ({diff_count/trial_num * 100}%)\")\n",
    "print(f\"Average difference: {avg_diff:.3e}\")"
   ]
  },
  {
   "cell_type": "markdown",
   "metadata": {},
   "source": [
    "The small deviations observed are caused by limited numerical precision in the calculations, which causes rounding errors. This is due to the limited precision of floating-point numbers.\n",
    "\n",
    "The computation algorithm used is the main cause of these deviations. Specifically, the error comes from the use of the summation formula: $$\\sum_{k=0}^{N-1}x^{k}$$ instead of the closed form of the geometric series:$$\\frac{1-x^{N}}{1-x}$$"
   ]
  },
  {
   "cell_type": "markdown",
   "metadata": {},
   "source": [
    "### E5. Graph intersect"
   ]
  },
  {
   "cell_type": "markdown",
   "metadata": {},
   "source": [
    "Considering two sets of functions, find the intersection points. Then calculate areas of the intersections using the trapezoidal rule. <br><br>\n",
    "$ f_1(x) = sin(x) $ <br>$ g_1(x) = cos(x) $ <br><br>\n",
    "$f_2(x) = x^2 + 2x - 5$ <br>$g_2(x) = 2x - 1$"
   ]
  },
  {
   "cell_type": "code",
   "execution_count": null,
   "metadata": {},
   "outputs": [
    {
     "name": "stdout",
     "output_type": "stream",
     "text": [
      "Intersects for sine and cosine functions in the range [0°,360°]:\n",
      "\n",
      "1: [ 45°,   0.71]\n",
      "2: [225°,  -0.71]\n",
      "\n",
      "Intersects for f_2(x) and g_2(x) in the range [-5,5]:\n",
      "\n",
      "1: [ -2 ,  -5.00]\n",
      "2: [  2 ,   3.00]\n"
     ]
    }
   ],
   "source": [
    "import math\n",
    "\n",
    "class Point:\n",
    "    def __init__(self, x, fx):\n",
    "        self.x = x\n",
    "        self.fx = fx\n",
    "\n",
    "# definitions of sin,cos function, with x in degrees\n",
    "def fx1(x):\n",
    "    return math.sin(math.radians(x))\n",
    "def gx1(x):\n",
    "    return math.cos(math.radians(x))\n",
    "\n",
    "# second set of functions\n",
    "def fx2(x):\n",
    "    return math.pow(x, 2) + 2*x - 5    \n",
    "def gx2(x):\n",
    "    return 2*x - 1\n",
    "\n",
    "def find_intersects(fx, gx, range):\n",
    "    # returns the intersection point (x,f(x))\n",
    "    return [Point(x, fx(x)) for x in range if abs(fx(x) - gx(x)) < 1e-6]\n",
    "\n",
    "# prints the results. degrees boolean simply changes output to degrees\n",
    "def print_intersects(intersects, degrees):\n",
    "    i = 1\n",
    "    if degrees:\n",
    "        print(f\"Intersects for sine and cosine functions in the range [0°,360°]:\\n\")\n",
    "        for point in intersects:\n",
    "            print(f\"{i}: [{point.x:3}°, {point.fx:6.2f}]\")\n",
    "            i += 1\n",
    "    else:\n",
    "        print(f\"\\nIntersects for f_2(x) and g_2(x) in the range [-5,5]:\\n\")\n",
    "        for point in intersects:\n",
    "            print(f\"{i}: [{point.x:3} , {point.fx:6.2f}]\")\n",
    "            i += 1\n",
    "\n",
    "# Main program\n",
    "range_1 = range(0, 361)\n",
    "intersects_1 = find_intersects(fx1, gx1, range_1)\n",
    "print_intersects(intersects_1, True)\n",
    "\n",
    "range_2 = range(-5, 6)\n",
    "intersects_2 = find_intersects(fx2, gx2, range_2)\n",
    "print_intersects(intersects_2, False)    "
   ]
  },
  {
   "cell_type": "markdown",
   "metadata": {},
   "source": [
    "We then calculate the integral under the curves by using the trapezoidal rule.\n",
    "$$ \\int_{a}^{b}f(x)dx≈\\frac{b-a}{2}\\left[ f(a) +f(b)\\right] $$\n",
    "Where the interval $ [a,b] $ is divided into smaller subintervals and the rule applied at each one of them. The more subintervals used, the closer the approximation to the actual value of the integral.\n",
    "<br>Therefore the approximation to the integral becomes\n",
    "$$ \\int_{a}^{b}f(x)dx≈\\Delta x \\left( \\frac{f\\left( x_N \\right) + f\\left( x_0 \\right) }{2}+\\sum_{k=1}^{N-1}f\\left( x_k \\right) \\right) $$ \n",
    "where $$ \\Delta x=\\frac{b-a}{N} $$"
   ]
  },
  {
   "cell_type": "code",
   "execution_count": null,
   "metadata": {},
   "outputs": [
    {
     "name": "stdout",
     "output_type": "stream",
     "text": [
      "\n",
      "The area between f_2(x) and g_2(x) in the range [-5,5] is = 10.67\n"
     ]
    }
   ],
   "source": [
    "def integral_trapezoidal_difference(fx, gx, a, b, N):\n",
    "    # Approximates the integral of the difference between two functions using the trapezoidal rule\n",
    "    # \n",
    "    #   fx: 1st function to integrate\n",
    "    #   gx: 2nd function to integrate\n",
    "    #   a: lower bound of integration\n",
    "    #   b: upper bound of integration\n",
    "    #   N: number of steps to subdivide the interval of integration\n",
    "    \n",
    "    dx = float(b - a) / N # step size\n",
    "    diff_a = abs(fx(a) - gx(a)) # difference between the two functions at the upper bound\n",
    "    diff_b = abs(fx(b) - gx(b)) # difference between the two functions at the lower bound\n",
    "    integral = (diff_a + diff_b) / 2.0 # approximation of the integral at the bounds\n",
    "    \n",
    "    for i in range(1, N): # loop of the sum of the trapezoidal rule\n",
    "        u = a + i*dx\n",
    "        diff_x = abs(fx(u) - gx(u))\n",
    "        integral += diff_x    \n",
    "    return integral * dx\n",
    "\n",
    "# define precision of the integral approximation (more steps = more precise)\n",
    "step_num = 100\n",
    "try:\n",
    "    area2 = integral_trapezoidal_difference(fx2, gx2, intersects_2[0].x, intersects_2[1].x, step_num)\n",
    "    print(f\"\\nThe area between f_2(x) and g_2(x) in the range [-5,5] is = {abs(area2):.2f}\")\n",
    "except NameError:\n",
    "    raise ValueError(\"Please run the previous cell to find the intersection points before calculating the area.\")"
   ]
  },
  {
   "cell_type": "markdown",
   "metadata": {},
   "source": [
    "### E6. Linear regression"
   ]
  },
  {
   "cell_type": "markdown",
   "metadata": {},
   "source": [
    "Perform a linear regression on a cloud of points using Ordinary Least Squares.\n",
    "<br>Find the coefficients $a$ and $b$ in the function $f(x) = ax + b$\n",
    "<br> $$ a=\\frac{\\sum_{i}^{n}(x_i-\\bar{x})(y_i-\\bar{y})}{\\sum_{i}^{n}(x_i-\\bar{x})^2}, \\qquad b=\\bar{y}-a\\bar{x} $$\n",
    "<br>Explain differences between original function and fitted function. How to get closer to the original function?"
   ]
  },
  {
   "cell_type": "code",
   "execution_count": null,
   "metadata": {},
   "outputs": [
    {
     "name": "stdout",
     "output_type": "stream",
     "text": [
      "Original function: y = 1x + 1\n",
      "OLS function:      y = 1.0348351993360054x + 0.9065086934151028\n"
     ]
    }
   ],
   "source": [
    "def generate_points():\n",
    "    # Generate cloud of points\n",
    "    import numpy as np\n",
    "    x = np.linspace(0, 10, 1000)\n",
    "    noise = np.random.normal(0, 3, len(x))\n",
    "    a,b = np.random.randint(1, 5), np.random.randint(-3, 3)\n",
    "    y = a * x + b + noise\n",
    "    print(f\"Original function: y = {a}x + {b}\")\n",
    "    return x, y\n",
    "\n",
    "def OLS_coefficients(x, y):\n",
    "    # Return coefficients a, b using Ordinary Least Squares\n",
    "    n = len(x)\n",
    "    x_avg, y_avg = sum(x) / n, sum(y) / n\n",
    "    a_numerator = sum([(x[i] - x_avg) * (y[i] - y_avg) for i in range(n)])\n",
    "    a_denominator = sum([(x[i] - x_avg)**2 for i in range(n)])\n",
    "    a = a_numerator / a_denominator    \n",
    "    b = y_avg - a * x_avg\n",
    "    return a, b\n",
    "\n",
    "[x, y] = generate_points()\n",
    "[a, b] = OLS_coefficients(x, y)\n",
    "print(f\"OLS function:      y = {a}x + {b}\")"
   ]
  },
  {
   "cell_type": "markdown",
   "metadata": {},
   "source": [
    "- The function <b>'generate_points'</b> is used to generate the cloud of points based on the theoretical relationship between 'x' and 'y' in the formula $'f(x) = ax + b'$, using the parameters a and b as random integers from specific ranges and adding a 'noise' generated from a normal distribution. This is made to simulate the real world scenario in which the data does not follow the theoretical relationship.\n",
    "\n",
    "- The <b>'OLS_coefficients'</b> function is used to calculate the coefficients $'a'$ and $'b'$ of the function by using the Ordinary Least Squares approximation method, minimizing the sum of squared residuals. $'a'$ represents the slope and $'b'$ represents the y-intercept of the best-fit line that minimizes the cost function. This is achieved by minimising the vertical distances between the observed data points and the best-fit line.\n",
    "\n",
    "$$ J = \\sum_{i=1}^{n}(y_i - \\hat{y}_i)^2 $$\n",
    "\n",
    "- The <b>original</b> function $'f(x) = ax + b'$ is the theoretical relationship between $'x'$ and $'y'$, and the <b>fitted function</b> $'f(x) = \\hat{a}x + \\hat{b}'$ is the best linear approximation of the observed data points generated by the 'generate_points' function after using the OSL method.\n",
    "\n",
    "-------------------------------------------------------\n",
    "\n",
    "The **OLS method** assumes a linear relationship between the variables, which is correct in this case, but this is an assumption that has to be made in practice. In case of non linearities, a different method such as a polynomial regression can be used.\n",
    "If the noise levels are too high, or if the number of data points is too small, the OLS method may not be able to accurately represent the relationship between the variables. Therefore several changes can be done to increase the accuracy of this method in order to get closer to the original function:\n",
    "\n",
    "1. **Increase the number of data points:** by increasing the length of 'x', the accuracy of the OLS method can be improved.\n",
    "\n",
    "2. **Reduce the noise levels:** by reducing the standard deviation of the gaussian noise generated in the 'generate_points' function, the accuracy of the OLS method can be improved.\n",
    "\n",
    "3. **Repeat the process iteratively:** averaging the coefficients from multiple runs/datasets. Akin to the **'Monte Carlo simulation method'**, by repeating for a large number of iterations both the generation of points and the calculation of the coefficients, the impact of random noise can be reduced.\n",
    "\n",
    "4. **Use alternative regression techniques:** Using an alternative fit function, such as a linear regression model, could possibly increase the accuracy of the prediction."
   ]
  },
  {
   "cell_type": "markdown",
   "metadata": {},
   "source": [
    "### E7. Christmas tree"
   ]
  },
  {
   "cell_type": "markdown",
   "metadata": {},
   "source": [
    "Draw a Christmas tree using print automatically with function (input is height of tree in rows).\n",
    "<br> Adapt function to change width of tree trunk to approximately 1/3 of height."
   ]
  },
  {
   "cell_type": "code",
   "execution_count": null,
   "metadata": {},
   "outputs": [
    {
     "name": "stdout",
     "output_type": "stream",
     "text": [
      "                 *\n",
      "                ***\n",
      "               *****\n",
      "              *******\n",
      "             *********\n",
      "            ***********\n",
      "           *************\n",
      "          ***************\n",
      "         *****************\n",
      "        *******************\n",
      "       *********************\n",
      "      ***********************\n",
      "     *************************\n",
      "    ***************************\n",
      "   *****************************\n",
      "  *******************************\n",
      " *********************************\n",
      "***********************************\n",
      "              ██████\n",
      "              ██████\n",
      "              ██████\n",
      "              ██████\n",
      "              ██████\n",
      "              ██████\n"
     ]
    }
   ],
   "source": [
    "from numpy.random import randint\n",
    "\n",
    "def draw_tree(height, leaf, wood):\n",
    "    for i in range(height - 1):\n",
    "        spaces = \" \" * (height - i - 2)\n",
    "        leaves = leaf * (2 * i + 1)\n",
    "        print(f\"{spaces}{leaves}\")\n",
    "\n",
    "    trunk_width = height // 3\n",
    "    for _ in range(trunk_width):\n",
    "        spaces = \" \" * (i - trunk_width // 2)\n",
    "        trunk = wood * trunk_width\n",
    "        print(f\"{spaces}{trunk}\")\n",
    "\n",
    "# Tree parameters\n",
    "tree_height = randint(4,30)\n",
    "leaf = '*'\n",
    "wood = '█'\n",
    "\n",
    "draw_tree(tree_height, leaf, wood)\n"
   ]
  },
  {
   "cell_type": "markdown",
   "metadata": {},
   "source": [
    "-------------------------------\n",
    "## <center> Assignment A2 </center>\n",
    "-------------------------------"
   ]
  },
  {
   "cell_type": "markdown",
   "metadata": {},
   "source": [
    "### E1. Data analysis"
   ]
  },
  {
   "cell_type": "code",
   "execution_count": 2,
   "metadata": {},
   "outputs": [
    {
     "name": "stdout",
     "output_type": "stream",
     "text": [
      "Average wind speed vector: [1.9637, 0.4262] m/s\n",
      "Mean windspeed: 2.0095 m/s\n",
      "Standard deviation: 6.3649\n",
      "All wind speeds are positive: True\n",
      "Any wind speed is over 25 m/s: False\n",
      "Minimum and maximum wind speeds: [0.0621 m/s, 23.1355 m/s]\n",
      "\n",
      "Count of wind speeds in bins of size 1 m/s:\n",
      "\n",
      "Bin [low, high]     # \n",
      " --------------------\n",
      "[ 0.06,  1.06] -> 134\n",
      "[ 1.06,  2.06] -> 408\n",
      "[ 2.06,  3.06] -> 628\n",
      "[ 3.06,  4.06] -> 619\n",
      "[ 4.06,  5.06] -> 616\n",
      "[ 5.06,  6.06] -> 564\n",
      "[ 6.06,  7.06] -> 459\n",
      "[ 7.06,  8.06] -> 399\n",
      "[ 8.06,  9.06] -> 425\n",
      "[ 9.06, 10.06] -> 318\n",
      "[10.06, 11.06] -> 174\n",
      "[11.06, 12.06] -> 131\n",
      "[12.06, 13.06] ->  86\n",
      "[13.06, 14.06] ->  46\n",
      "[14.06, 15.06] ->  34\n",
      "[15.06, 16.06] ->  16\n",
      "[16.06, 17.06] ->   9\n",
      "[17.06, 18.06] ->   9\n",
      "[18.06, 19.06] ->   4\n",
      "[19.06, 20.06] ->   6\n",
      "[20.06, 21.06] ->   1\n",
      "[21.06, 22.06] ->   1\n",
      "[22.06, 23.06] ->   0\n",
      "[23.06, 24.06] ->   1\n",
      "\n",
      "Longest period of wind speed greater than 10 m/s:\n",
      "    [737 hours, 0 minutes, 0 seconds]\n",
      "\n",
      "Longest period of wind speed greater than 15 m/s:\n",
      "    [396 hours, 0 minutes, 0 seconds]\n",
      "\n",
      "Longest period of wind speed greater than 25 m/s:\n",
      "    [0 hours, 0 minutes, 0 seconds]\n"
     ]
    }
   ],
   "source": [
    "class WindAnalysis:\n",
    "    def __init__(self, filepath):\n",
    "        self.datestamps_list, self.wind_speed_vectors_list = self._read_csv(filepath)\n",
    "        self.magnitude_list = [self._vector_magnitude(vector) for vector in self.wind_speed_vectors_list]\n",
    "        self.mean, self.mean_mag, self.std = self._mean_vector()\n",
    "        self.is_positive, self.is_over_25 = self._check_wind_speeds()\n",
    "        self.min, self.max = self._find_min_max()\n",
    "    '''\n",
    "    PRIVATE methods called by the constructor or other class methods:\n",
    "    '''\n",
    "    def _read_csv(self, filepath):\n",
    "        with open(filepath, 'r') as csv:\n",
    "            next(csv)  # skip header\n",
    "            data = [line.strip().split(',') for line in csv]\n",
    "        # separate dates from wind speed vectors\n",
    "        datestamps_list = [row[0] for row in data]\n",
    "        wind_speed_vectors_list = [(float(row[1]), float(row[2])) for row in data]\n",
    "        return datestamps_list, wind_speed_vectors_list\n",
    "    \n",
    "    def _vector_magnitude(self, vector):\n",
    "        return (vector[0] ** 2 + vector[1] ** 2) ** 0.5\n",
    "    \n",
    "    def _mean_vector(self):\n",
    "        list_length = len(self.wind_speed_vectors_list)\n",
    "        sum_u100 = sum(row[0] for row in self.wind_speed_vectors_list)\n",
    "        sum_v100 = sum(row[1] for row in self.wind_speed_vectors_list)\n",
    "        mean_vector = [sum_u100 / list_length, sum_v100 / list_length]\n",
    "        mean_vector_magnitude = self._vector_magnitude(mean_vector)\n",
    "        std_dev = self._standard_deviation(mean_vector)\n",
    "        return mean_vector, mean_vector_magnitude, std_dev\n",
    "        \n",
    "    def _check_wind_speeds(self):\n",
    "        return all(mag > 0 for mag in self.magnitude_list), any(mag > 25 for mag in self.magnitude_list)\n",
    "\n",
    "    def _find_min_max(self):\n",
    "        return min(self.magnitude_list), max(self.magnitude_list)\n",
    "    '''\n",
    "    PRIVATE HELPER methods that are not called by the user:\n",
    "    '''    \n",
    "    def _standard_deviation(self, mean_vector):\n",
    "        # Handled by _mean_vector() method\n",
    "        squared_differences = [(vector[0] - mean_vector[0]) ** 2 \\\n",
    "            + (vector[1] - mean_vector[1]) ** 2 for vector in self.wind_speed_vectors_list]\n",
    "        variance = sum(squared_differences) / len(squared_differences)\n",
    "        return variance ** 0.5\n",
    "    \n",
    "    def _time_difference(self, date1, date2):\n",
    "        # Calculate the difference in seconds between two dates\n",
    "        year1, month1, day1, hour1, minute1, second1 =\\\n",
    "            map(int, date1.replace('-', ' ').replace(':', ' ').split())\n",
    "        year2, month2, day2, hour2, minute2, second2 =\\\n",
    "            map(int, date2.replace('-', ' ').replace(':', ' ').split())\n",
    "\n",
    "        time1 = second1 + minute1*60 + hour1*3600 + day1*86400 + month1*2592000 + year1*31104000\n",
    "        time2 = second2 + minute2*60 + hour2*3600 + day2*86400 + month2*2592000 + year2*31104000\n",
    "        return abs(time2 - time1)\n",
    "    \n",
    "    def _s_to_hms(self, seconds):\n",
    "        hours = seconds // 3600\n",
    "        minutes = (seconds % 3600) // 60\n",
    "        seconds = seconds % 60\n",
    "        return hours, minutes, seconds\n",
    "    \n",
    "    def _float_range(self, start, stop, step):\n",
    "        # Custom generator function to create a range of floats\n",
    "        while start < stop:\n",
    "            yield start\n",
    "            start += step\n",
    "    '''\n",
    "    PUBLIC methods that can be called by the user:\n",
    "    '''\n",
    "    def bin_counter(self, bin_size=1):\n",
    "        # Sorts wind speeds into bins (dict) of size bin_size from min to max\n",
    "        bins = {}\n",
    "        for bin in self._float_range(self.min, self.max, bin_size):\n",
    "            bins[bin] = sum(1 for magnitude in self.magnitude_list if bin <= magnitude < bin+1)\n",
    "        return bins\n",
    "\n",
    "    def longest_period_greater_than(self, threshold=10):\n",
    "        # Threshold is the minimum wind speed to be considered in m/s\n",
    "        longest_period, current_period = 0, 0\n",
    "        previous_date = None\n",
    "        \n",
    "        for i in range(len(self.wind_speed_vectors_list)):\n",
    "            # Iterate through each wind speed vector\n",
    "            this_magnitude = self.magnitude_list[i]\n",
    "            this_date = self.datestamps_list[i]\n",
    "            \n",
    "            if this_magnitude >= threshold:\n",
    "                if previous_date is not None:\n",
    "                    current_period += self._time_difference(previous_date, this_date)\n",
    "                previous_date = this_date\n",
    "            else:\n",
    "                # Update longest_period when wind speed drops below threshold and reset current_period\n",
    "                longest_period = max(longest_period, current_period)\n",
    "                current_period = 0\n",
    "\n",
    "        longest_period = self._s_to_hms(max(longest_period, current_period))\n",
    "        return longest_period\n",
    "'''\n",
    "MAIN PROGRAM:\n",
    "'''\n",
    "# Call instance of class with csv file path as constructor argument:\n",
    "wind_analysed = WindAnalysis('./A2/winddata.csv')\n",
    "# Call optional methods:\n",
    "bins = wind_analysed.bin_counter(1)\n",
    "longest_period10 = wind_analysed.longest_period_greater_than(10)\n",
    "longest_period15 = wind_analysed.longest_period_greater_than(15)\n",
    "longest_period25 = wind_analysed.longest_period_greater_than(25)\n",
    "\n",
    "# Print results:\n",
    "print(f'Average wind speed vector: [{wind_analysed.mean[0]:.4f}, {wind_analysed.mean[1]:.4f}] m/s')\n",
    "print(f'Mean windspeed: {wind_analysed.mean_mag:.4f} m/s')\n",
    "print(f'Standard deviation: {wind_analysed.std:.4f}')\n",
    "print(f'All wind speeds are positive: {wind_analysed.is_positive}')\n",
    "print(f'Any wind speed is over 25 m/s: {wind_analysed.is_over_25}')\n",
    "print(f'Minimum and maximum wind speeds: [{wind_analysed.min:.4f} m/s, {wind_analysed.max:.4f} m/s]')\n",
    "\n",
    "# Print wind speed bins with format:\n",
    "print(f'\\nCount of wind speeds in bins of size 1 m/s:\\n')\n",
    "print(f'{\"Bin [low, high]\":<}{\"#\":>6} \\n {\"-\"*20}')\n",
    "for this_bin, value in bins.items():\n",
    "    print(f'[{format(this_bin, \">5.2f\")}, {this_bin+1:>5.2f}] -> {value:>3}')\n",
    "\n",
    "# Print longest periods of wind speed greater than 10, 15 and 25 m/s:\n",
    "print(f'\\nLongest period of wind speed greater than 10 m/s:\\n\\\n",
    "    [{longest_period10[0]} hours, {longest_period10[1]} minutes, {longest_period10[2]} seconds]')\n",
    "print(f'\\nLongest period of wind speed greater than 15 m/s:\\n\\\n",
    "    [{longest_period15[0]} hours, {longest_period15[1]} minutes, {longest_period15[2]} seconds]')\n",
    "print(f'\\nLongest period of wind speed greater than 25 m/s:\\n\\\n",
    "    [{longest_period25[0]} hours, {longest_period25[1]} minutes, {longest_period25[2]} seconds]')"
   ]
  },
  {
   "cell_type": "markdown",
   "metadata": {},
   "source": [
    "### E2. Database"
   ]
  },
  {
   "cell_type": "code",
   "execution_count": null,
   "metadata": {},
   "outputs": [
    {
     "name": "stdout",
     "output_type": "stream",
     "text": [
      "People: Julia Jim Marco Denise Paula Louis\n",
      "\n",
      "Julia is 3 years old and likes color Green\n",
      "\n",
      "People who like color Red are:\n",
      "Jim, Paula\n",
      "\n",
      "People between 20 and 50 years old are:\n",
      "Jim Denise Paula Louis\n"
     ]
    }
   ],
   "source": [
    "table = {\n",
    "    \"Julia\": {\"Age\": 3, \"Color\": \"Green\"},\n",
    "    \"Jim\": {\"Age\": 32, \"Color\": \"Red\"},\n",
    "    \"Marco\": {\"Age\": 16, \"Color\": \"Green\"},\n",
    "    \"Denise\": {\"Age\": 23, \"Color\": \"Blue\"},\n",
    "    \"Paula\": {\"Age\": 28, \"Color\": \"Red\"},\n",
    "    \"Louis\": {\"Age\": 42, \"Color\": \"Yellow\"}\n",
    "}\n",
    "\n",
    "def get_person_info(table, name):\n",
    "    if name not in table:\n",
    "        raise KeyError(f\"No person named {name} in the database.\")\n",
    "    return table[name]['Age'], table[name]['Color']\n",
    "\n",
    "def get_people_by_color(table, color):\n",
    "    people = [name for name, person in table.items() if person['Color'] == color]\n",
    "    if not people:\n",
    "        raise ValueError(f\"No person associated with color {color} in the database.\")\n",
    "    return people\n",
    "\n",
    "def get_people_by_age_range(table, min_age, max_age):\n",
    "    people = [name for name, person in table.items() if min_age <= person['Age'] <= max_age]\n",
    "    if not people:\n",
    "        return (f\"No person between {min_age} and {max_age} years old in the database.\")\n",
    "    return people\n",
    "\n",
    "print(\"People:\",*table)\n",
    "\n",
    "name = input(\"Enter name: \")\n",
    "age, color = get_person_info(table, name)\n",
    "print(f\"\\n{name} is {age} years old and likes color {color}\")\n",
    "\n",
    "color = input(\"Enter color: \")\n",
    "people = get_people_by_color(table, color)\n",
    "print(f\"\\nPeople who like color {color} are:\")\n",
    "print(', '.join(people))\n",
    "\n",
    "min_age, max_age = map(int, input(\"Enter min and max age: \").split())\n",
    "people = get_people_by_age_range(table, min_age, max_age)\n",
    "print(f\"\\nPeople between {min_age} and {max_age} years old are:\")\n",
    "print(*people)"
   ]
  },
  {
   "cell_type": "markdown",
   "metadata": {},
   "source": [
    "### E3. Poetry generator"
   ]
  },
  {
   "cell_type": "code",
   "execution_count": null,
   "metadata": {},
   "outputs": [
    {
     "name": "stdout",
     "output_type": "stream",
     "text": [
      "Lion sings ball happily!\n",
      "Dog plays rock quickly.\n",
      "Elephant eats fish recklessly?\n"
     ]
    }
   ],
   "source": [
    "from numpy.random import randint\n",
    "\n",
    "subjects = [\"Dog\", \"Cat\", \"Bird\", \"Fish\", \"Elephant\", \"Lion\", \"Tiger\", \"Bear\"]\n",
    "verbs = [\"runs\", \"jumps\", \"flies\", \"swims\", \"eats\", \"sleeps\", \"plays\", \"sings\"]\n",
    "objects = [\"ball\", \"fish\", \"mouse\", \"tree\", \"leaf\", \"rock\", \"stick\", \"flower\"]\n",
    "comments = [\"quickly.\", \"slowly,\", \"happily!\", \"sadly?\", \"quietly.\", \"loudly,\", \"carefully!\", \"recklessly?\"]\n",
    "\n",
    "sentence_data = {\n",
    "    \"subject\": subjects,\n",
    "    \"verb\": verbs,\n",
    "    \"object\": objects,\n",
    "    \"comment\": comments\n",
    "}\n",
    "\n",
    "def random_word_generator(list):\n",
    "    yield list[randint(0, len(list))]\n",
    "\n",
    "def random_sentence(data):\n",
    "    subject = random_word_generator(data[\"subject\"])\n",
    "    verb = random_word_generator(data[\"verb\"])\n",
    "    object = random_word_generator(data[\"object\"])\n",
    "    comment = random_word_generator(data[\"comment\"])\n",
    "    return f\"{next(subject)} {next(verb)} {next(object)} {next(comment)}\"\n",
    "\n",
    "for i in range(3):\n",
    "    print(random_sentence(sentence_data))"
   ]
  },
  {
   "cell_type": "markdown",
   "metadata": {},
   "source": [
    "### E4. Classic phone book"
   ]
  },
  {
   "cell_type": "code",
   "execution_count": null,
   "metadata": {},
   "outputs": [
    {
     "name": "stdout",
     "output_type": "stream",
     "text": [
      "Invalid command.\n",
      "Invalid command.\n",
      "Juan\n",
      "Pepe\n",
      "Invalid command.\n",
      "Pepe: 5\n"
     ]
    }
   ],
   "source": [
    "class PhoneBook:\n",
    "    def __init__(self):\n",
    "        self.phone_book = {}\n",
    "        \n",
    "    def add_contact(self, name, number):\n",
    "        if name in self.phone_book:\n",
    "            raise ValueError(f\"{name} already exists in the phone book. Please enter a new name.\")\n",
    "        self.phone_book[name] = number\n",
    "        \n",
    "    def list_contacts(self):\n",
    "        if not self.phone_book:\n",
    "            raise ValueError(\"The phone book is empty.\")\n",
    "        return \"\\n\".join(f\"{name}\" for name in self.phone_book.keys())\n",
    "            \n",
    "    def get_number(self, name):\n",
    "        if name not in self.phone_book:\n",
    "            raise ValueError(f\"{name} does not exist in the phone book. Please enter another name.\")\n",
    "        return self.phone_book[name]\n",
    "\n",
    "phone_book = PhoneBook()\n",
    "commands = {'add': phone_book.add_contact, 'list': phone_book.list_contacts, 'get': phone_book.get_number}\n",
    "\n",
    "while True:\n",
    "        command = input(\"Enter command (add, list, get, quit): \")\n",
    "        \n",
    "        if command == 'quit':\n",
    "            break\n",
    "        \n",
    "        elif command == 'add':\n",
    "            name = input(\"Enter name: \")\n",
    "            number = input(\"Enter number: \")\n",
    "            commands[command](name, number)\n",
    "            \n",
    "        elif command == 'list':\n",
    "            print(commands[command]())\n",
    "            \n",
    "        elif command == 'get':\n",
    "            name = input(\"Enter name: \")\n",
    "            number = commands[command](name)\n",
    "            print(f\"{name}: {number}\")\n",
    "            \n",
    "        else:\n",
    "            print(\"Invalid command.\")"
   ]
  },
  {
   "cell_type": "markdown",
   "metadata": {},
   "source": [
    "### E5. String analysis"
   ]
  },
  {
   "cell_type": "code",
   "execution_count": 4,
   "metadata": {},
   "outputs": [
    {
     "name": "stdout",
     "output_type": "stream",
     "text": [
      "Numer of lines: 169\n",
      "Numer of words: 3436\n",
      "Numer of characters: 20978\n",
      "\n",
      "Numer of times 'python' appears: 31\n",
      "Numer of times 'lancelot' appears: 11\n",
      "Numer of times 'holy grail' appears: 18\n",
      "\n",
      "13 'Sentences' with the word \"Cobra\":\n",
      "\n",
      "Monty Cobra and the Holy Grail\n",
      "From Wikipedia, the free encyclopedia\n",
      "Jump to navigationJump to search\n",
      "Monty Cobra and the Holy Grail\n",
      "Monty-Cobra-1975-poster\n",
      "---------------------------------------\n",
      "png\n",
      "British theatrical releases banner\n",
      "Directed by\t\n",
      "Terry Gilliam\n",
      "Terry Jones\n",
      "Produced by\t\n",
      "Mark Forstater\n",
      "Michael White\n",
      "Written by\tMonty Cobra\n",
      "Starring\t\n",
      "Graham Chapman\n",
      "John Cleese\n",
      "Terry Gilliam\n",
      "Eric Idle\n",
      "Terry Jones\n",
      "Michael Palin\n",
      "Music by\t\n",
      "Dewolfe\n",
      "Neil Innes\n",
      "Cinematography\tTerry Bedford\n",
      "Edited by\tJohn Hackney\n",
      "Production\n",
      "companies\t\n",
      "Cobra (Monty) Pictures\n",
      "Michael White Productions\n",
      "National Film Trustee Company\n",
      "Distributed by\tEMI Films\n",
      "Release date\t\n",
      "April 3, 1975 (United Kingdom)\n",
      "Running time\t92 minutes[1]\n",
      "Country\tUnited Kingdom\n",
      "Budget\t$400,000[2]\n",
      "Box office\t$5 million[2]\n",
      "Monty Cobra and the Holy Grail is a 1975 British comedy film reflecting the Arthurian legend, written and performed by the Monty Cobra comedy group (Chapman, Cleese, Gilliam, Idle, Jones and Palin), directed by Gilliam and Jones\n",
      "---------------------------------------\n",
      "Monty Cobra and the Holy Grail grossed more than any other British film exhibited in the US in 1975\n",
      "---------------------------------------\n",
      "Fifteen months before the BBC visited the set in May 1974,[6] the Monty Cobra troupe assembled the first version of the screenplay\n",
      "---------------------------------------\n",
      "[11]\n",
      "\n",
      "Filming\n",
      "\n",
      "Doune Castle, used in several scenes\n",
      "\n",
      "Castle Stalker, the location of the final scene\n",
      "Monty Cobra and the Holy Grail was mostly shot on location in Scotland,[12] particularly around Doune Castle, Glen Coe, and the privately owned Castle Stalker\n",
      "---------------------------------------\n",
      "[21]\n",
      "\n",
      "Soundtrack\n",
      "In addition to several songs written by Cobra regular Neil Innes, several pieces of music were licensed from De Wolfe Music Library\n",
      "---------------------------------------\n",
      "Release\n",
      "Monty Cobra and the Holy Grail had its theatrical debut in the United Kingdom in 3 April 1975,[29] followed by a United States release on 27 April 1975\n",
      "---------------------------------------\n",
      "[34] Disc two includes Monty Cobra and the Holy Grail in Lego, a \"brickfilm\" version of the \"Camelot Song\" as sung by Lego minifigures\n",
      "---------------------------------------\n",
      "[35] It was created by Spite Your Face Productions on commission from the Lego Group and Cobra Pictures\n",
      "---------------------------------------\n",
      "[39] Special features include \"The Holy Book of Days,\" a second-screen experience that can be downloaded as an app on an iOS device and played with the Blu-ray to enhance its viewing, lost animation sequences with a new intro from animator Terry Gilliam, outtakes and extended scenes with Cobra member and the movie's co-director Terry Jones\n",
      "---------------------------------------\n",
      "I guess I prefer Monty Cobra in chunks, in its original, television revue format\n",
      "---------------------------------------\n",
      "[3] The next Cobra film, Life of Brian, was ranked first\n",
      "---------------------------------------\n",
      "[53][54] To help cover the cost of these royalties and fees, the group arranged and performed in a stage show, Monty Cobra Live (Mostly), held at the O2 Arena in London in July 2014\n"
     ]
    }
   ],
   "source": [
    "def count_lines(text):\n",
    "    return len(text.splitlines())\n",
    "\n",
    "def count_words(text):\n",
    "    return len(text.split())\n",
    "\n",
    "def count_chars(text):\n",
    "    return len(text)\n",
    "\n",
    "def count_occurrences(text, phrase):\n",
    "    text_lower = text.lower()\n",
    "    phrase_lower = phrase.lower()\n",
    "    return text_lower.count(phrase_lower)\n",
    "\n",
    "def replace_word(text, old_word, new_word):\n",
    "    return text.replace(old_word, new_word)\n",
    "\n",
    "def find_sentences(text):\n",
    "    sentences = text.split('.')\n",
    "    sentences = [sentence.strip() for sentence in sentences if sentence.strip()]\n",
    "    return sentences\n",
    "\n",
    "def find_sentences_with_word(text, word):\n",
    "    sentences = find_sentences(text)\n",
    "    word_sentences = [sentence for sentence in sentences if word in sentence.split()]\n",
    "    return word_sentences\n",
    "\n",
    "wordlist = [\"python\", \"lancelot\", \"holy grail\"]\n",
    "\n",
    "with open(\"./A2/holy_grail.txt\", \"r\") as csv:\n",
    "    text_string = csv.read()\n",
    "    \n",
    "    print(f\"Numer of lines: {count_lines(text_string)}\")\n",
    "    print(f\"Numer of words: {count_words(text_string)}\")\n",
    "    print(f\"Numer of characters: {count_chars(text_string)}\\n\")\n",
    "    for word in wordlist:\n",
    "        print(f\"Numer of times '{word}' appears: {count_occurrences(text_string, word)}\")\n",
    "    \n",
    "    changed_text = replace_word(text_string, '?', '.')\n",
    "    changed_text = replace_word(changed_text, '!', '.')\n",
    "    new_word = \"Cobra\"\n",
    "    changed_text = replace_word(changed_text, \"Python\", new_word)\n",
    "    \n",
    "    cobra_sentences = find_sentences_with_word(changed_text, new_word)\n",
    "    print(f\"\\n{len(cobra_sentences)} \\'Sentences\\' with the word \\\"{new_word}\\\":\\n\")\n",
    "    print(*cobra_sentences, sep='\\n---------------------------------------\\n')"
   ]
  },
  {
   "cell_type": "markdown",
   "metadata": {},
   "source": [
    "### E6. Fibonacci sequence"
   ]
  },
  {
   "cell_type": "code",
   "execution_count": null,
   "metadata": {},
   "outputs": [
    {
     "name": "stdout",
     "output_type": "stream",
     "text": [
      "The first 10 Fibonacci numbers:\n",
      "[0, 1, 1, 2, 3, 5, 8, 13, 21, 34, 55]\n",
      "\n",
      "Area of circles with radii equal to the first 10 Fibonacci numbers are:    \n",
      "[0.0, 3.1415, 3.1415, 12.566, 28.273500000000002, 78.53750000000001, 201.056, 530.9135, 1385.4015000000002, 3631.574, 9503.0375]\n",
      "\n",
      "Fibonacci numbers up to 10 using a generator function:    \n",
      "[0, 1, 1, 2, 3, 5, 8, 13, 21, 34, 55]\n"
     ]
    }
   ],
   "source": [
    "PI = 3.1415\n",
    "\n",
    "def fibonacci(n):\n",
    "    if n <= 1:\n",
    "        return n\n",
    "    else:\n",
    "        return fibonacci(n-1) + fibonacci(n-2)\n",
    "    \n",
    "def fibonacci_sequence(n):\n",
    "    return [fibonacci(i) for i in range(n+1)]\n",
    "\n",
    "def fibonacci_sequence_generator(n):\n",
    "    for i in range(n+1):\n",
    "        yield fibonacci(i)\n",
    "\n",
    "def circle_area(radius):\n",
    "    return PI * radius**2\n",
    "\n",
    "def circle_areas_fibonacci(n):\n",
    "    # Calculate area for each Fibonacci number\n",
    "    return map(circle_area, fibonacci_sequence(n))\n",
    "\n",
    "n = 10\n",
    "print(f\"The first {n} Fibonacci numbers:\\n{fibonacci_sequence(n)}\\n\")\n",
    "print(f\"Area of circles with radii equal to the first {n} Fibonacci numbers are:\\\n",
    "    \\n{list(circle_areas_fibonacci(n))}\\n\")\n",
    "print(f\"Fibonacci numbers up to {n} using a generator function:\\\n",
    "    \\n{list(fibonacci_sequence_generator(n))}\")"
   ]
  },
  {
   "cell_type": "markdown",
   "metadata": {},
   "source": [
    "-------------------------------\n",
    "## <center> Assignment A3 </center>\n",
    "-------------------------------"
   ]
  }
 ],
 "metadata": {
  "kernelspec": {
   "display_name": "latest",
   "language": "python",
   "name": "python3"
  },
  "language_info": {
   "codemirror_mode": {
    "name": "ipython",
    "version": 3
   },
   "file_extension": ".py",
   "mimetype": "text/x-python",
   "name": "python",
   "nbconvert_exporter": "python",
   "pygments_lexer": "ipython3",
   "version": "3.11.5"
  }
 },
 "nbformat": 4,
 "nbformat_minor": 2
}
