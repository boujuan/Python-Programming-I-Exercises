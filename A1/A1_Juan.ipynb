{
 "cells": [
  {
   "cell_type": "markdown",
   "metadata": {},
   "source": [
    "# <center><b> Python Programming in Energy Science I</b></center>\n",
    "\n",
    "## <center> Assignment A1 </center>\n",
    "\n",
    "### <center>[Group 4]</center>\n",
    "<center> Juan Manuel Boullosa Novo </center>\n",
    "\n",
    "-------------------------------"
   ]
  },
  {
   "cell_type": "markdown",
   "metadata": {},
   "source": [
    "### E1. Number guessing"
   ]
  },
  {
   "cell_type": "markdown",
   "metadata": {},
   "source": [
    "Program where user inputs number [0,100] and computer tries to guess it randomly."
   ]
  },
  {
   "cell_type": "code",
   "execution_count": 1,
   "metadata": {},
   "outputs": [
    {
     "name": "stdout",
     "output_type": "stream",
     "text": [
      " 1: 62 is too high! [ 0, 100] 1.00%\n",
      " 2: 41 is too low!  [ 0,  61] 1.64%\n",
      " 3: 45 is too low!  [42,  61] 5.26%\n",
      " 4: 60 is too high! [46,  61] 6.67%\n",
      " 5: 49 is too low!  [46,  59] 7.69%\n",
      "----------------------------\n",
      "6: 55 is a Match!  [50,  59] 11.11%\n",
      "(It took  6 guesses)\n"
     ]
    }
   ],
   "source": [
    "from numpy.random import randint\n",
    "\n",
    "# Parameters for RNG\n",
    "lower_bound, upper_bound = 0, 100\n",
    "# reorder the bounds in case of wrong input\n",
    "lower_bound, upper_bound = min(lower_bound, upper_bound), max(lower_bound, upper_bound)\n",
    "\n",
    "# Human input to be guessed\n",
    "n = int(input(f\"Enter a number [{lower_bound}-{upper_bound}]: \"))\n",
    "\n",
    "# Guessing algorithm with RNG\n",
    "i = 0\n",
    "while lower_bound<upper_bound:\n",
    "    i += 1\n",
    "    guess = randint(lower_bound, upper_bound)  # RNG to guess\n",
    "    chance = 1/(upper_bound - lower_bound) * 100    # Chance of guessing correct\n",
    "\n",
    "    if guess == n:\n",
    "        print(f\"----------------------------\\n{i}: {guess:2} is a Match!  [{lower_bound:2}, {upper_bound:3}] {chance:3.2f}%\\n(It took {i:2} guesses)\")\n",
    "        break\n",
    "    elif guess > n:\n",
    "        print(f\"{i:2}: {guess:2} is too high! [{lower_bound:2}, {upper_bound:3}] {chance:3.2f}%\")\n",
    "        upper_bound = guess - 1\n",
    "    else:\n",
    "        print(f\"{i:2}: {guess:2} is too low!  [{lower_bound:2}, {upper_bound:3}] {chance:3.2f}%\")\n",
    "        lower_bound = guess + 1\n",
    "\n",
    "# Accept guess if ranges converge\n",
    "if lower_bound == upper_bound:\n",
    "    guess = lower_bound\n",
    "    print(f\"Number ranges convergence obtained [{lower_bound}, {upper_bound}] 100.00%\\n---------------------------\\n{i+1:2}: {guess:2} is a Match! [{lower_bound:2}, {upper_bound:3}]\\n(It took {i+1:2} guesses)\")"
   ]
  },
  {
   "cell_type": "markdown",
   "metadata": {},
   "source": [
    "### E2. Vector magnitudes"
   ]
  },
  {
   "cell_type": "markdown",
   "metadata": {},
   "source": [
    "Use a list of classes to store 10 random vectors and find the largest and smallest magnitude."
   ]
  },
  {
   "cell_type": "code",
   "execution_count": 8,
   "metadata": {},
   "outputs": [
    {
     "name": "stdout",
     "output_type": "stream",
     "text": [
      " 1 : Magnitude of ( 11 , 14 , 27 ) is 32.34\n",
      " 2 : Magnitude of (  2 , 27 , 25 ) is 36.85\n",
      " 3 : Magnitude of ( 23 , 23 ,  2 ) is 32.59\n",
      " 4 : Magnitude of ( 13 ,  8 , 12 ) is 19.42\n",
      " 5 : Magnitude of (  2 , 25 , 14 ) is 28.72\n",
      " 6 : Magnitude of (  6 , 28 ,  2 ) is 28.71\n",
      " 7 : Magnitude of ( 22 , 18 , 21 ) is 35.34\n",
      " 8 : Magnitude of (  8 , 25 , 25 ) is 36.25\n",
      " 9 : Magnitude of ( 27 , 19 , 26 ) is 42.02\n",
      "10 : Magnitude of ( 23 ,  8 ,  6 ) is 25.08\n",
      "\n",
      "Largest magnitude: 42.02, Vector 9: (27, 19, 26)\n",
      "Smallest magnitude: 19.42, Vector 4: (13, 8, 12)\n"
     ]
    }
   ],
   "source": [
    "from numpy.random import randint\n",
    "\n",
    "class Vector:\n",
    "    def __init__(self, x, y, z):\n",
    "        self.x = x\n",
    "        self.y = y\n",
    "        self.z = z\n",
    "        self.magnitude = self.magnitude(x, y, z)\n",
    "        \n",
    "    def magnitude(self, x,y,z):\n",
    "        return (x**2 + y**2 + z**2)**0.5\n",
    "\n",
    "# Check Magnitude of all vectors in v_list and print largest and smallest\n",
    "def check_magnitude(v_list):\n",
    "    magnitude_list = [vector.magnitude for vector in v_list]\n",
    "    max_magnitude, min_magnitude = max(magnitude_list), min(magnitude_list)    \n",
    "    max_magnitude_index, min_magnitude_index = magnitude_list.index(max_magnitude), magnitude_list.index(min_magnitude)\n",
    "    max_vector, min_vector = v_list[max_magnitude_index], v_list[min_magnitude_index]\n",
    "    \n",
    "    print(f\"\\nLargest magnitude: {max_magnitude:.2f}, Vector {max_magnitude_index+1}: ({max_vector.x}, {max_vector.y}, {max_vector.z})\")\n",
    "    print(f\"Smallest magnitude: {min_magnitude:.2f}, Vector {min_magnitude_index+1}: ({min_vector.x}, {min_vector.y}, {min_vector.z})\")\n",
    "\n",
    "limits, size, v_list = [0,30], 10, []\n",
    "\n",
    "# Create 10 random vectors\n",
    "for i in range(size):\n",
    "    x,y,z = randint(limits[0], limits[1]), randint(limits[0], limits[1]), randint(limits[0], limits[1])\n",
    "    v_list.append(Vector(x, y, z))\n",
    "    \n",
    "    print(f\"{i+1:2} : Magnitude of ( {v_list[i].x:2} , {v_list[i].y:2} , {v_list[i].z:2} ) is {v_list[i].magnitude:.2f}\")\n",
    "\n",
    "check_magnitude(v_list)"
   ]
  },
  {
   "cell_type": "markdown",
   "metadata": {},
   "source": [
    "### E3. Wind turbine wake"
   ]
  },
  {
   "cell_type": "markdown",
   "metadata": {},
   "source": [
    "Assuming uniform wind and certain turbine parameters, calculate the reduced wind speed at a certain distances behind the turbine in the wake, following paper's[1] model. Calculate distance at which wind speed is recovered to 8.95 m/s."
   ]
  },
  {
   "cell_type": "code",
   "execution_count": 9,
   "metadata": {},
   "outputs": [
    {
     "name": "stdout",
     "output_type": "stream",
     "text": [
      "At 20212.10 m behind the turbine, wind speed is 8.95 m/s again\n"
     ]
    }
   ],
   "source": [
    "def wind_speed(uniform_wind_speed, ct, D, sigma):\n",
    "    a = 1 - (ct * D ** 2) / (8 * sigma ** 2)\n",
    "    b = a ** 0.5\n",
    "    return uniform_wind_speed * b\n",
    "\n",
    "def calculate_sigma(k, x, beta, D):\n",
    "    return k * x + 0.25 * beta ** 0.5 * D\n",
    "\n",
    "def calculate_beta(ct):\n",
    "    return 0.5 * (1 + (1 - ct) ** 0.5) / ((1 - ct) ** 0.5)\n",
    "\n",
    "# Turbine parameters\n",
    "uniform_wind_speed = 9  # m/s\n",
    "D = 154  # m\n",
    "ct = 0.763\n",
    "k = 0.02\n",
    "\n",
    "# Parameters\n",
    "x = 0  # m\n",
    "threshold = 8.95 # m/s\n",
    "\n",
    "# Calculate wind speed at a certain distance behind the turbine\n",
    "while True:\n",
    "    beta_value = calculate_beta(ct)\n",
    "    sigma_value = calculate_sigma(k, x, beta_value, D)\n",
    "    wind_speed_value = wind_speed(uniform_wind_speed, ct, D, sigma_value)\n",
    "    \n",
    "    if wind_speed_value >= threshold:\n",
    "        print(f\"At {x:.2f} m behind the turbine, wind speed is {wind_speed_value:.2f} m/s again\")\n",
    "        break\n",
    "    else:\n",
    "        x += 0.1 # increment distance (m) per step\n"
   ]
  },
  {
   "cell_type": "markdown",
   "metadata": {},
   "source": [
    "### E4. Geometric series"
   ]
  },
  {
   "cell_type": "markdown",
   "metadata": {},
   "source": [
    "Function that calculates the sum x^k for k=0 to k=N-1 and the closed form of the geometric series (1-x^N)/(1-x).\n",
    "Check for differences between the two results and explain why they are different."
   ]
  },
  {
   "cell_type": "code",
   "execution_count": 12,
   "metadata": {},
   "outputs": [
    {
     "name": "stdout",
     "output_type": "stream",
     "text": [
      "[   5] N= 2 x= 0.1: [1.10000000000000009,1.09999999999999987]  Difference:  2.220e-16\n",
      "[   9] N= 3 x= 0.1: [1.11000000000000010,1.10999999999999988]  Difference:  2.220e-16\n",
      "[  12] N= 3 x= 0.9: [2.70999999999999996,2.70999999999999952]  Difference:  4.441e-16\n",
      "[  16] N= 4 x= 0.9: [3.43900000000000006,3.43900000000000050]  Difference: -4.441e-16\n",
      "[  28] N= 7 x= 0.9: [5.21703100000000042,5.21703099999999953]  Difference:  8.882e-16\n",
      "[  40] N=10 x= 0.9: [6.51321559900000047,6.51321559900000135]  Difference: -8.882e-16\n",
      "[  49] N=13 x= 0.1: [1.11111111111100014,1.11111111111099992]  Difference:  2.220e-16\n",
      "[  52] N=13 x= 0.9: [7.45813417167100035,7.45813417167100123]  Difference: -8.882e-16\n",
      "[  60] N=15 x= 0.9: [7.94108867905351001,7.94108867905351090]  Difference: -8.882e-16\n",
      "[  61] N=16 x= 0.1: [1.11111111111111116,1.11111111111111094]  Difference:  2.220e-16\n",
      "[  64] N=16 x= 0.9: [8.14697981114815839,8.14697981114816017]  Difference: -1.776e-15\n",
      "[  68] N=17 x= 0.9: [8.33228183003334166,8.33228183003334344]  Difference: -1.776e-15\n",
      "[  72] N=18 x= 0.9: [8.49905364703000821,8.49905364703000998]  Difference: -1.776e-15\n",
      "[  80] N=20 x= 0.9: [8.78423345409430745,8.78423345409430922]  Difference: -1.776e-15\n",
      "[  84] N=21 x= 0.9: [8.90581010868487688,8.90581010868487866]  Difference: -1.776e-15\n",
      "[  88] N=22 x= 0.9: [9.01522909781638937,9.01522909781639115]  Difference: -1.776e-15\n",
      "[  96] N=24 x= 0.9: [9.20233556923127516,9.20233556923127693]  Difference: -1.776e-15\n",
      "[ 100] N=25 x= 0.9: [9.28210201230814747,9.28210201230814924]  Difference: -1.776e-15\n",
      "[ 104] N=26 x= 0.9: [9.35389181107733236,9.35389181107733414]  Difference: -1.776e-15\n",
      "[ 108] N=27 x= 0.9: [9.41850262996959842,9.41850262996960197]  Difference: -3.553e-15\n",
      "[ 111] N=28 x=0.75: [3.99873008291434617,3.99873008291434662]  Difference: -4.441e-16\n",
      "[ 112] N=28 x= 0.9: [9.47665236697263857,9.47665236697264035]  Difference: -1.776e-15\n",
      "[ 116] N=29 x= 0.9: [9.52898713027537525,9.52898713027537703]  Difference: -1.776e-15\n",
      "[ 119] N=30 x=0.75: [3.99928567163931969,3.99928567163932014]  Difference: -4.441e-16\n",
      "[ 120] N=30 x= 0.9: [9.57608841724783844,9.57608841724784021]  Difference: -1.776e-15\n",
      "[ 123] N=31 x=0.75: [3.99946425372948955,3.99946425372948999]  Difference: -4.441e-16\n",
      "[ 124] N=31 x= 0.9: [9.61847957552305388,9.61847957552305566]  Difference: -1.776e-15\n",
      "[ 127] N=32 x=0.75: [3.99959819029711694,3.99959819029711738]  Difference: -4.441e-16\n",
      "[ 128] N=32 x= 0.9: [9.65663161797074920,9.65663161797075098]  Difference: -1.776e-15\n",
      "[ 131] N=33 x=0.75: [3.99969864272283759,3.99969864272283804]  Difference: -4.441e-16\n",
      "[ 132] N=33 x= 0.9: [9.69096845617367464,9.69096845617367642]  Difference: -1.776e-15\n",
      "[ 135] N=34 x=0.75: [3.99977398204212786,3.99977398204212875]  Difference: -8.882e-16\n",
      "[ 139] N=35 x=0.75: [3.99983048653159567,3.99983048653159656]  Difference: -8.882e-16\n",
      "[ 143] N=36 x=0.75: [3.99987286489869653,3.99987286489869742]  Difference: -8.882e-16\n",
      "[ 144] N=36 x= 0.9: [9.77471600455060852,9.77471600455061029]  Difference: -1.776e-15\n",
      "[ 147] N=37 x=0.75: [3.99990464867402240,3.99990464867402284]  Difference: -4.441e-16\n",
      "[ 148] N=37 x= 0.9: [9.79724440409554731,9.79724440409554909]  Difference: -1.776e-15\n",
      "[ 151] N=38 x=0.75: [3.99992848650551647,3.99992848650551736]  Difference: -8.882e-16\n",
      "[ 152] N=38 x= 0.9: [9.81751996368599222,9.81751996368599400]  Difference: -1.776e-15\n",
      "[ 155] N=39 x=0.75: [3.99994636487913713,3.99994636487913802]  Difference: -8.882e-16\n",
      "[ 156] N=39 x= 0.9: [9.83576796731739300,9.83576796731739655]  Difference: -3.553e-15\n",
      "[ 159] N=40 x=0.75: [3.99995977365935262,3.99995977365935351]  Difference: -8.882e-16\n",
      "[ 160] N=40 x= 0.9: [9.85219117058565352,9.85219117058565530]  Difference: -1.776e-15\n",
      "[ 163] N=41 x=0.75: [3.99996983024451414,3.99996983024451502]  Difference: -8.882e-16\n",
      "[ 164] N=41 x= 0.9: [9.86697205352708728,9.86697205352709084]  Difference: -3.553e-15\n",
      "[ 167] N=42 x=0.75: [3.99997737268338538,3.99997737268338627]  Difference: -8.882e-16\n",
      "[ 168] N=42 x= 0.9: [9.88027484817437873,9.88027484817438229]  Difference: -3.553e-15\n",
      "[ 171] N=43 x=0.75: [3.99998302951253892,3.99998302951253981]  Difference: -8.882e-16\n",
      "[ 172] N=43 x= 0.9: [9.89224736335694033,9.89224736335694388]  Difference: -3.553e-15\n",
      "[ 175] N=44 x=0.75: [3.99998727213440386,3.99998727213440475]  Difference: -8.882e-16\n",
      "[ 176] N=44 x= 0.9: [9.90302262702124558,9.90302262702124914]  Difference: -3.553e-15\n",
      "[ 179] N=45 x=0.75: [3.99999045410080267,3.99999045410080356]  Difference: -8.882e-16\n",
      "[ 180] N=45 x= 0.9: [9.91272036431912085,9.91272036431912440]  Difference: -3.553e-15\n",
      "[ 183] N=46 x=0.75: [3.99999284057560178,3.99999284057560267]  Difference: -8.882e-16\n",
      "[ 184] N=46 x= 0.9: [9.92144832788720876,9.92144832788721232]  Difference: -3.553e-15\n",
      "[ 187] N=47 x=0.75: [3.99999463043170111,3.99999463043170200]  Difference: -8.882e-16\n",
      "[ 188] N=47 x= 0.9: [9.92930349509848753,9.92930349509849108]  Difference: -3.553e-15\n",
      "[ 191] N=48 x=0.75: [3.99999597282377550,3.99999597282377639]  Difference: -8.882e-16\n",
      "[ 192] N=48 x= 0.9: [9.93637314558863771,9.93637314558864304]  Difference: -5.329e-15\n",
      "[ 195] N=49 x=0.75: [3.99999697961783118,3.99999697961783252]  Difference: -1.332e-15\n",
      "[ 196] N=49 x= 0.9: [9.94273583102977376,9.94273583102977909]  Difference: -5.329e-15\n",
      "[ 199] N=50 x=0.75: [3.99999773471337328,3.99999773471337416]  Difference: -8.882e-16\n",
      "[ 200] N=50 x= 0.9: [9.94846224792679656,9.94846224792680189]  Difference: -5.329e-15\n",
      "\n",
      "Total number of differences: 63 / 200 (31.5%)\n",
      "Average difference: -1.586e-15\n"
     ]
    }
   ],
   "source": [
    "# Calculate sum x^k for k=0 to k=N-1\n",
    "def sum_x_k(x, N):\n",
    "    sum = 0\n",
    "    for k in range(N):\n",
    "        sum += x**k\n",
    "    return sum\n",
    "\n",
    "# Calculate closed form of geometric series (1-x^N)/(1-x)\n",
    "def geo_series(x, N):\n",
    "    if x == 1:\n",
    "        return N\n",
    "    else:\n",
    "        return (1 - x**N) / (1 - x)\n",
    "\n",
    "# Change this to test different x values\n",
    "test_x = [0.1, 0.25, 0.75, 0.9]\n",
    "\n",
    "diff_count, diff_sum, i = 0, 0, 0\n",
    "for N in range(1, 51):\n",
    "    # Test 4 different values of x between 0 and 1\n",
    "    for x in test_x:\n",
    "        i += 1\n",
    "        a = sum_x_k(x,N)\n",
    "        b = geo_series(x,N)\n",
    "        if a!=b:\n",
    "            diff = a-b\n",
    "            diff_count += 1\n",
    "            diff_sum = diff_sum + diff\n",
    "            # Format the output text to 17 decimal places and scientific notation in columns\n",
    "            print(f\"[{i:4}] N={N:2} x={x:4}: [{a:.17f},{b:.17f}]  Difference: {a-b:10.3e}\")\n",
    "\n",
    "avg_diff = diff_sum / diff_count\n",
    "print(f\"\\nTotal number of differences: {diff_count} / {i} ({diff_count/i * 100}%)\")\n",
    "print(f\"Average difference: {avg_diff:.3e}\")"
   ]
  },
  {
   "cell_type": "markdown",
   "metadata": {},
   "source": [
    "The small deviations observed are caused by limited numerical precision in the calculations, which causes rounding errors. This is due to the limited precision of floating-point numbers.\n",
    "\n",
    "The computation algorithm used is the main cause of these deviations. Specifically, the error comes from the use of the summation formula: $$\\sum_{k=0}^{N-1}x^{k}$$ instead of the closed form of the geometric series:$$\\frac{1-x^{N}}{1-x}$$\n",
    "\n",
    "Therefore, for checking purposes, we can use the following code, which compares the precision by using the numpy library, which offer arguably better and more precise power and summation algorithms, the decimal library, which increases the decimal precision to a fixed point, and the standard procedure. As can be observed, the best approach is numpy+decimal prcision followed by just decimal precision, using numpy and standard procedure, in fact, numpy does improve the results slightly but is still not as precise as merely increaasing the decimal precision.\n",
    "\n",
    "However, the geometric series method is still a much superior method to the power sum calculation method in terms of both precision, computation speed and simplicity, because it's a closed form of a geometric series function, so it doesn't rely on loops or external power and summation algorithms, which involve an increasing number of calculations for each value of k as N grows, that are susceptible to limited precision rounding error and are also computationally less efficient."
   ]
  },
  {
   "cell_type": "code",
   "execution_count": 13,
   "metadata": {},
   "outputs": [
    {
     "name": "stdout",
     "output_type": "stream",
     "text": [
      "Numpy & 15 decimal points:\n",
      "Total number of differences: 56 / 200 (28.000000000000004%)\n",
      "Average difference: 2.321e-15\n",
      "\n",
      "Numpy & no decimal precision:\n",
      "Total number of differences: 65 / 200 (32.5%)\n",
      "Average difference: -4.099e-17\n",
      "\n",
      "No Numpy & 15 decimal points:\n",
      "Total number of differences: 56 / 200 (28.000000000000004%)\n",
      "Average difference: 2.321e-15\n",
      "\n",
      "No Numpy or decimal precision:\n",
      "Total number of differences: 63 / 200 (31.5%)\n",
      "Average difference: -1.586e-15\n"
     ]
    }
   ],
   "source": [
    "import numpy as np\n",
    "import decimal\n",
    "\n",
    "# Set the precision for the Decimal module\n",
    "decimals = 15\n",
    "decimal.getcontext().prec = decimals\n",
    "\n",
    "def calculate_difference(test_x, calculate_a, calculate_b, text):\n",
    "    diff_count, diff_sum, i = 0, 0, 0\n",
    "    for N in range(1, 51):\n",
    "        # Test 4 different values of x between 0 and 1\n",
    "        for x in test_x:\n",
    "            i += 1\n",
    "            a = calculate_a(x,N)\n",
    "            b = calculate_b(x,N)\n",
    "            if a!=b:\n",
    "                diff = a-b\n",
    "                diff_count += 1\n",
    "                diff_sum = diff_sum + diff\n",
    "                # Format the output text to 17 decimal places and scientific notation in columns\n",
    "                # print(f\"[{i:4}] N={N:2} x={x:4}: [{a:.17f},{b:.17f}]  Difference: {a-b:10.3e}\")\n",
    "\n",
    "    avg_diff = diff_sum / diff_count\n",
    "    print(f\"{text}\\nTotal number of differences: {diff_count} / {i} ({diff_count/i * 100}%)\")\n",
    "    print(f\"Average difference: {avg_diff:.3e}\")\n",
    "\n",
    "###########################################################\n",
    "# Calculate sum x^k for k=0 to k=N-1 using numpy with decimal precision\n",
    "def sum_x_k_np(x, N):\n",
    "    np_sum = decimal.Decimal(0)\n",
    "    np_sum = np.sum(np.power(decimal.Decimal(x), np.arange(N)))\n",
    "    return np_sum\n",
    "\n",
    "# Calculate closed form of geometric series (1-x^N)/(1-x) using numpy with decimal precision\n",
    "def geo_series_np(x, N):\n",
    "    if x == 1:\n",
    "        return decimal.Decimal(N)\n",
    "    else:\n",
    "        return (decimal.Decimal(1) - np.power(decimal.Decimal(x), N)) / (decimal.Decimal(1) - decimal.Decimal(x))\n",
    "    \n",
    "###########################################################\n",
    "# Calculate sum x^k for k=0 to k=N-1 using numpy with decimal precision\n",
    "def sum_x_k_np_n(x, N):\n",
    "    np_sum = np.sum(np.power(x, np.arange(N)))\n",
    "    return np_sum\n",
    "\n",
    "# Calculate closed form of geometric series (1-x^N)/(1-x) using numpy with decimal precision\n",
    "def geo_series_np_n(x, N):\n",
    "    if x == 1:\n",
    "        return N\n",
    "    else:\n",
    "        return (1 - np.power(x, N)) / (1 - x)\n",
    "\n",
    "###########################################################\n",
    "# Calculate sum x^k for k=0 to k=N-1 without numpy with decimal precision\n",
    "def sum_x_k_p(x, N):\n",
    "    sum = decimal.Decimal(0)\n",
    "    for k in range(N):\n",
    "        sum += decimal.Decimal(x)**k\n",
    "    return sum\n",
    "\n",
    "# Calculate closed form of geometric series (1-x^N)/(1-x) using numpy with decimal precision\n",
    "def geo_series_p(x, N):\n",
    "    if x == 1:\n",
    "        return decimal.Decimal(N)\n",
    "    else:\n",
    "        return (decimal.Decimal(1) - decimal.Decimal(x)**N) / (decimal.Decimal(1) - decimal.Decimal(x))\n",
    "\n",
    "###########################################################\n",
    "# Calculate sum x^k for k=0 to k=N-1 without numpy or decimal precision\n",
    "def sum_x_k(x, N):\n",
    "    sum = 0\n",
    "    for k in range(N):\n",
    "        sum += x**k\n",
    "    return sum\n",
    "\n",
    "# Calculate closed form of geometric series (1-x^N)/(1-x)\n",
    "def geo_series(x, N):\n",
    "    if x == 1:\n",
    "        return N\n",
    "    else:\n",
    "        return (1 - x**N) / (1 - x)\n",
    "\n",
    "###########################################################\n",
    "###########################################################\n",
    "# Change this to test different x values\n",
    "test_x = [0.1, 0.25, 0.75, 0.9]\n",
    "\n",
    "calculate_difference(test_x, sum_x_k_np, geo_series_np, f\"Numpy & {decimals} decimal points:\")\n",
    "calculate_difference(test_x, sum_x_k_np_n, geo_series_np_n, \"\\nNumpy & no decimal precision:\")\n",
    "calculate_difference(test_x, sum_x_k_p, geo_series_p, f\"\\nNo Numpy & {decimals} decimal points:\")\n",
    "calculate_difference(test_x, sum_x_k, geo_series, \"\\nNo Numpy or decimal precision:\")"
   ]
  },
  {
   "cell_type": "markdown",
   "metadata": {},
   "source": [
    "### E5. Graph intersect"
   ]
  },
  {
   "cell_type": "markdown",
   "metadata": {},
   "source": [
    "Considering two sets of functions, find the intersection points. Then calculate areas of the intersections using the trapezoidal rule. <br><br>\n",
    "$ f_1(x) = sin(x) $ <br>$ g_1(x) = cos(x) $ <br><br>\n",
    "$f_2(x) = x^2 + 2x - 5$ <br>$g_2(x) = 2x - 1$"
   ]
  },
  {
   "cell_type": "code",
   "execution_count": 15,
   "metadata": {},
   "outputs": [
    {
     "name": "stdout",
     "output_type": "stream",
     "text": [
      "Intersects for sine and cosine functions in the range [0°,360°]:\n",
      "\n",
      "1: [ 45°,   0.71]\n",
      "2: [225°,  -0.71]\n",
      "\n",
      "Intersects for f_2(x) and g_2(x) in the range [-5,5]:\n",
      "\n",
      "1: [ -2 ,  -5.00]\n",
      "2: [  2 ,   3.00]\n"
     ]
    }
   ],
   "source": [
    "import math\n",
    "\n",
    "class Point:\n",
    "    def __init__(self, x, fx):\n",
    "        self.x = x\n",
    "        self.fx = fx\n",
    "\n",
    "# sin,cos function\n",
    "def fx1(x):\n",
    "    return math.sin(math.radians(x))\n",
    "def gx1(x):\n",
    "    return math.cos(math.radians(x))\n",
    "range_1 = range(0, 361)\n",
    "\n",
    "# second set of functions\n",
    "def fx2(x):\n",
    "    return math.pow(x, 2) + 2*x - 5    \n",
    "def gx2(x):\n",
    "    return 2*x - 1\n",
    "range_2 = range(-5, 6)\n",
    "\n",
    "# returns the intersection point (x,f(x))\n",
    "def find_intersects(fx, gx, range):\n",
    "    intersects = []\n",
    "    for x in range:\n",
    "        if abs(fx(x) - gx(x)) < 1e-9: # 1e-9 is a good estimate to avoid floating point rounding errors\n",
    "            point = Point(x, fx(x))\n",
    "            intersects.append(point)\n",
    "    return (intersects)\n",
    "\n",
    "# prints the results. degrees boolean simply changes output to degrees\n",
    "def print_intersects(intersects, degrees):\n",
    "    i = 1\n",
    "    for point in intersects:\n",
    "        if degrees:\n",
    "            print(f\"{i}: [{point.x:3}°, {point.fx:6.2f}]\")\n",
    "        else:\n",
    "            print(f\"{i}: [{point.x:3} , {point.fx:6.2f}]\")\n",
    "        i += 1\n",
    "\n",
    "print(f\"Intersects for sine and cosine functions in the range [0°,360°]:\\n\")\n",
    "intersects_1 = find_intersects(fx1, gx1, range_1)\n",
    "print_intersects(intersects_1, True)\n",
    "\n",
    "print(f\"\\nIntersects for f_2(x) and g_2(x) in the range [-5,5]:\\n\")\n",
    "intersects_2 = find_intersects(fx2, gx2, range_2)\n",
    "print_intersects(intersects_2, False)\n",
    "    "
   ]
  },
  {
   "cell_type": "markdown",
   "metadata": {},
   "source": [
    "We then calculate the integral under the curves by using the trapezoidal rule.\n",
    "$$ \\int_{a}^{b}f(x)dx≈\\frac{b-a}{2}\\left[ f(a) +f(b)\\right] $$\n",
    "Where the interval $ [a,b] $ is divided into smaller subintervals and the rule applied at each one of them. The more subintervals used, the closer the approximation to the actual value of the integral.\n",
    "<br>Therefore the approximation to the integral becomes\n",
    "$$ \\int_{a}^{b}f(x)dx≈\\Delta x \\left( \\frac{f\\left( x_N \\right) + f\\left( x_0 \\right) }{2}+\\sum_{k=1}^{N-1}f\\left( x_k \\right) \\right) $$ \n",
    "where $$ \\Delta x=\\frac{b-a}{N} $$"
   ]
  },
  {
   "cell_type": "code",
   "execution_count": 16,
   "metadata": {},
   "outputs": [
    {
     "name": "stdout",
     "output_type": "stream",
     "text": [
      "\n",
      "The area under the sine and cosine functions is = 81.02\n",
      "\n",
      "The area under the f_2(x) and g_2(x) is = 14.67\n"
     ]
    }
   ],
   "source": [
    "def integral_trapezoidal(f, a, b, n):\n",
    "    # Approximates definite integral function by using trapezoidal rule\n",
    "    # \n",
    "    # Parameters:\n",
    "    #   step_num: number of steps to subdivide the interval of integration\n",
    "    #   fx: function to integrate\n",
    "    #   a: lower bound of integration\n",
    "    #   b: upper bound of integration\n",
    "    #\n",
    "    # Returns:\n",
    "    #   result: approximation of definite integral\n",
    "    \n",
    "    dx = float(b - a) / n # divide interval into subintervals\n",
    "    result = (f(a) + f(b)) / 2.0 # initial approximation (left side of trapezoidal rule)\n",
    "    for i in range(1, n):\n",
    "        result += f(a + i*dx) # add next approximation (right side of trapezoidal rule)\n",
    "    return result * dx\n",
    "\n",
    "# define precision of the integral approximation (more steps = more precise)\n",
    "step_num = 100\n",
    "\n",
    "try:\n",
    "    area1 = integral_trapezoidal(fx1, intersects_1[0].x, intersects_1[1].x, step_num)\n",
    "    print(f\"\\nThe area under the sine and cosine functions is = {abs(area1):.2f}\")\n",
    "except NameError:\n",
    "    raise ValueError(\"Please run the previous cell to find the intersection points before calculating the area.\")\n",
    "\n",
    "try:\n",
    "    area2 = integral_trapezoidal(fx2, intersects_2[0].x, intersects_2[1].x, step_num)\n",
    "    print(f\"\\nThe area under the f_2(x) and g_2(x) is = {abs(area2):.2f}\")\n",
    "except NameError:\n",
    "    raise ValueError(\"Please run the previous cell to find the intersection points before calculating the area.\")"
   ]
  },
  {
   "cell_type": "markdown",
   "metadata": {},
   "source": [
    "### E6. Linear regression"
   ]
  },
  {
   "cell_type": "markdown",
   "metadata": {},
   "source": [
    "Perform a linear regression on a cloud of points using Ordinary Least Squares.\n",
    "<br>Find the coefficients $a$ and $b$ in the function $f(x) = ax + b$\n",
    "<br>Explain differences between original function and fitted function. How to get closer to the original function?"
   ]
  },
  {
   "cell_type": "code",
   "execution_count": 17,
   "metadata": {},
   "outputs": [],
   "source": [
    "# Generate cloud of points\n",
    "def generate_points():\n",
    "    import numpy as np\n",
    "    x = np.linspace(0, 10, 1000)\n",
    "    noise = np.random.normal(0, 3, len(x))\n",
    "    a,b = np.random.randint(1, 5), np.random.randint(-3, 3)\n",
    "    y = a * x + b + noise\n",
    "    print(f\"Original function: y = {a}x + {b}\")\n",
    "    return x, y\n",
    "\n",
    "# Return coefficients a, b using Ordinary Least Squares\n",
    "def find_coefficients(x, y):\n",
    "    return a, b"
   ]
  },
  {
   "cell_type": "markdown",
   "metadata": {},
   "source": [
    "### E7. Christmas tree"
   ]
  },
  {
   "cell_type": "markdown",
   "metadata": {},
   "source": [
    "Draw a Christmas tree using print automatically with function (input is height of tree in rows).\n",
    "<br> Adapt function to change width of tree trunk to approximately 1/3 of height."
   ]
  },
  {
   "cell_type": "code",
   "execution_count": null,
   "metadata": {},
   "outputs": [],
   "source": []
  }
 ],
 "metadata": {
  "kernelspec": {
   "display_name": "Python 3 (ipykernel)",
   "language": "python",
   "name": "python3"
  },
  "language_info": {
   "codemirror_mode": {
    "name": "ipython",
    "version": 3
   },
   "file_extension": ".py",
   "mimetype": "text/x-python",
   "name": "python",
   "nbconvert_exporter": "python",
   "pygments_lexer": "ipython3",
   "version": "3.11.5"
  }
 },
 "nbformat": 4,
 "nbformat_minor": 2
}
