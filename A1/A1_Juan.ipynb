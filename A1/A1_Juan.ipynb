{
 "cells": [
  {
   "cell_type": "markdown",
   "metadata": {},
   "source": [
    "# <center><b> Python Programming in Energy Science I</b></center>\n",
    "\n",
    "## <center> Assignment A1 </center>\n",
    "\n",
    "### <center>[Group 4]</center>\n",
    "<center> Juan Manuel Boullosa Novo </center>\n",
    "\n",
    "-------------------------------"
   ]
  },
  {
   "cell_type": "markdown",
   "metadata": {},
   "source": [
    "### E1. Number guessing"
   ]
  },
  {
   "cell_type": "markdown",
   "metadata": {},
   "source": [
    "Program where user inputs number [0,100] and computer tries to guess it randomly."
   ]
  },
  {
   "cell_type": "code",
   "execution_count": 50,
   "metadata": {},
   "outputs": [
    {
     "name": "stdout",
     "output_type": "stream",
     "text": [
      "Invalid input!\n",
      "1: 87 is too high! [0, 86] 1.00%\n",
      "2: 31 is too low! [32, 86] 1.16%\n",
      "3: 65 is too high! [32, 64] 1.85%\n",
      "____________________________________________\n",
      "4: 50 is a Match!  [32, 64] 3.12%\n",
      "(It took 4 guesses)\n"
     ]
    }
   ],
   "source": [
    "from random import randint\n",
    "\n",
    "def user_input(lower_bound, upper_bound):\n",
    "    while True:\n",
    "        n = int(input(f\"Enter a number [{lower_bound}-{upper_bound}]: \"))\n",
    "        if lower_bound <= n <= upper_bound:\n",
    "            return n\n",
    "        print(\"Invalid input!\")\n",
    "\n",
    "def guess_number(lower_bound, upper_bound, n):\n",
    "    guess_counter = 0\n",
    "    while lower_bound < upper_bound:\n",
    "        guess_counter += 1\n",
    "        guess = randint(lower_bound, upper_bound)\n",
    "        chance = 1 / (upper_bound - lower_bound) * 100\n",
    "\n",
    "        if guess == n:\n",
    "            print(f\"____________________________________________\\n{guess_counter}: {guess} is a Match!  [{lower_bound}, {upper_bound}] {chance:.2f}%\\n(It took {guess_counter} guesses)\")\n",
    "            return\n",
    "        elif guess > n:\n",
    "            result = \"too high!\"\n",
    "            upper_bound = guess - 1\n",
    "        else:\n",
    "            result = \"too low!\"\n",
    "            lower_bound = guess + 1\n",
    "        print(f\"{guess_counter}: {guess} is {result} [{lower_bound}, {upper_bound}] {chance:.2f}%\")         \n",
    "    print(f\"Number ranges convergence obtained [{lower_bound}, {lower_bound}] 100.00%\\n____________________________________________\\n{guess_counter+1:2}: {lower_bound:2} is a Match! [{lower_bound:2}, {lower_bound:3}]\\n(It took {guess_counter+1:2} guesses)\") \n",
    "\n",
    "lower_bound, upper_bound = 0, 100\n",
    "n = user_input(lower_bound, upper_bound)\n",
    "guess_number(lower_bound, upper_bound, n)\n"
   ]
  },
  {
   "cell_type": "markdown",
   "metadata": {},
   "source": [
    "### E2. Vector magnitudes"
   ]
  },
  {
   "cell_type": "markdown",
   "metadata": {},
   "source": [
    "Use a list of classes to store 10 random vectors and find the largest and smallest magnitude. <br>$magnitude = \\sqrt{x^2 + y^2 + z^2}$"
   ]
  },
  {
   "cell_type": "code",
   "execution_count": 43,
   "metadata": {},
   "outputs": [
    {
     "name": "stdout",
     "output_type": "stream",
     "text": [
      " 1 : Magnitude of (  4 ,  8 , 17 ) is 19.21\n",
      " 2 : Magnitude of (  7 , 15 , 13 ) is 21.05\n",
      " 3 : Magnitude of ( 19 , 23 , 17 ) is 34.34\n",
      " 4 : Magnitude of (  8 , 28 , 21 ) is 35.90\n",
      " 5 : Magnitude of ( 17 , 28 ,  9 ) is 33.97\n",
      " 6 : Magnitude of (  2 , 17 , 27 ) is 31.97\n",
      " 7 : Magnitude of (  6 , 27 , 13 ) is 30.56\n",
      " 8 : Magnitude of ( 26 ,  4 , 24 ) is 35.61\n",
      " 9 : Magnitude of ( 18 ,  1 , 23 ) is 29.22\n",
      "10 : Magnitude of ( 18 ,  7 ,  6 ) is 20.22\n",
      "\n",
      "Largest magnitude: 35.90, Vector 4: (8, 28, 21)\n",
      "Smallest magnitude: 19.21, Vector 1: (4, 8, 17)\n"
     ]
    }
   ],
   "source": [
    "from numpy.random import randint\n",
    "\n",
    "class Vector:\n",
    "    def __init__(self, x, y, z):\n",
    "        self.x = x\n",
    "        self.y = y\n",
    "        self.z = z\n",
    "        \n",
    "    def magnitude(self):\n",
    "        return (self.x**2 + self.y**2 + self.z**2)**0.5\n",
    "\n",
    "def check_magnitude(v_list):\n",
    "    magnitude_list = [vector.magnitude() for vector in v_list]\n",
    "    max_magnitude, min_magnitude = max(magnitude_list), min(magnitude_list)    \n",
    "    max_magnitude_index, min_magnitude_index = magnitude_list.index(max_magnitude), magnitude_list.index(min_magnitude)\n",
    "    max_vector, min_vector = v_list[max_magnitude_index], v_list[min_magnitude_index]\n",
    "    \n",
    "    print(f\"\\nLargest magnitude: {max_magnitude:.2f}, Vector {max_magnitude_index+1}: ({max_vector.x}, {max_vector.y}, {max_vector.z})\")\n",
    "    print(f\"Smallest magnitude: {min_magnitude:.2f}, Vector {min_magnitude_index+1}: ({min_vector.x}, {min_vector.y}, {min_vector.z})\")\n",
    "\n",
    "limits, size, v_list = [0,30], 10, []\n",
    "# Create 10 random vectors\n",
    "for i in range(size):\n",
    "    x,y,z = randint(limits[0], limits[1]), randint(limits[0], limits[1]), randint(limits[0], limits[1])\n",
    "    v_list.append(Vector(x, y, z))    \n",
    "    print(f\"{i+1:2} : Magnitude of ( {v_list[i].x:2} , {v_list[i].y:2} , {v_list[i].z:2} ) is {v_list[i].magnitude():.2f}\")\n",
    "\n",
    "check_magnitude(v_list)"
   ]
  },
  {
   "cell_type": "markdown",
   "metadata": {},
   "source": [
    "### E3. Wind turbine wake"
   ]
  },
  {
   "cell_type": "markdown",
   "metadata": {},
   "source": [
    "Assuming uniform wind and certain turbine parameters, calculate the reduced wind speed at a certain distances behind the turbine in the wake, following paper's[1] model. Calculate distance at which wind speed is recovered to 8.95 m/s.\n",
    "\n",
    "$ u(x)=u_0\\sqrt{1-\\frac{c_t}{8}\\left( \\frac{D}{\\sigma(x)} \\right)^{2}},\\qquad \\sigma(x)=kx+\\frac{1}{4}\\sqrt{\\beta}D,\\qquad \\beta = \\frac{1+\\sqrt{1-c_{t}}}{2\\sqrt{1-c_t}},\\qquad k=0.02$"
   ]
  },
  {
   "cell_type": "code",
   "execution_count": 12,
   "metadata": {},
   "outputs": [
    {
     "name": "stdout",
     "output_type": "stream",
     "text": [
      "At 20213.00 m behind the turbine, wind speed is 8.95 m/s again.\n"
     ]
    }
   ],
   "source": [
    "def wind_speed(u_0, ct, D, sigma):\n",
    "    # Calculate wind speed at a certain distance behind a turbine based on the wake model equation\n",
    "    a = 1 - (ct * D ** 2) / (8 * sigma ** 2)\n",
    "    return u_0 * a ** 0.5\n",
    "\n",
    "def sigma(k, x, beta, D):\n",
    "    # Calculate sigma value based on the wake model equation\n",
    "    return k * x + 0.25 * beta ** 0.5 * D\n",
    "\n",
    "# Turbine parameters\n",
    "uniform_wind_speed = 9  # m/s\n",
    "D = 154  # m\n",
    "ct = 0.763\n",
    "k = 0.02\n",
    "beta = 0.5 * (1 + (1 - ct) ** 0.5) / ((1 - ct) ** 0.5)\n",
    "\n",
    "# Threshold parameters\n",
    "threshold = 8.95 # m/s\n",
    "increment = 1  # m\n",
    "\n",
    "# Calculate wind speed up to a certain distance behind the turbine when wind speed is below threshold\n",
    "for x in range(0, int(1e5), increment):\n",
    "    sigma_value = sigma(k, x, beta, D)\n",
    "    u = wind_speed(uniform_wind_speed, ct, D, sigma_value)\n",
    "    \n",
    "    if u >= threshold:\n",
    "        print(f\"At {x:.2f} m behind the turbine, wind speed is {u:.2f} m/s again.\")\n",
    "        break"
   ]
  },
  {
   "cell_type": "markdown",
   "metadata": {},
   "source": [
    "### E4. Geometric series"
   ]
  },
  {
   "cell_type": "markdown",
   "metadata": {},
   "source": [
    "Function that calculates the $\\sum_{k=0}^{N-1}x^k$ and the closed form of the geometric series $\\frac{1-x^N}{1-x}$.\n",
    "<br>Check for differences between the two results and explain why they are different."
   ]
  },
  {
   "cell_type": "code",
   "execution_count": 22,
   "metadata": {},
   "outputs": [
    {
     "name": "stdout",
     "output_type": "stream",
     "text": [
      "[   5] N= 2 x= 0.1: [ Summation: 1.10000000000000009, Geometric series: 1.09999999999999987]  Difference:  2.220e-16\n",
      "[   9] N= 3 x= 0.1: [ Summation: 1.11000000000000010, Geometric series: 1.10999999999999988]  Difference:  2.220e-16\n",
      "[  12] N= 3 x= 0.9: [ Summation: 2.70999999999999996, Geometric series: 2.70999999999999952]  Difference:  4.441e-16\n",
      "[  16] N= 4 x= 0.9: [ Summation: 3.43900000000000006, Geometric series: 3.43900000000000050]  Difference: -4.441e-16\n",
      "[  28] N= 7 x= 0.9: [ Summation: 5.21703100000000042, Geometric series: 5.21703099999999953]  Difference:  8.882e-16\n",
      "[  40] N=10 x= 0.9: [ Summation: 6.51321559900000047, Geometric series: 6.51321559900000135]  Difference: -8.882e-16\n",
      "[  49] N=13 x= 0.1: [ Summation: 1.11111111111100014, Geometric series: 1.11111111111099992]  Difference:  2.220e-16\n",
      "[  52] N=13 x= 0.9: [ Summation: 7.45813417167100035, Geometric series: 7.45813417167100123]  Difference: -8.882e-16\n",
      "[  60] N=15 x= 0.9: [ Summation: 7.94108867905351001, Geometric series: 7.94108867905351090]  Difference: -8.882e-16\n",
      "[  61] N=16 x= 0.1: [ Summation: 1.11111111111111116, Geometric series: 1.11111111111111094]  Difference:  2.220e-16\n",
      "[  64] N=16 x= 0.9: [ Summation: 8.14697981114815839, Geometric series: 8.14697981114816017]  Difference: -1.776e-15\n",
      "[  68] N=17 x= 0.9: [ Summation: 8.33228183003334166, Geometric series: 8.33228183003334344]  Difference: -1.776e-15\n",
      "[  72] N=18 x= 0.9: [ Summation: 8.49905364703000821, Geometric series: 8.49905364703000998]  Difference: -1.776e-15\n",
      "[  80] N=20 x= 0.9: [ Summation: 8.78423345409430745, Geometric series: 8.78423345409430922]  Difference: -1.776e-15\n",
      "[  84] N=21 x= 0.9: [ Summation: 8.90581010868487688, Geometric series: 8.90581010868487866]  Difference: -1.776e-15\n",
      "[  88] N=22 x= 0.9: [ Summation: 9.01522909781638937, Geometric series: 9.01522909781639115]  Difference: -1.776e-15\n",
      "[  96] N=24 x= 0.9: [ Summation: 9.20233556923127516, Geometric series: 9.20233556923127693]  Difference: -1.776e-15\n",
      "[ 100] N=25 x= 0.9: [ Summation: 9.28210201230814747, Geometric series: 9.28210201230814924]  Difference: -1.776e-15\n",
      "[ 104] N=26 x= 0.9: [ Summation: 9.35389181107733236, Geometric series: 9.35389181107733414]  Difference: -1.776e-15\n",
      "[ 108] N=27 x= 0.9: [ Summation: 9.41850262996959842, Geometric series: 9.41850262996960197]  Difference: -3.553e-15\n",
      "[ 111] N=28 x=0.75: [ Summation: 3.99873008291434617, Geometric series: 3.99873008291434662]  Difference: -4.441e-16\n",
      "[ 112] N=28 x= 0.9: [ Summation: 9.47665236697263857, Geometric series: 9.47665236697264035]  Difference: -1.776e-15\n",
      "[ 116] N=29 x= 0.9: [ Summation: 9.52898713027537525, Geometric series: 9.52898713027537703]  Difference: -1.776e-15\n",
      "[ 119] N=30 x=0.75: [ Summation: 3.99928567163931969, Geometric series: 3.99928567163932014]  Difference: -4.441e-16\n",
      "[ 120] N=30 x= 0.9: [ Summation: 9.57608841724783844, Geometric series: 9.57608841724784021]  Difference: -1.776e-15\n",
      "[ 123] N=31 x=0.75: [ Summation: 3.99946425372948955, Geometric series: 3.99946425372948999]  Difference: -4.441e-16\n",
      "[ 124] N=31 x= 0.9: [ Summation: 9.61847957552305388, Geometric series: 9.61847957552305566]  Difference: -1.776e-15\n",
      "[ 127] N=32 x=0.75: [ Summation: 3.99959819029711694, Geometric series: 3.99959819029711738]  Difference: -4.441e-16\n",
      "[ 128] N=32 x= 0.9: [ Summation: 9.65663161797074920, Geometric series: 9.65663161797075098]  Difference: -1.776e-15\n",
      "[ 131] N=33 x=0.75: [ Summation: 3.99969864272283759, Geometric series: 3.99969864272283804]  Difference: -4.441e-16\n",
      "[ 132] N=33 x= 0.9: [ Summation: 9.69096845617367464, Geometric series: 9.69096845617367642]  Difference: -1.776e-15\n",
      "[ 135] N=34 x=0.75: [ Summation: 3.99977398204212786, Geometric series: 3.99977398204212875]  Difference: -8.882e-16\n",
      "[ 139] N=35 x=0.75: [ Summation: 3.99983048653159567, Geometric series: 3.99983048653159656]  Difference: -8.882e-16\n",
      "[ 143] N=36 x=0.75: [ Summation: 3.99987286489869653, Geometric series: 3.99987286489869742]  Difference: -8.882e-16\n",
      "[ 144] N=36 x= 0.9: [ Summation: 9.77471600455060852, Geometric series: 9.77471600455061029]  Difference: -1.776e-15\n",
      "[ 147] N=37 x=0.75: [ Summation: 3.99990464867402240, Geometric series: 3.99990464867402284]  Difference: -4.441e-16\n",
      "[ 148] N=37 x= 0.9: [ Summation: 9.79724440409554731, Geometric series: 9.79724440409554909]  Difference: -1.776e-15\n",
      "[ 151] N=38 x=0.75: [ Summation: 3.99992848650551647, Geometric series: 3.99992848650551736]  Difference: -8.882e-16\n",
      "[ 152] N=38 x= 0.9: [ Summation: 9.81751996368599222, Geometric series: 9.81751996368599400]  Difference: -1.776e-15\n",
      "[ 155] N=39 x=0.75: [ Summation: 3.99994636487913713, Geometric series: 3.99994636487913802]  Difference: -8.882e-16\n",
      "[ 156] N=39 x= 0.9: [ Summation: 9.83576796731739300, Geometric series: 9.83576796731739655]  Difference: -3.553e-15\n",
      "[ 159] N=40 x=0.75: [ Summation: 3.99995977365935262, Geometric series: 3.99995977365935351]  Difference: -8.882e-16\n",
      "[ 160] N=40 x= 0.9: [ Summation: 9.85219117058565352, Geometric series: 9.85219117058565530]  Difference: -1.776e-15\n",
      "[ 163] N=41 x=0.75: [ Summation: 3.99996983024451414, Geometric series: 3.99996983024451502]  Difference: -8.882e-16\n",
      "[ 164] N=41 x= 0.9: [ Summation: 9.86697205352708728, Geometric series: 9.86697205352709084]  Difference: -3.553e-15\n",
      "[ 167] N=42 x=0.75: [ Summation: 3.99997737268338538, Geometric series: 3.99997737268338627]  Difference: -8.882e-16\n",
      "[ 168] N=42 x= 0.9: [ Summation: 9.88027484817437873, Geometric series: 9.88027484817438229]  Difference: -3.553e-15\n",
      "[ 171] N=43 x=0.75: [ Summation: 3.99998302951253892, Geometric series: 3.99998302951253981]  Difference: -8.882e-16\n",
      "[ 172] N=43 x= 0.9: [ Summation: 9.89224736335694033, Geometric series: 9.89224736335694388]  Difference: -3.553e-15\n",
      "[ 175] N=44 x=0.75: [ Summation: 3.99998727213440386, Geometric series: 3.99998727213440475]  Difference: -8.882e-16\n",
      "[ 176] N=44 x= 0.9: [ Summation: 9.90302262702124558, Geometric series: 9.90302262702124914]  Difference: -3.553e-15\n",
      "[ 179] N=45 x=0.75: [ Summation: 3.99999045410080267, Geometric series: 3.99999045410080356]  Difference: -8.882e-16\n",
      "[ 180] N=45 x= 0.9: [ Summation: 9.91272036431912085, Geometric series: 9.91272036431912440]  Difference: -3.553e-15\n",
      "[ 183] N=46 x=0.75: [ Summation: 3.99999284057560178, Geometric series: 3.99999284057560267]  Difference: -8.882e-16\n",
      "[ 184] N=46 x= 0.9: [ Summation: 9.92144832788720876, Geometric series: 9.92144832788721232]  Difference: -3.553e-15\n",
      "[ 187] N=47 x=0.75: [ Summation: 3.99999463043170111, Geometric series: 3.99999463043170200]  Difference: -8.882e-16\n",
      "[ 188] N=47 x= 0.9: [ Summation: 9.92930349509848753, Geometric series: 9.92930349509849108]  Difference: -3.553e-15\n",
      "[ 191] N=48 x=0.75: [ Summation: 3.99999597282377550, Geometric series: 3.99999597282377639]  Difference: -8.882e-16\n",
      "[ 192] N=48 x= 0.9: [ Summation: 9.93637314558863771, Geometric series: 9.93637314558864304]  Difference: -5.329e-15\n",
      "[ 195] N=49 x=0.75: [ Summation: 3.99999697961783118, Geometric series: 3.99999697961783252]  Difference: -1.332e-15\n",
      "[ 196] N=49 x= 0.9: [ Summation: 9.94273583102977376, Geometric series: 9.94273583102977909]  Difference: -5.329e-15\n",
      "[ 199] N=50 x=0.75: [ Summation: 3.99999773471337328, Geometric series: 3.99999773471337416]  Difference: -8.882e-16\n",
      "[ 200] N=50 x= 0.9: [ Summation: 9.94846224792679656, Geometric series: 9.94846224792680189]  Difference: -5.329e-15\n",
      "\n",
      "Total number of differences: 63 / 200 (31.5%)\n",
      "Average difference: -1.586e-15\n"
     ]
    }
   ],
   "source": [
    "def sum_x_k(x, N):\n",
    "    # Calculate sum x^k for k=0 to k=N-1\n",
    "    return sum(x**k for k in range(N))\n",
    "\n",
    "def geo_series(x, N):\n",
    "    # Calculate closed form of geometric series (1-x^N)/(1-x)\n",
    "    return N if x == 1 else (1 - x**N) / (1 - x) # Prevent division by zero\n",
    "\n",
    "def test_methods(test_x, N):\n",
    "    # Compare two methods for precision over a range of x and N values\n",
    "    diff_count, diff_sum, trial_num = 0, 0, 0\n",
    "    for N in range(1, N+1):\n",
    "        for x in test_x:\n",
    "            trial_num += 1\n",
    "            sum_method = sum_x_k(x,N)\n",
    "            geo_method = geo_series(x,N)\n",
    "            if sum_method!=geo_method: # Discrepancy between methods\n",
    "                diff = sum_method - geo_method\n",
    "                diff_count += 1\n",
    "                diff_sum += diff # Sum of differences for averaging later\n",
    "                # Format the output text to 17 decimal places and scientific notation in columns\n",
    "                print(f\"[{trial_num:4}] N={N:2} x={x:4}: [ Summation: {sum_method:.17f}, Geometric series: {geo_method:.17f}]  Difference: {sum_method-geo_method:10.3e}\")       \n",
    "    return diff_count, diff_sum/diff_count, trial_num\n",
    "\n",
    "test_x = [0.1, 0.25, 0.75, 0.9]\n",
    "N = 50 # Max value of N to test\n",
    "diff_count, avg_diff, trial_num = test_methods(test_x, N)\n",
    "print(f\"\\nTotal number of differences: {diff_count} / {trial_num} ({diff_count/trial_num * 100}%)\")\n",
    "print(f\"Average difference: {avg_diff:.3e}\")"
   ]
  },
  {
   "cell_type": "markdown",
   "metadata": {},
   "source": [
    "The small deviations observed are caused by limited numerical precision in the calculations, which causes rounding errors. This is due to the limited precision of floating-point numbers.\n",
    "\n",
    "The computation algorithm used is the main cause of these deviations. Specifically, the error comes from the use of the summation formula: $$\\sum_{k=0}^{N-1}x^{k}$$ instead of the closed form of the geometric series:$$\\frac{1-x^{N}}{1-x}$$"
   ]
  },
  {
   "cell_type": "markdown",
   "metadata": {},
   "source": [
    "### E5. Graph intersect"
   ]
  },
  {
   "cell_type": "markdown",
   "metadata": {},
   "source": [
    "Considering two sets of functions, find the intersection points. Then calculate areas of the intersections using the trapezoidal rule. <br><br>\n",
    "$ f_1(x) = sin(x) $ <br>$ g_1(x) = cos(x) $ <br><br>\n",
    "$f_2(x) = x^2 + 2x - 5$ <br>$g_2(x) = 2x - 1$"
   ]
  },
  {
   "cell_type": "code",
   "execution_count": 17,
   "metadata": {},
   "outputs": [
    {
     "name": "stdout",
     "output_type": "stream",
     "text": [
      "Intersections for sine and cosine functions in the range [0°,360°]:\n",
      "\n",
      "1: [ 45°,   0.71]\n",
      "2: [225°,  -0.71]\n",
      "\n",
      "Intersections for quadratic and linear functions in the range [-5,5]:\n",
      "\n",
      "1: [ -2 ,  -5.00]\n",
      "2: [  2 ,   3.00]\n"
     ]
    }
   ],
   "source": [
    "import math\n",
    "\n",
    "# definitions of sin,cos function, with x in degrees\n",
    "def sine(x):\n",
    "    return math.sin(math.radians(x))\n",
    "def cosine(x):\n",
    "    return math.cos(math.radians(x))\n",
    "\n",
    "# second set of functions\n",
    "def function_1(x):\n",
    "    return math.pow(x, 2) + 2*x - 5\n",
    "\n",
    "def function_2(x):\n",
    "    return 2*x - 1\n",
    "\n",
    "def find_intersects(function1, function2, range_x_values):\n",
    "    # returns the intersection point (x,f(x))\n",
    "    return [(x, function1(x)) for x in range_x_values if abs(function1(x) - function2(x)) < 1e-6]\n",
    "\n",
    "# prints the results. degrees boolean simply changes output to degrees\n",
    "def print_intersects(intersections, degrees):\n",
    "    i = 1\n",
    "    if degrees:\n",
    "        print(f\"Intersections for sine and cosine functions in the range [0°,360°]:\\n\")\n",
    "    else:\n",
    "        print(f\"\\nIntersections for quadratic and linear functions in the range [-5,5]:\\n\")\n",
    "    \n",
    "    for x, fx in intersections:\n",
    "        if degrees:\n",
    "            print(f\"{i}: [{x:3}°, {fx:6.2f}]\")\n",
    "        else:\n",
    "            print(f\"{i}: [{x:3} , {fx:6.2f}]\")\n",
    "        i += 1\n",
    "\n",
    "# Main program\n",
    "range_1 = range(0, 361)\n",
    "intersects_1 = find_intersects(sine, cosine, range_1)\n",
    "print_intersects(intersects_1, True)\n",
    "\n",
    "range_2 = range(-5, 6)\n",
    "intersects_2 = find_intersects(function_1, function_2, range_2)\n",
    "print_intersects(intersects_2, False)"
   ]
  },
  {
   "cell_type": "markdown",
   "metadata": {},
   "source": [
    "We then calculate the integral under the curves by using the trapezoidal rule.\n",
    "$$ \\int_{a}^{b}f(x)dx≈\\frac{b-a}{2}\\left[ f(a) +f(b)\\right] $$\n",
    "Where the interval $ [a,b] $ is divided into smaller subintervals and the rule applied at each one of them. The more subintervals used, the closer the approximation to the actual value of the integral.\n",
    "<br>Therefore the approximation to the integral becomes\n",
    "$$ \\int_{a}^{b}f(x)dx≈\\Delta x \\left( \\frac{f\\left( x_N \\right) + f\\left( x_0 \\right) }{2}+\\sum_{k=1}^{N-1}f\\left( x_k \\right) \\right) $$ \n",
    "where $$ \\Delta x=\\frac{b-a}{N} $$"
   ]
  },
  {
   "cell_type": "code",
   "execution_count": 18,
   "metadata": {},
   "outputs": [
    {
     "name": "stdout",
     "output_type": "stream",
     "text": [
      "\n",
      "The area between f_2(x) and g_2(x) in the range [-5,5] is = 10.67\n"
     ]
    }
   ],
   "source": [
    "def integral_trapezoidal(f, a, b, N):\n",
    "    # Approximates the integral of the difference between two functions using the trapezoidal rule\n",
    "    # \n",
    "    #   fx: 1st function to integrate\n",
    "    #   a: lower bound of integration\n",
    "    #   b: upper bound of integration\n",
    "    #   N: number of steps to subdivide the interval of integration\n",
    "    \n",
    "    dx = float(b - a) / N # step size\n",
    "    integral = (f(a) + f(b)) * 0.5 # approximation of the integral at the bounds\n",
    "    \n",
    "    for i in range(1, N): # loop of the sum of the trapezoidal rule\n",
    "        u = f(a + i*dx)\n",
    "        integral += u\n",
    "    return integral * dx\n",
    "\n",
    "# define precision of the integral approximation (more steps = more precise)\n",
    "step_num = 100\n",
    "area1 = integral_trapezoidal(function_1, intersects_2[0][0], intersects_2[1][0], step_num)\n",
    "area2 = integral_trapezoidal(function_2, intersects_2[0][0], intersects_2[1][0], step_num)\n",
    "print(f\"\\nThe area between f_2(x) and g_2(x) in the range [-5,5] is = {abs(area2 - area1):.2f}\")\n"
   ]
  },
  {
   "cell_type": "markdown",
   "metadata": {},
   "source": [
    "### E6. Linear regression"
   ]
  },
  {
   "cell_type": "markdown",
   "metadata": {},
   "source": [
    "Perform a linear regression on a cloud of points using Ordinary Least Squares.\n",
    "<br>Find the coefficients $a$ and $b$ in the function $f(x) = ax + b$\n",
    "<br> $$ a=\\frac{\\sum_{i}^{n}(x_i-\\bar{x})(y_i-\\bar{y})}{\\sum_{i}^{n}(x_i-\\bar{x})^2}, \\qquad b=\\bar{y}-a\\bar{x} $$\n",
    "<br>Explain differences between original function and fitted function. How to get closer to the original function?"
   ]
  },
  {
   "cell_type": "code",
   "execution_count": 45,
   "metadata": {},
   "outputs": [
    {
     "name": "stdout",
     "output_type": "stream",
     "text": [
      "Original function: y = 1x + 1\n",
      "OLS function:      y = 1.0348351993360054x + 0.9065086934151028\n"
     ]
    }
   ],
   "source": [
    "def generate_points():\n",
    "    # Generate cloud of points\n",
    "    import numpy as np\n",
    "    x = np.linspace(0, 10, 1000)\n",
    "    noise = np.random.normal(0, 3, len(x))\n",
    "    a,b = np.random.randint(1, 5), np.random.randint(-3, 3)\n",
    "    y = a * x + b + noise\n",
    "    print(f\"Original function: y = {a}x + {b}\")\n",
    "    return x, y\n",
    "\n",
    "def OLS_coefficients(x, y):\n",
    "    # Return coefficients a, b using Ordinary Least Squares\n",
    "    n = len(x)\n",
    "    x_avg, y_avg = sum(x) / n, sum(y) / n\n",
    "    a_numerator = sum([(x[i] - x_avg) * (y[i] - y_avg) for i in range(n)])\n",
    "    a_denominator = sum([(x[i] - x_avg)**2 for i in range(n)])\n",
    "    a = a_numerator / a_denominator    \n",
    "    b = y_avg - a * x_avg\n",
    "    return a, b\n",
    "\n",
    "[x, y] = generate_points()\n",
    "[a, b] = OLS_coefficients(x, y)\n",
    "print(f\"OLS function:      y = {a}x + {b}\")"
   ]
  },
  {
   "cell_type": "markdown",
   "metadata": {},
   "source": [
    "- The function <b>'generate_points'</b> is used to generate the cloud of points based on the theoretical relationship between 'x' and 'y' in the formula $'f(x) = ax + b'$, using the parameters a and b as random integers from specific ranges and adding a 'noise' generated from a normal distribution. This is made to simulate the real world scenario in which the data does not follow the theoretical relationship.\n",
    "\n",
    "- The <b>'OLS_coefficients'</b> function is used to calculate the coefficients $'a'$ and $'b'$ of the function by using the Ordinary Least Squares approximation method, minimizing the sum of squared residuals. $'a'$ represents the slope and $'b'$ represents the y-intercept of the best-fit line that minimizes the cost function. This is achieved by minimising the vertical distances between the observed data points and the best-fit line.\n",
    "\n",
    "$$ J = \\sum_{i=1}^{n}(y_i - \\hat{y}_i)^2 $$\n",
    "\n",
    "- The <b>original</b> function $'f(x) = ax + b'$ is the theoretical relationship between $'x'$ and $'y'$, and the <b>fitted function</b> $'f(x) = \\hat{a}x + \\hat{b}'$ is the best linear approximation of the observed data points generated by the 'generate_points' function after using the OSL method.\n",
    "\n",
    "-------------------------------------------------------\n",
    "\n",
    "The **OLS method** assumes a linear relationship between the variables, which is correct in this case, but this is an assumption that has to be made in practice. In case of non linearities, a different method such as a polynomial regression can be used.\n",
    "If the noise levels are too high, or if the number of data points is too small, the OLS method may not be able to accurately represent the relationship between the variables. Therefore several changes can be done to increase the accuracy of this method in order to get closer to the original function:\n",
    "\n",
    "1. **Increase the number of data points:** by increasing the length of 'x', the accuracy of the OLS method can be improved.\n",
    "\n",
    "2. **Reduce the noise levels:** by reducing the standard deviation of the gaussian noise generated in the 'generate_points' function, the accuracy of the OLS method can be improved.\n",
    "\n",
    "3. **Repeat the process iteratively:** averaging the coefficients from multiple runs/datasets. Akin to the **'Monte Carlo simulation method'**, by repeating for a large number of iterations both the generation of points and the calculation of the coefficients, the impact of random noise can be reduced.\n",
    "\n",
    "4. **Use alternative regression techniques:** Using an alternative fit function, such as a linear regression model, could possibly increase the accuracy of the prediction."
   ]
  },
  {
   "cell_type": "markdown",
   "metadata": {},
   "source": [
    "### E7. Christmas tree"
   ]
  },
  {
   "cell_type": "markdown",
   "metadata": {},
   "source": [
    "Draw a Christmas tree using print automatically with function (input is height of tree in rows).\n",
    "<br> Adapt function to change width of tree trunk to approximately 1/3 of height."
   ]
  },
  {
   "cell_type": "code",
   "execution_count": 114,
   "metadata": {},
   "outputs": [
    {
     "name": "stdout",
     "output_type": "stream",
     "text": [
      "                 *\n",
      "                ***\n",
      "               *****\n",
      "              *******\n",
      "             *********\n",
      "            ***********\n",
      "           *************\n",
      "          ***************\n",
      "         *****************\n",
      "        *******************\n",
      "       *********************\n",
      "      ***********************\n",
      "     *************************\n",
      "    ***************************\n",
      "   *****************************\n",
      "  *******************************\n",
      " *********************************\n",
      "***********************************\n",
      "              ██████\n",
      "              ██████\n",
      "              ██████\n",
      "              ██████\n",
      "              ██████\n",
      "              ██████\n"
     ]
    }
   ],
   "source": [
    "from numpy.random import randint\n",
    "\n",
    "def draw_tree(height, leaf, wood):\n",
    "    for i in range(height - 1):\n",
    "        spaces = \" \" * (height - i - 2)\n",
    "        leaves = leaf * (2 * i + 1)\n",
    "        print(f\"{spaces}{leaves}\")\n",
    "\n",
    "    trunk_width = height // 3\n",
    "    for _ in range(trunk_width):\n",
    "        spaces = \" \" * (i - trunk_width // 2)\n",
    "        trunk = wood * trunk_width\n",
    "        print(f\"{spaces}{trunk}\")\n",
    "\n",
    "# Tree parameters\n",
    "tree_height = randint(4,30)\n",
    "leaf = '*'\n",
    "wood = '█'\n",
    "\n",
    "draw_tree(tree_height, leaf, wood)\n"
   ]
  }
 ],
 "metadata": {
  "kernelspec": {
   "display_name": "Python 3 (ipykernel)",
   "language": "python",
   "name": "python3"
  },
  "language_info": {
   "codemirror_mode": {
    "name": "ipython",
    "version": 3
   },
   "file_extension": ".py",
   "mimetype": "text/x-python",
   "name": "python",
   "nbconvert_exporter": "python",
   "pygments_lexer": "ipython3",
   "version": "3.11.5"
  }
 },
 "nbformat": 4,
 "nbformat_minor": 2
}
