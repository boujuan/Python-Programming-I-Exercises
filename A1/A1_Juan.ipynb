{
 "cells": [
  {
   "cell_type": "markdown",
   "metadata": {},
   "source": [
    "# <center><b> Python Programming in Energy Science </b></center>\n",
    "\n",
    "## <center> Assignment A1 </center>\n",
    "\n",
    "### <center>[Group 4]</center>\n",
    "\n",
    "-------------------------------"
   ]
  },
  {
   "cell_type": "markdown",
   "metadata": {},
   "source": [
    "### E1. Number guessing"
   ]
  },
  {
   "cell_type": "code",
   "execution_count": 3,
   "metadata": {},
   "outputs": [
    {
     "name": "stdout",
     "output_type": "stream",
     "text": [
      "#1 14 is too low!  [0, 100] 1.00%\n",
      "#2 93 is too high! [15, 100] 1.18%\n",
      "#3 48 is too low!  [15, 92] 1.30%\n",
      "#4 86 is too high! [49, 92] 2.33%\n",
      "#5 84 is too high! [49, 85] 2.78%\n",
      "#6 78 is too high! [49, 83] 2.94%\n",
      "#7 68 is too high! [49, 77] 3.57%\n",
      "----------------------------\n",
      "#8 55 is a Match!  [49, 67] 5.56%\n",
      "(It took 8 guesses)\n"
     ]
    }
   ],
   "source": [
    "from numpy.random import randint\n",
    "\n",
    "# Parameters for RNG\n",
    "lower_bound = 0\n",
    "upper_bound = 100\n",
    "# reorder the bounds in case of wrong input\n",
    "lower_bound, upper_bound = min(lower_bound, upper_bound), max(lower_bound, upper_bound)\n",
    "\n",
    "# Human input to be guessed\n",
    "n = int(input(f\"Enter a number [{lower_bound}-{upper_bound}]: \"))\n",
    "\n",
    "# Guessing algorithm with RNG\n",
    "i = 0\n",
    "while lower_bound<upper_bound:\n",
    "    i += 1\n",
    "    guess = randint(lower_bound, upper_bound)  # RNG to guess\n",
    "    chance = 1/(upper_bound - lower_bound) * 100    # Chance of guessing correct\n",
    "\n",
    "    if guess == n:\n",
    "        print(f\"----------------------------\\n#{i} {guess} is a Match!  [{lower_bound}, {upper_bound}] {chance:.2f}%\\n(It took {i} guesses)\")\n",
    "        break\n",
    "    elif guess > n:\n",
    "        print(f\"#{i} {guess} is too high! [{lower_bound}, {upper_bound}] {chance:.2f}%\")\n",
    "        upper_bound = guess - 1\n",
    "    else:\n",
    "        print(f\"#{i} {guess} is too low!  [{lower_bound}, {upper_bound}] {chance:.2f}%\")\n",
    "        lower_bound = guess + 1\n",
    "\n",
    "# Accept guess if ranges converge\n",
    "if lower_bound == upper_bound:\n",
    "    guess = lower_bound\n",
    "    print(f\"Number ranges convergence obtained [{lower_bound}, {upper_bound}] 100.00%\\n---------------------------\\n#{i+1} {guess} is a Match! [{lower_bound}, {upper_bound}]\\n(It took {i+1} guesses)\")"
   ]
  },
  {
   "cell_type": "markdown",
   "metadata": {},
   "source": [
    "### E2. Vector magnitudes"
   ]
  },
  {
   "cell_type": "code",
   "execution_count": 7,
   "metadata": {},
   "outputs": [
    {
     "name": "stdout",
     "output_type": "stream",
     "text": [
      "1 : Magnitude of ( 3 , 21 , 4 ) is 21.587033144922902\n",
      "2 : Magnitude of ( 26 , 3 , 8 ) is 27.367864366808018\n",
      "3 : Magnitude of ( 18 , 15 , 6 ) is 24.186773244895647\n",
      "4 : Magnitude of ( 9 , 18 , 17 ) is 26.343879744638983\n",
      "5 : Magnitude of ( 11 , 7 , 14 ) is 19.131126469708992\n",
      "6 : Magnitude of ( 19 , 10 , 4 ) is 21.840329667841555\n",
      "7 : Magnitude of ( 29 , 12 , 3 ) is 31.52776554086889\n",
      "8 : Magnitude of ( 29 , 23 , 5 ) is 37.3496987939662\n",
      "9 : Magnitude of ( 17 , 16 , 19 ) is 30.099833886584822\n",
      "10 : Magnitude of ( 25 , 27 , 24 ) is 43.93176527297759\n",
      "\n",
      "Largest magnitude: 43.93176527297759, Vector 10: (25, 27, 24)\n",
      "Smallest magnitude: 19.131126469708992, Vector 5: (11, 7, 14)\n"
     ]
    }
   ],
   "source": [
    "from numpy.random import randint\n",
    "\n",
    "class Vector:\n",
    "    def __init__(self, x, y, z):\n",
    "        self.x = x\n",
    "        self.y = y\n",
    "        self.z = z\n",
    "        self.magnitude = self.magnitude(x, y, z)\n",
    "        \n",
    "    def magnitude(self, x,y,z):\n",
    "        return (x**2 + y**2 + z**2)**0.5\n",
    "\n",
    "# Check Magnitude of all vectors in v_list and print largest and smallest\n",
    "def check_magnitude(v_list):\n",
    "    magnitude_list = [vector.magnitude for vector in v_list]\n",
    "    max_magnitude = max(magnitude_list)\n",
    "    min_magnitude = min(magnitude_list)\n",
    "    \n",
    "    max_magnitude_index = magnitude_list.index(max_magnitude)\n",
    "    min_magnitude_index = magnitude_list.index(min_magnitude)\n",
    "\n",
    "    max_vector = v_list[max_magnitude_index]\n",
    "    min_vector = v_list[min_magnitude_index]\n",
    "    \n",
    "    print(f\"\\nLargest magnitude: {max_magnitude}, Vector {max_magnitude_index+1}: ({max_vector.x}, {max_vector.y}, {max_vector.z})\")\n",
    "    print(f\"Smallest magnitude: {min_magnitude}, Vector {min_magnitude_index+1}: ({min_vector.x}, {min_vector.y}, {min_vector.z})\")\n",
    "\n",
    "limits = [0,30]\n",
    "size = 10\n",
    "v_list = []\n",
    "\n",
    "# Create 10 random vectors\n",
    "for i in range(size):\n",
    "    x = randint(limits[0], limits[1])\n",
    "    y = randint(limits[0], limits[1])\n",
    "    z = randint(limits[0], limits[1])\n",
    "    v_list.append(Vector(x, y, z))\n",
    "    \n",
    "    print(i+1,\": Magnitude of (\", v_list[i].x, \",\", v_list[i].y, \",\", v_list[i].z, \")\",\"is\", v_list[i].magnitude)\n",
    "\n",
    "check_magnitude(v_list)"
   ]
  },
  {
   "cell_type": "markdown",
   "metadata": {},
   "source": [
    "### E3. Wind turbine wake"
   ]
  },
  {
   "cell_type": "code",
   "execution_count": 28,
   "metadata": {},
   "outputs": [
    {
     "name": "stdout",
     "output_type": "stream",
     "text": [
      "At 20212.10 m behind the turbine, wind speed is 8.95 m/s again\n"
     ]
    }
   ],
   "source": [
    "def wind_speed(uniform_wind_speed, ct, D, sigma):\n",
    "    b = 1 - (ct * D ** 2) / (8 * sigma ** 2)\n",
    "    c = b ** 0.5\n",
    "    return uniform_wind_speed * c\n",
    "\n",
    "def calculate_sigma(k, x, beta, D):\n",
    "    return k * x + 0.25 * beta ** 0.5 * D\n",
    "\n",
    "def calculate_beta(ct):\n",
    "    return 0.5 * (1 + (1 - ct) ** 0.5) / ((1 - ct) ** 0.5)\n",
    "\n",
    "# Turbine parameters\n",
    "uniform_wind_speed = 9  # m/s\n",
    "D = 154  # m\n",
    "ct = 0.763\n",
    "k = 0.02\n",
    "\n",
    "# Parameters\n",
    "x = 0  # m\n",
    "threshold = 8.95 # m/s\n",
    "\n",
    "# Calculate wind speed at a certain distance behind the turbine\n",
    "while True:\n",
    "    beta_value = calculate_beta(ct)\n",
    "    # print(beta_value)\n",
    "    sigma_value = calculate_sigma(k, x, beta_value, D)\n",
    "    # print(sigma_value)\n",
    "    wind_speed_value = wind_speed(uniform_wind_speed, ct, D, sigma_value)\n",
    "    \n",
    "    if wind_speed_value >= threshold:\n",
    "        print(f\"At {x:.2f} m behind the turbine, wind speed is {wind_speed_value:.2f} m/s again\")\n",
    "        break\n",
    "    else:\n",
    "        x += 0.1\n"
   ]
  },
  {
   "cell_type": "markdown",
   "metadata": {},
   "source": [
    "### E4. Geometric series"
   ]
  },
  {
   "cell_type": "code",
   "execution_count": null,
   "metadata": {},
   "outputs": [],
   "source": []
  },
  {
   "cell_type": "markdown",
   "metadata": {},
   "source": [
    "### E5. Graph intersect"
   ]
  },
  {
   "cell_type": "code",
   "execution_count": null,
   "metadata": {},
   "outputs": [],
   "source": []
  },
  {
   "cell_type": "markdown",
   "metadata": {},
   "source": [
    "### E6. Graph intersect"
   ]
  },
  {
   "cell_type": "code",
   "execution_count": null,
   "metadata": {},
   "outputs": [],
   "source": []
  },
  {
   "cell_type": "markdown",
   "metadata": {},
   "source": [
    "### E7. Christmas tree"
   ]
  },
  {
   "cell_type": "code",
   "execution_count": null,
   "metadata": {},
   "outputs": [],
   "source": []
  }
 ],
 "metadata": {
  "kernelspec": {
   "display_name": "latest",
   "language": "python",
   "name": "python3"
  },
  "language_info": {
   "codemirror_mode": {
    "name": "ipython",
    "version": 3
   },
   "file_extension": ".py",
   "mimetype": "text/x-python",
   "name": "python",
   "nbconvert_exporter": "python",
   "pygments_lexer": "ipython3",
   "version": "3.11.5"
  }
 },
 "nbformat": 4,
 "nbformat_minor": 2
}
