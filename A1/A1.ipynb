{
 "cells": [
  {
   "cell_type": "markdown",
   "metadata": {},
   "source": [
    "# <center><b> Python Programming in Energy Science </b></center>\n",
    "\n",
    "## <center> Assignment A1 </center>\n",
    "\n",
    "### <center>[Group 4]</center>\n",
    "\n",
    "-------------------------------"
   ]
  },
  {
   "cell_type": "markdown",
   "metadata": {},
   "source": [
    "### E1. Number guessing"
   ]
  },
  {
   "cell_type": "code",
   "execution_count": 30,
   "metadata": {},
   "outputs": [
    {
     "name": "stdout",
     "output_type": "stream",
     "text": [
      "#1 1 is too low!  [0, 100] 1.00%\n",
      "#2 35 is too low!  [2, 100] 1.02%\n",
      "#3 74 is too high! [36, 100] 1.56%\n",
      "#4 36 is too low!  [36, 73] 2.70%\n",
      "#5 52 is too low!  [37, 73] 2.78%\n",
      "----------------------------\n",
      "#6 56 is a Match!  [53, 73] 5.00%\n",
      "(It took 6 guesses)\n"
     ]
    }
   ],
   "source": [
    "from numpy.random import randint\n",
    "\n",
    "lower_bound = 0\n",
    "upper_bound = 100\n",
    "lower_bound, upper_bound = min(lower_bound, upper_bound), max(lower_bound, upper_bound)\n",
    "\n",
    "n = int(input(f\"Enter a number [{lower_bound}-{upper_bound}]: \"))\n",
    "\n",
    "i = 0\n",
    "while lower_bound<upper_bound:\n",
    "    i += 1\n",
    "    guess = randint(lower_bound, upper_bound)\n",
    "    chance = 1/(upper_bound - lower_bound) * 100\n",
    "\n",
    "    if guess == n:\n",
    "        print(f\"----------------------------\\n#{i} {guess} is a Match!  [{lower_bound}, {upper_bound}] {chance:.2f}%\\n(It took {i} guesses)\")\n",
    "        break\n",
    "    elif guess > n:\n",
    "        print(f\"#{i} {guess} is too high! [{lower_bound}, {upper_bound}] {chance:.2f}%\")\n",
    "        upper_bound = guess - 1\n",
    "    else:\n",
    "        print(f\"#{i} {guess} is too low!  [{lower_bound}, {upper_bound}] {chance:.2f}%\")\n",
    "        lower_bound = guess + 1\n",
    "   \n",
    "if lower_bound == upper_bound:\n",
    "    guess = lower_bound\n",
    "    print(f\"Number ranges convergence obtained [{lower_bound}, {upper_bound}] 100.00%\\n---------------------------\\n#{i+1} {guess} is a Match! [{lower_bound}, {upper_bound}]\\n(It took {i+1} guesses)\")"
   ]
  },
  {
   "cell_type": "markdown",
   "metadata": {},
   "source": [
    "### E2. Vector magnitudes"
   ]
  },
  {
   "cell_type": "code",
   "execution_count": 75,
   "metadata": {},
   "outputs": [
    {
     "name": "stdout",
     "output_type": "stream",
     "text": [
      "Magnitude of ( 29 , 26 , 4 ) is 39.153543900903784\n",
      "Magnitude of ( 18 , 8 , 25 ) is 31.827660925679098\n",
      "Magnitude of ( 29 , 24 , 7 ) is 38.28837943815329\n",
      "Magnitude of ( 19 , 26 , 14 ) is 35.11409973215888\n",
      "Magnitude of ( 22 , 8 , 1 ) is 23.430749027719962\n",
      "Magnitude of ( 5 , 13 , 16 ) is 21.213203435596427\n",
      "Magnitude of ( 17 , 11 , 13 ) is 24.06241883103193\n",
      "Magnitude of ( 24 , 24 , 26 ) is 42.7551166528639\n",
      "Magnitude of ( 9 , 13 , 28 ) is 32.155870381627054\n",
      "Magnitude of ( 0 , 7 , 4 ) is 8.06225774829855\n",
      "\n",
      "Largest magnitude: 42.7551166528639, Vector: (24, 24, 26)\n",
      "Smallest magnitude: 8.06225774829855, Vector: (0, 7, 4)\n"
     ]
    }
   ],
   "source": [
    "from numpy.random import randint\n",
    "\n",
    "class Vector:\n",
    "    def __init__(self, x, y, z):\n",
    "        self.x = x\n",
    "        self.y = y\n",
    "        self.z = z\n",
    "        self.magnitude = magnitude(x, y, z)\n",
    "        \n",
    "    def magnitude(self, x,y,z):\n",
    "        return (x**2 + y**2 + z**2)**0.5\n",
    "\n",
    "def check_magnitude(v_list):\n",
    "    magnitude_list = [vector.magnitude for vector in v_list]\n",
    "    max_magnitude = max(magnitude_list)\n",
    "    min_magnitude = min(magnitude_list)\n",
    "    \n",
    "    max_magnitude_index = magnitude_list.index(max_magnitude)\n",
    "    min_magnitude_index = magnitude_list.index(min_magnitude)\n",
    "\n",
    "    max_vector = v_list[max_magnitude_index]\n",
    "    min_vector = v_list[min_magnitude_index]\n",
    "    \n",
    "    print(f\"\\nLargest magnitude: {max_magnitude}, Vector: ({max_vector.x}, {max_vector.y}, {max_vector.z})\")\n",
    "    print(f\"Smallest magnitude: {min_magnitude}, Vector: ({min_vector.x}, {min_vector.y}, {min_vector.z})\")\n",
    "\n",
    "limits = [0,30]\n",
    "size = 10\n",
    "v_list = []\n",
    "\n",
    "for i in range(size):\n",
    "    x = randint(limits[0], limits[1])\n",
    "    y = randint(limits[0], limits[1])\n",
    "    z = randint(limits[0], limits[1])\n",
    "    v_list.append(Vector(x, y, z))\n",
    "    \n",
    "    print(\"Magnitude of (\", v_list[i].x, \",\", v_list[i].y, \",\", v_list[i].z, \")\",\"is\", v_list[i].magnitude)\n",
    "\n",
    "check_magnitude(v_list)"
   ]
  },
  {
   "cell_type": "markdown",
   "metadata": {},
   "source": [
    "### E3. Wind turbine wake"
   ]
  },
  {
   "cell_type": "code",
   "execution_count": null,
   "metadata": {},
   "outputs": [],
   "source": []
  },
  {
   "cell_type": "markdown",
   "metadata": {},
   "source": [
    "### E4. Geometric series"
   ]
  },
  {
   "cell_type": "code",
   "execution_count": null,
   "metadata": {},
   "outputs": [],
   "source": []
  },
  {
   "cell_type": "markdown",
   "metadata": {},
   "source": [
    "### E5. Graph intersect"
   ]
  },
  {
   "cell_type": "code",
   "execution_count": null,
   "metadata": {},
   "outputs": [],
   "source": []
  },
  {
   "cell_type": "markdown",
   "metadata": {},
   "source": [
    "### E6. Graph intersect"
   ]
  },
  {
   "cell_type": "code",
   "execution_count": null,
   "metadata": {},
   "outputs": [],
   "source": []
  },
  {
   "cell_type": "markdown",
   "metadata": {},
   "source": [
    "### E7. Christmas tree"
   ]
  },
  {
   "cell_type": "code",
   "execution_count": null,
   "metadata": {},
   "outputs": [],
   "source": []
  }
 ],
 "metadata": {
  "kernelspec": {
   "display_name": "latest",
   "language": "python",
   "name": "python3"
  },
  "language_info": {
   "codemirror_mode": {
    "name": "ipython",
    "version": 3
   },
   "file_extension": ".py",
   "mimetype": "text/x-python",
   "name": "python",
   "nbconvert_exporter": "python",
   "pygments_lexer": "ipython3",
   "version": "3.11.5"
  }
 },
 "nbformat": 4,
 "nbformat_minor": 2
}
