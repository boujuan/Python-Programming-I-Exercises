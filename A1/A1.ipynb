{
 "cells": [
  {
   "cell_type": "markdown",
   "metadata": {},
   "source": [
    "# <center><b> Python Programming in Energy Science </b></center>\n",
    "\n",
    "## <center> Assignment A1 </center>\n",
    "\n",
    "### <center>[Group 4]</center>\n",
    "\n",
    "-------------------------------"
   ]
  },
  {
   "cell_type": "markdown",
   "metadata": {},
   "source": [
    "### E1. Number guessing"
   ]
  },
  {
   "cell_type": "code",
   "execution_count": 34,
   "metadata": {},
   "outputs": [
    {
     "name": "stdout",
     "output_type": "stream",
     "text": [
      "#1 71 is too high! [0,100]\n",
      "#2 43 is too high! [0,70]\n",
      "#3 33 is too high! [0,42]\n",
      "#4 17 is too low!  [0,32]\n",
      "#5 22 is too low!  [18,32]\n",
      "#6 23 is too low!  [23,32]\n",
      "#7 28 is too low!  [24,32]\n",
      "#8 31 is too low!  [29,32]\n",
      "Number ranges convergence obtained [32,32]\n",
      "--------------------\n",
      "#9 32 is a Match!  [32,32]\n",
      "(It took 9 guesses)\n"
     ]
    }
   ],
   "source": [
    "from numpy.random import randint\n",
    "\n",
    "rangeL = 0\n",
    "rangeH = 100\n",
    "if rangeH < rangeL:\n",
    "    temp = rangeH\n",
    "    rangeH = rangeL\n",
    "    rangeL = temp\n",
    "\n",
    "n = int(input(\"Enter a number [0-100]: \"))\n",
    "\n",
    "i = 0\n",
    "while rangeL<rangeH:\n",
    "    i += 1\n",
    "    guess = randint(rangeL, rangeH)\n",
    "\n",
    "    if guess == n:\n",
    "        print(\"--------------------\\n#\",i,\" \",guess,\" \" ,\"is a Match!\", \"  [\", rangeL, \",\", rangeH, \"]\", \"\\n(It took \", i, \" guesses)\", sep='')\n",
    "        break\n",
    "    elif guess > n:\n",
    "        print(\"#\",i,\" \",guess,\" \" ,\"is too high!\", \" [\", rangeL, \",\", rangeH, \"]\", sep='')\n",
    "        rangeH = guess - 1\n",
    "    else:\n",
    "        print(\"#\",i,\" \",guess,\" \" ,\"is too low!\", \"  [\", rangeL, \",\", rangeH, \"]\", sep='')\n",
    "        rangeL = guess + 1\n",
    "   \n",
    "if rangeL == rangeH:\n",
    "    guess = rangeL\n",
    "    print(\"Number ranges convergence obtained \", \"[\", rangeL, \",\", rangeH, \"]\\n--------------------\\n#\",i+1,\" \",guess,\" \" ,\"is a Match!\", \"  [\", rangeL, \",\", rangeH, \"]\", \"\\n(It took \", i+1, \" guesses)\", sep='')"
   ]
  },
  {
   "cell_type": "markdown",
   "metadata": {},
   "source": [
    "### E2. Vector magnitudes"
   ]
  },
  {
   "cell_type": "code",
   "execution_count": 4,
   "metadata": {},
   "outputs": [
    {
     "name": "stdout",
     "output_type": "stream",
     "text": [
      "Magnitude of ( 6 , 16 , 17 ) is 24.1039415863879\n",
      "Magnitude of ( 24 , 4 , 4 ) is 24.657656011875904\n"
     ]
    },
    {
     "ename": "IndexError",
     "evalue": "list index out of range",
     "output_type": "error",
     "traceback": [
      "\u001b[1;31m---------------------------------------------------------------------------\u001b[0m",
      "\u001b[1;31mIndexError\u001b[0m                                Traceback (most recent call last)",
      "\u001b[1;32mc:\\Users\\Boujuan\\OneDrive - Carl von Ossietzky Universität Oldenburg\\MASTER_WS23_24\\_Python Programming I\\Exercises\\A1\\A1.ipynb Cell 5\u001b[0m line \u001b[0;36m3\n\u001b[0;32m     <a href='vscode-notebook-cell:/c%3A/Users/Boujuan/OneDrive%20-%20Carl%20von%20Ossietzky%20Universit%C3%A4t%20Oldenburg/MASTER_WS23_24/_Python%20Programming%20I/Exercises/A1/A1.ipynb#W4sZmlsZQ%3D%3D?line=28'>29</a>\u001b[0m \u001b[39mprint\u001b[39m(\u001b[39m\"\u001b[39m\u001b[39mMagnitude of (\u001b[39m\u001b[39m\"\u001b[39m, v\u001b[39m.\u001b[39mx, \u001b[39m\"\u001b[39m\u001b[39m,\u001b[39m\u001b[39m\"\u001b[39m, v\u001b[39m.\u001b[39my, \u001b[39m\"\u001b[39m\u001b[39m,\u001b[39m\u001b[39m\"\u001b[39m, v\u001b[39m.\u001b[39mz, \u001b[39m\"\u001b[39m\u001b[39m)\u001b[39m\u001b[39m\"\u001b[39m,\u001b[39m\"\u001b[39m\u001b[39mis\u001b[39m\u001b[39m\"\u001b[39m, magnitude(v))\n\u001b[0;32m     <a href='vscode-notebook-cell:/c%3A/Users/Boujuan/OneDrive%20-%20Carl%20von%20Ossietzky%20Universit%C3%A4t%20Oldenburg/MASTER_WS23_24/_Python%20Programming%20I/Exercises/A1/A1.ipynb#W4sZmlsZQ%3D%3D?line=29'>30</a>\u001b[0m \u001b[39mif\u001b[39;00m i \u001b[39m>\u001b[39m \u001b[39m1\u001b[39m:\n\u001b[1;32m---> <a href='vscode-notebook-cell:/c%3A/Users/Boujuan/OneDrive%20-%20Carl%20von%20Ossietzky%20Universit%C3%A4t%20Oldenburg/MASTER_WS23_24/_Python%20Programming%20I/Exercises/A1/A1.ipynb#W4sZmlsZQ%3D%3D?line=30'>31</a>\u001b[0m     \u001b[39mif\u001b[39;00m maglist[i] \u001b[39m>\u001b[39m biggest:\n\u001b[0;32m     <a href='vscode-notebook-cell:/c%3A/Users/Boujuan/OneDrive%20-%20Carl%20von%20Ossietzky%20Universit%C3%A4t%20Oldenburg/MASTER_WS23_24/_Python%20Programming%20I/Exercises/A1/A1.ipynb#W4sZmlsZQ%3D%3D?line=31'>32</a>\u001b[0m         biggest \u001b[39m=\u001b[39m maglist[i]\n\u001b[0;32m     <a href='vscode-notebook-cell:/c%3A/Users/Boujuan/OneDrive%20-%20Carl%20von%20Ossietzky%20Universit%C3%A4t%20Oldenburg/MASTER_WS23_24/_Python%20Programming%20I/Exercises/A1/A1.ipynb#W4sZmlsZQ%3D%3D?line=32'>33</a>\u001b[0m     \u001b[39mif\u001b[39;00m maglist[i] \u001b[39m<\u001b[39m smallest:\n",
      "\u001b[1;31mIndexError\u001b[0m: list index out of range"
     ]
    }
   ],
   "source": [
    "from numpy.random import randint\n",
    "\n",
    "class vector:\n",
    "    def __init__(self, x, y, z):\n",
    "        self.x = x\n",
    "        self.y = y\n",
    "        self.z = z\n",
    "\n",
    "def magnitude(v):\n",
    "    v = (v.x**2 + v.y**2 + v.z**2)**0.5\n",
    "    return v\n",
    "       \n",
    "limits = [0,30]\n",
    "list = []\n",
    "maglist = []\n",
    "\n",
    "for i in range(10):\n",
    "    x = randint(limits[0], limits[1])\n",
    "    y = randint(limits[0], limits[1])\n",
    "    z = randint(limits[0], limits[1])\n",
    "    list.append(vector(x, y, z))\n",
    "\n",
    "biggest = 0\n",
    "smallest = 0\n",
    "i=0\n",
    "for v in list:\n",
    "    i += 1\n",
    "    maglist.append(magnitude(v))\n",
    "    print(\"Magnitude of (\", v.x, \",\", v.y, \",\", v.z, \")\",\"is\", magnitude(v))\n",
    "    if i > 1:\n",
    "        if maglist[i] > biggest:\n",
    "            biggest = maglist[i]\n",
    "        if maglist[i] < smallest:\n",
    "            smallest = maglist[i]\n",
    "            \n",
    "print(\"The largest magnitude is\", biggest)\n",
    "print(\"The smallest magnitude is\", smallest)\n",
    "        "
   ]
  },
  {
   "cell_type": "markdown",
   "metadata": {},
   "source": [
    "### E3. Wind turbine wake"
   ]
  },
  {
   "cell_type": "code",
   "execution_count": null,
   "metadata": {},
   "outputs": [],
   "source": []
  },
  {
   "cell_type": "markdown",
   "metadata": {},
   "source": [
    "### E4. Geometric series"
   ]
  },
  {
   "cell_type": "code",
   "execution_count": null,
   "metadata": {},
   "outputs": [],
   "source": []
  },
  {
   "cell_type": "markdown",
   "metadata": {},
   "source": [
    "### E5. Graph intersect"
   ]
  },
  {
   "cell_type": "code",
   "execution_count": null,
   "metadata": {},
   "outputs": [],
   "source": []
  },
  {
   "cell_type": "markdown",
   "metadata": {},
   "source": [
    "### E6. Graph intersect"
   ]
  },
  {
   "cell_type": "code",
   "execution_count": null,
   "metadata": {},
   "outputs": [],
   "source": []
  },
  {
   "cell_type": "markdown",
   "metadata": {},
   "source": [
    "### E7. Christmas tree"
   ]
  },
  {
   "cell_type": "code",
   "execution_count": null,
   "metadata": {},
   "outputs": [],
   "source": []
  }
 ],
 "metadata": {
  "kernelspec": {
   "display_name": "latest",
   "language": "python",
   "name": "python3"
  },
  "language_info": {
   "codemirror_mode": {
    "name": "ipython",
    "version": 3
   },
   "file_extension": ".py",
   "mimetype": "text/x-python",
   "name": "python",
   "nbconvert_exporter": "python",
   "pygments_lexer": "ipython3",
   "version": "3.11.5"
  }
 },
 "nbformat": 4,
 "nbformat_minor": 2
}
