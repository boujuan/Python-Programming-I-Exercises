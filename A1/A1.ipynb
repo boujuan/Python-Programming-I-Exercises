{
 "cells": [
  {
   "cell_type": "markdown",
   "metadata": {},
   "source": [
    "# <center> Python Programming in Energy Science </center>\n",
    "\n",
    "## <center> Assignment A1 </center>\n",
    "\n",
    "### <center> Group 4</center>\n",
    "\n",
    "-------------------------------"
   ]
  },
  {
   "cell_type": "markdown",
   "metadata": {},
   "source": [
    "### E1. Number guessing"
   ]
  },
  {
   "cell_type": "code",
   "execution_count": 3,
   "metadata": {},
   "outputs": [
    {
     "name": "stdout",
     "output_type": "stream",
     "text": [
      "11 is too low!  [ 0 , 100 ]\n",
      "79 is too high! [ 12 , 100 ]\n",
      "50 is a Match!  [ 12 , 78 ] \n",
      "(It took 3 guesses)\n"
     ]
    }
   ],
   "source": [
    "from numpy.random import randint\n",
    "\n",
    "def generate_random(rangelow, rangehigh):\n",
    "    if rangelow < rangehigh:\n",
    "        return randint(rangelow, rangehigh)\n",
    "    elif rangelow == rangehigh:\n",
    "        print(\"Number ranges convergence obtained\", \"[\", rangelow, \",\", rangehigh, \"]\")\n",
    "        return rangelow\n",
    "    else:\n",
    "        return randint(rangehigh, rangelow)\n",
    "    \n",
    "\n",
    "x = int(input(\"Enter a number [0-100]: \"))\n",
    "\n",
    "rangelow = 0\n",
    "rangehigh = 100\n",
    "i = 0\n",
    "\n",
    "while rangelow<=rangehigh:\n",
    "    i += 1\n",
    "    guess = generate_random(rangelow, rangehigh)\n",
    "    #print(\"guess =\", guess, \"input =\", x, \"iteration =\", i)\n",
    "\n",
    "    if guess == x:\n",
    "        print(guess ,\"is a Match!\", \" [\", rangelow, \",\", rangehigh, \"]\", \"\\n(It took\", i, \"guesses)\")\n",
    "        break\n",
    "    elif guess > x:\n",
    "        print(guess ,\"is too high!\", \"[\", rangelow, \",\", rangehigh, \"]\")\n",
    "        rangehigh = guess - 1\n",
    "    else:\n",
    "        print(guess ,\"is too low!\", \" [\", rangelow, \",\", rangehigh, \"]\")\n",
    "        rangelow = guess + 1\n",
    "if rangelow > rangehigh:\n",
    "    raise ValueError(f\"Error: rangelow cannot be larger than rangehigh [\", rangelow, \",\", rangehigh, \"]\")\n"
   ]
  },
  {
   "cell_type": "markdown",
   "metadata": {},
   "source": [
    "### E2. Vector magnitudes"
   ]
  },
  {
   "cell_type": "code",
   "execution_count": 1,
   "metadata": {},
   "outputs": [
    {
     "name": "stdout",
     "output_type": "stream",
     "text": [
      "Magnitude of ( 3 , 7 , 8 ) is <__main__.vector object at 0x00000213E0C629B0>\n",
      "Magnitude of ( 0 , 16 , 0 ) is <__main__.vector object at 0x00000213E0C62A40>\n"
     ]
    },
    {
     "ename": "IndexError",
     "evalue": "list index out of range",
     "output_type": "error",
     "traceback": [
      "\u001b[1;31m---------------------------------------------------------------------------\u001b[0m",
      "\u001b[1;31mIndexError\u001b[0m                                Traceback (most recent call last)",
      "\u001b[1;32md:\\OneDrive - Carl von Ossietzky Universität Oldenburg\\MASTER_WS23_24\\_Python Programming I\\Exercises\\A1\\A1.ipynb Cell 5\u001b[0m line \u001b[0;36m<cell line: 26>\u001b[1;34m()\u001b[0m\n\u001b[0;32m     <a href='vscode-notebook-cell:/d%3A/OneDrive%20-%20Carl%20von%20Ossietzky%20Universit%C3%A4t%20Oldenburg/MASTER_WS23_24/_Python%20Programming%20I/Exercises/A1/A1.ipynb#W4sZmlsZQ%3D%3D?line=28'>29</a>\u001b[0m \u001b[39mprint\u001b[39m(\u001b[39m\"\u001b[39m\u001b[39mMagnitude of (\u001b[39m\u001b[39m\"\u001b[39m, v\u001b[39m.\u001b[39mx, \u001b[39m\"\u001b[39m\u001b[39m,\u001b[39m\u001b[39m\"\u001b[39m, v\u001b[39m.\u001b[39my, \u001b[39m\"\u001b[39m\u001b[39m,\u001b[39m\u001b[39m\"\u001b[39m, v\u001b[39m.\u001b[39mz, \u001b[39m\"\u001b[39m\u001b[39m)\u001b[39m\u001b[39m\"\u001b[39m,\u001b[39m\"\u001b[39m\u001b[39mis\u001b[39m\u001b[39m\"\u001b[39m, v)\n\u001b[0;32m     <a href='vscode-notebook-cell:/d%3A/OneDrive%20-%20Carl%20von%20Ossietzky%20Universit%C3%A4t%20Oldenburg/MASTER_WS23_24/_Python%20Programming%20I/Exercises/A1/A1.ipynb#W4sZmlsZQ%3D%3D?line=29'>30</a>\u001b[0m \u001b[39mif\u001b[39;00m i \u001b[39m>\u001b[39m \u001b[39m1\u001b[39m:\n\u001b[1;32m---> <a href='vscode-notebook-cell:/d%3A/OneDrive%20-%20Carl%20von%20Ossietzky%20Universit%C3%A4t%20Oldenburg/MASTER_WS23_24/_Python%20Programming%20I/Exercises/A1/A1.ipynb#W4sZmlsZQ%3D%3D?line=30'>31</a>\u001b[0m     \u001b[39mif\u001b[39;00m maglist[i] \u001b[39m>\u001b[39m biggest:\n\u001b[0;32m     <a href='vscode-notebook-cell:/d%3A/OneDrive%20-%20Carl%20von%20Ossietzky%20Universit%C3%A4t%20Oldenburg/MASTER_WS23_24/_Python%20Programming%20I/Exercises/A1/A1.ipynb#W4sZmlsZQ%3D%3D?line=31'>32</a>\u001b[0m         biggest \u001b[39m=\u001b[39m maglist[i]\n\u001b[0;32m     <a href='vscode-notebook-cell:/d%3A/OneDrive%20-%20Carl%20von%20Ossietzky%20Universit%C3%A4t%20Oldenburg/MASTER_WS23_24/_Python%20Programming%20I/Exercises/A1/A1.ipynb#W4sZmlsZQ%3D%3D?line=32'>33</a>\u001b[0m     \u001b[39mif\u001b[39;00m maglist[i] \u001b[39m<\u001b[39m smallest:\n",
      "\u001b[1;31mIndexError\u001b[0m: list index out of range"
     ]
    }
   ],
   "source": [
    "from numpy.random import randint\n",
    "\n",
    "class vector:\n",
    "    def __init__(self, x, y, z):\n",
    "        self.x = x\n",
    "        self.y = y\n",
    "        self.z = z\n",
    "\n",
    "def magnitude(v):\n",
    "    v = (v.x**2 + v.y**2 + v.z**2)**0.5\n",
    "    return v\n",
    "       \n",
    "limits = [0,30]\n",
    "list = []\n",
    "maglist = []\n",
    "\n",
    "for i in range(10):\n",
    "    x = randint(limits[0], limits[1])\n",
    "    y = randint(limits[0], limits[1])\n",
    "    z = randint(limits[0], limits[1])\n",
    "    list.append(vector(x, y, z))\n",
    "\n",
    "biggest = 0\n",
    "smallest = 0\n",
    "i=0\n",
    "for v in list:\n",
    "    i += 1\n",
    "    maglist.append(magnitude(v))\n",
    "    print(\"Magnitude of (\", v.x, \",\", v.y, \",\", v.z, \")\",\"is\", magnitude(v))\n",
    "    if i > 1:\n",
    "        if maglist[i] > biggest:\n",
    "            biggest = maglist[i]\n",
    "        if maglist[i] < smallest:\n",
    "            smallest = maglist[i]\n",
    "            \n",
    "print(\"The largest magnitude is\", biggest)\n",
    "print(\"The smallest magnitude is\", smallest)\n",
    "        "
   ]
  },
  {
   "cell_type": "markdown",
   "metadata": {},
   "source": [
    "### E3. Wind turbine wake"
   ]
  },
  {
   "cell_type": "code",
   "execution_count": null,
   "metadata": {},
   "outputs": [],
   "source": []
  },
  {
   "cell_type": "markdown",
   "metadata": {},
   "source": [
    "### E4. Geometric series"
   ]
  },
  {
   "cell_type": "code",
   "execution_count": null,
   "metadata": {},
   "outputs": [],
   "source": []
  },
  {
   "cell_type": "markdown",
   "metadata": {},
   "source": [
    "### E5. Graph intersect"
   ]
  },
  {
   "cell_type": "code",
   "execution_count": null,
   "metadata": {},
   "outputs": [],
   "source": []
  },
  {
   "cell_type": "markdown",
   "metadata": {},
   "source": [
    "### E6. Graph intersect"
   ]
  },
  {
   "cell_type": "code",
   "execution_count": null,
   "metadata": {},
   "outputs": [],
   "source": []
  },
  {
   "cell_type": "markdown",
   "metadata": {},
   "source": [
    "### E7. Christmas tree"
   ]
  }
 ],
 "metadata": {
  "kernelspec": {
   "display_name": "latest",
   "language": "python",
   "name": "python3"
  },
  "language_info": {
   "codemirror_mode": {
    "name": "ipython",
    "version": 3
   },
   "file_extension": ".py",
   "mimetype": "text/x-python",
   "name": "python",
   "nbconvert_exporter": "python",
   "pygments_lexer": "ipython3",
   "version": "3.9.18"
  }
 },
 "nbformat": 4,
 "nbformat_minor": 2
}
