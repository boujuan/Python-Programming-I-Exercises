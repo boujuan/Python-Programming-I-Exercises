{
 "cells": [
  {
   "cell_type": "markdown",
   "id": "98e10f1a",
   "metadata": {},
   "source": [
    "# <center> Python Programming in Energy Science </center>\n",
    "\n",
    "## <center> Helper for assignment A1 </center>\n",
    "\n",
    "### <center> Lecturer: Balthazar Sengers, Fraunhofer IWES</center>\n",
    "<center> balthazar.sengers@iwes.fraunhofer.de</center>\n",
    "\n",
    "-------------------------------"
   ]
  },
  {
   "cell_type": "markdown",
   "id": "dc776f8b",
   "metadata": {},
   "source": [
    "## (1) User input\n",
    "\n",
    "You can ask the user for input in a very simple way, returning a string, i.e. an *str* object:"
   ]
  },
  {
   "cell_type": "code",
   "execution_count": 1,
   "id": "ea2726ce",
   "metadata": {},
   "outputs": [
    {
     "name": "stdout",
     "output_type": "stream",
     "text": [
      "I got 50 , type <class 'str'>\n"
     ]
    }
   ],
   "source": [
    "a = input(\"Gimme some input:\")\n",
    "print(\"I got\", a, \", type\", type(a))"
   ]
  },
  {
   "cell_type": "markdown",
   "id": "28579cc5",
   "metadata": {},
   "source": [
    "## (2) Random integers\n",
    "\n",
    "You can create a random integer by importing the function [randint](https://numpy.org/doc/stable/reference/random/generated/numpy.random.randint.html) from the _numpy_ library (the import needs to be done only once in your notebook or python module):"
   ]
  },
  {
   "cell_type": "code",
   "execution_count": 3,
   "id": "c9147cb1",
   "metadata": {},
   "outputs": [],
   "source": [
    "from numpy.random import randint"
   ]
  },
  {
   "cell_type": "code",
   "execution_count": 4,
   "id": "f8874194",
   "metadata": {},
   "outputs": [
    {
     "name": "stdout",
     "output_type": "stream",
     "text": [
      "a = 4\n"
     ]
    }
   ],
   "source": [
    "# pick a random number between 0 (included) and 100 (excluded):\n",
    "a = randint(0, 100)\n",
    "print(\"a =\", a)"
   ]
  },
  {
   "cell_type": "markdown",
   "id": "27840698",
   "metadata": {},
   "source": [
    "## (3) Convert str to int\n",
    "\n",
    "It is easy to convert a string to an integer (similarly to a _float_, or the other way around):"
   ]
  },
  {
   "cell_type": "code",
   "execution_count": 5,
   "id": "ca7ee56a",
   "metadata": {},
   "outputs": [
    {
     "name": "stdout",
     "output_type": "stream",
     "text": [
      "a = 3 , type <class 'str'>\n",
      "b = 3 , type <class 'int'>\n"
     ]
    }
   ],
   "source": [
    "a = \"3\"\n",
    "b = int(a)\n",
    "print(\"a =\", a, \", type\", type(a))\n",
    "print(\"b =\", b, \", type\", type(b))"
   ]
  },
  {
   "cell_type": "markdown",
   "id": "b75b028e",
   "metadata": {},
   "source": [
    "## (4) Throw an error\n",
    "\n",
    "It can be very useful to force the program to stop with an error message after checking something. There are many error types, for example _ValueError_:"
   ]
  },
  {
   "cell_type": "code",
   "execution_count": 6,
   "id": "a974fa3b",
   "metadata": {},
   "outputs": [
    {
     "ename": "ValueError",
     "evalue": "a is 3.14, not 3.",
     "output_type": "error",
     "traceback": [
      "\u001b[1;31m---------------------------------------------------------------------------\u001b[0m",
      "\u001b[1;31mValueError\u001b[0m                                Traceback (most recent call last)",
      "\u001b[1;32mc:\\Users\\Boujuan\\OneDrive - Carl von Ossietzky Universität Oldenburg\\MASTER_WS23_24\\_Python Programming I\\A1_helper.ipynb Cell 10\u001b[0m line \u001b[0;36m3\n\u001b[0;32m      <a href='vscode-notebook-cell:/c%3A/Users/Boujuan/OneDrive%20-%20Carl%20von%20Ossietzky%20Universit%C3%A4t%20Oldenburg/MASTER_WS23_24/_Python%20Programming%20I/A1_helper.ipynb#X12sZmlsZQ%3D%3D?line=0'>1</a>\u001b[0m a \u001b[39m=\u001b[39m \u001b[39m3.14\u001b[39m\n\u001b[0;32m      <a href='vscode-notebook-cell:/c%3A/Users/Boujuan/OneDrive%20-%20Carl%20von%20Ossietzky%20Universit%C3%A4t%20Oldenburg/MASTER_WS23_24/_Python%20Programming%20I/A1_helper.ipynb#X12sZmlsZQ%3D%3D?line=1'>2</a>\u001b[0m \u001b[39mif\u001b[39;00m a \u001b[39m!=\u001b[39m \u001b[39m3\u001b[39m:\n\u001b[1;32m----> <a href='vscode-notebook-cell:/c%3A/Users/Boujuan/OneDrive%20-%20Carl%20von%20Ossietzky%20Universit%C3%A4t%20Oldenburg/MASTER_WS23_24/_Python%20Programming%20I/A1_helper.ipynb#X12sZmlsZQ%3D%3D?line=2'>3</a>\u001b[0m     \u001b[39mraise\u001b[39;00m \u001b[39mValueError\u001b[39;00m(\u001b[39mf\u001b[39m\u001b[39m\"\u001b[39m\u001b[39ma is \u001b[39m\u001b[39m{\u001b[39;00ma\u001b[39m}\u001b[39;00m\u001b[39m, not 3.\u001b[39m\u001b[39m\"\u001b[39m)\n",
      "\u001b[1;31mValueError\u001b[0m: a is 3.14, not 3."
     ]
    }
   ],
   "source": [
    "a = 3.14\n",
    "if a != 3:\n",
    "    raise ValueError(f\"a is {a}, not 3.\")"
   ]
  },
  {
   "cell_type": "markdown",
   "id": "07b61a3a",
   "metadata": {},
   "source": [
    "## (5) Calculate number to the power of number\n",
    "\n",
    "Sometimes you need the square or the cube of any other power (also exponents below one, also negative). This is easy in Python, simply use double-stars:"
   ]
  },
  {
   "cell_type": "code",
   "execution_count": null,
   "id": "3844c6b4",
   "metadata": {},
   "outputs": [],
   "source": [
    "a = 3.14\n",
    "print(\"a =\", a)\n",
    "\n",
    "a_squared = a**2\n",
    "print(\"a squared =\", a_squared)\n",
    "\n",
    "a_cubic_root = a**(1/3)\n",
    "print(\"a cubic root =\", a_cubic_root)"
   ]
  },
  {
   "cell_type": "markdown",
   "id": "3736da9b",
   "metadata": {},
   "source": [
    "## (6) Data structures\n",
    "\n",
    "A _tuple_ is a container that cannot be changed (no elements can be added or removed after creation, the data objects behind elements are unchangable). The elements may be of equal or different type. Tuples are indicated by round brackets:"
   ]
  },
  {
   "cell_type": "code",
   "execution_count": 7,
   "id": "9c191b0d",
   "metadata": {},
   "outputs": [
    {
     "name": "stdout",
     "output_type": "stream",
     "text": [
      "a = (3.14, 'hi', 99)\n",
      "length a = 3\n",
      "\n",
      "Element 1: hi\n",
      "\n",
      "Loop over a:\n",
      "3.14\n",
      "hi\n",
      "99\n",
      "\n",
      "Loop over a:\n",
      "0 : 3.14\n",
      "1 : hi\n",
      "2 : 99\n"
     ]
    }
   ],
   "source": [
    "a = (3.14, \"hi\", 99)\n",
    "print(\"a =\", a)\n",
    "print(\"length a =\", len(a))\n",
    "\n",
    "# you can access a single element:\n",
    "print(\"\\nElement 1:\", a[1])\n",
    "\n",
    "# you can loop over tuples:\n",
    "print(\"\\nLoop over a:\")\n",
    "for x in a:\n",
    "    print(x)\n",
    "\n",
    "# you can loop over tuples, additionally giving element number:\n",
    "print(\"\\nLoop over a:\")\n",
    "for i, x in enumerate(a):\n",
    "    print(i, \":\", x)"
   ]
  },
  {
   "cell_type": "markdown",
   "id": "c61c2c82",
   "metadata": {},
   "source": [
    "A _list_ is a container that can be modified after creation. The elements may be of equal or different type. Lists are indicated by square brackets:"
   ]
  },
  {
   "cell_type": "code",
   "execution_count": 8,
   "id": "c2b61986",
   "metadata": {},
   "outputs": [
    {
     "name": "stdout",
     "output_type": "stream",
     "text": [
      "a = [3.14, 'hi', 99]\n",
      "length a = 3\n",
      "\n",
      "Element 2: 99\n",
      "a = [3.14, 'hi', 101]\n",
      "Element 2: 101\n",
      "\n",
      "a = [3.14, 'hi', 101, 12]\n",
      "\n",
      "Loop over a:\n",
      "3.14\n",
      "hi\n",
      "101\n",
      "12\n",
      "\n",
      "Loop over a:\n",
      "0 : 3.14\n",
      "1 : hi\n",
      "2 : 101\n",
      "3 : 12\n"
     ]
    }
   ],
   "source": [
    "a = [3.14, \"hi\", 99]\n",
    "print(\"a =\", a)\n",
    "print(\"length a =\", len(a))\n",
    "\n",
    "# you can access a single element:\n",
    "print(\"\\nElement 2:\", a[2])\n",
    "a[2] += 2\n",
    "print(\"a =\", a)\n",
    "print(\"Element 2:\", a[2])\n",
    "\n",
    "# you can add an element to the end of the list:\n",
    "a.append(12)\n",
    "print(\"\\na =\", a)\n",
    "\n",
    "# you can loop over lists:\n",
    "print(\"\\nLoop over a:\")\n",
    "for x in a:\n",
    "    print(x)\n",
    "\n",
    "# you can loop over lists, additionally giving element number:\n",
    "print(\"\\nLoop over a:\")\n",
    "for i, x in enumerate(a):\n",
    "    print(i, \":\", x)"
   ]
  },
  {
   "cell_type": "markdown",
   "id": "8cb81451",
   "metadata": {},
   "source": [
    "A _dict_ stores _data_ under given _keys_. For example, a float variable under a string key. You can freely mix the types of keys and the types of data within the same _dict_ object (don't need to be the same type). Dictionaries are indicated by curly brackets:"
   ]
  },
  {
   "cell_type": "code",
   "execution_count": 9,
   "id": "3999b521",
   "metadata": {},
   "outputs": [
    {
     "name": "stdout",
     "output_type": "stream",
     "text": [
      "{'x': 3.14, 'y': 9.9}\n",
      "\n",
      "a['x'] = 3.14\n",
      "\n",
      "a = {'x': 3.14, 'y': 9.9, 'z': 100}\n",
      "\n",
      "Items of a:\n",
      "x : 3.14\n",
      "y : 9.9\n",
      "z : 100\n"
     ]
    }
   ],
   "source": [
    "a = {\"x\": 3.14, \"y\": 9.9}\n",
    "print(a)\n",
    "\n",
    "# you can acces elements by their keys:\n",
    "print(\"\\na['x'] =\", a[\"x\"])\n",
    "\n",
    "# you can add elements under new keys (keys and data may be of same or different type):\n",
    "a[\"z\"] = 100\n",
    "print(\"\\na =\", a)\n",
    "\n",
    "# you can loop over keys and elements:\n",
    "print(\"\\nItems of a:\")\n",
    "for key, data in a.items():\n",
    "    print(key, \":\", data)"
   ]
  },
  {
   "cell_type": "markdown",
   "id": "e9fbcb8f",
   "metadata": {},
   "source": [
    "A _class_ is a self-written data structure. It may contain data and also function, both accessible by the dot-notation wrt the object:"
   ]
  },
  {
   "cell_type": "code",
   "execution_count": 10,
   "id": "baa12ab8",
   "metadata": {},
   "outputs": [
    {
     "name": "stdout",
     "output_type": "stream",
     "text": [
      "a = <__main__.MyClass object at 0x00000269082EFC40>\n",
      "a.n = 8\n",
      "a.m = 12\n"
     ]
    }
   ],
   "source": [
    "# define the class, storing data \"n\" and \"m\":\n",
    "class MyClass:\n",
    "    \n",
    "    def __init__(self, n, m):\n",
    "        self.n = n\n",
    "        self.m = m\n",
    "\n",
    "# create an object of the class, giving data:\n",
    "a = MyClass(8, 12)\n",
    "print(\"a =\", a)\n",
    "print(\"a.n =\", a.n)\n",
    "print(\"a.m =\", a.m)"
   ]
  },
  {
   "cell_type": "markdown",
   "id": "4aedaedb",
   "metadata": {},
   "source": [
    "You may also define other functions within the class. Notice that their first argument is usually called \"self\", and it represents the object for whom the function is called by the dot-notation (like \"a\" in \"a.f()\" for a class function \"f\")."
   ]
  },
  {
   "cell_type": "markdown",
   "id": "ef7d953d",
   "metadata": {},
   "source": [
    "## (7) Loops\n",
    "\n",
    "A _for_ loop goes through all elements in a sequence, see above for _list_, _tuple_ and _dict_. Often we need to go through all numbers up to a maximum, e.g. all numbers between 0 and 5:"
   ]
  },
  {
   "cell_type": "code",
   "execution_count": null,
   "id": "d946ca6a",
   "metadata": {},
   "outputs": [],
   "source": [
    "for i in range(6):\n",
    "    print(i)"
   ]
  },
  {
   "cell_type": "markdown",
   "id": "505dd59c",
   "metadata": {},
   "source": [
    "Notice that the value 6 is not included here. You can also set the start value:"
   ]
  },
  {
   "cell_type": "code",
   "execution_count": null,
   "id": "289718b5",
   "metadata": {},
   "outputs": [],
   "source": [
    "for i in range(2, 6):\n",
    "    print(i)"
   ]
  },
  {
   "cell_type": "markdown",
   "id": "0f618347",
   "metadata": {},
   "source": [
    "Finally, you can adjust the step size:"
   ]
  },
  {
   "cell_type": "code",
   "execution_count": null,
   "id": "cee11d6d",
   "metadata": {},
   "outputs": [],
   "source": [
    "for i in range(1, 10, 3):\n",
    "    print(i)"
   ]
  },
  {
   "cell_type": "markdown",
   "id": "7f159f92",
   "metadata": {},
   "source": [
    "You can always get out of a loop by the command `break`:"
   ]
  },
  {
   "cell_type": "code",
   "execution_count": null,
   "id": "e9b9b68c",
   "metadata": {},
   "outputs": [],
   "source": [
    "for i in range(11):\n",
    "    print(i)\n",
    "    if i > 5:\n",
    "        break"
   ]
  },
  {
   "cell_type": "markdown",
   "id": "1bcb6bd1",
   "metadata": {},
   "source": [
    "You can also enforce a jump to the next iteration, by the command `continue`:"
   ]
  },
  {
   "cell_type": "code",
   "execution_count": null,
   "id": "0fc5f655",
   "metadata": {},
   "outputs": [],
   "source": [
    "for i in range(21):\n",
    "    if i % 3 > 0: # the % means modulo, this is False except for multiples of 3\n",
    "        continue\n",
    "    print(i)"
   ]
  },
  {
   "cell_type": "markdown",
   "id": "c423f149",
   "metadata": {},
   "source": [
    "Very useful are also _while_ loops. The keep running as long as a condition evaluates to _True_:"
   ]
  },
  {
   "cell_type": "code",
   "execution_count": null,
   "id": "c469886f",
   "metadata": {},
   "outputs": [],
   "source": [
    "x = 1\n",
    "while x**2 < 30:\n",
    "    print(x,\":\", x**2)\n",
    "    x += 1"
   ]
  },
  {
   "cell_type": "markdown",
   "id": "29c8f298",
   "metadata": {},
   "source": [
    "Also for _while_ you can use `break` and `continue`, similarly as in the _for_ loop examples above."
   ]
  },
  {
   "cell_type": "markdown",
   "id": "d2f98c22",
   "metadata": {},
   "source": [
    "# (8) Sine and cosine"
   ]
  },
  {
   "cell_type": "markdown",
   "id": "e56c57e4",
   "metadata": {},
   "source": [
    "In python,sine and cosine use radians. Degrees need to be converted to radians first."
   ]
  },
  {
   "cell_type": "code",
   "execution_count": 1,
   "id": "dda6f60b",
   "metadata": {},
   "outputs": [
    {
     "data": {
      "text/plain": [
       "1.2246467991473532e-16"
      ]
     },
     "execution_count": 1,
     "metadata": {},
     "output_type": "execute_result"
    }
   ],
   "source": [
    "import math\n",
    "math.sin(math.radians(180))"
   ]
  },
  {
   "cell_type": "markdown",
   "id": "6a01b901",
   "metadata": {},
   "source": [
    "This example already shows that sin(180) does not exactly give zero. To compare the output of two functions with each other, you might need to round to a few decimals. "
   ]
  },
  {
   "cell_type": "markdown",
   "id": "72f2de61",
   "metadata": {},
   "source": [
    "# (9) Functions"
   ]
  },
  {
   "cell_type": "markdown",
   "id": "ab46ad88",
   "metadata": {},
   "source": [
    "Functions don't only keep things tidy, but they are also very powerful structures in python. \n",
    "For instance, you pass one function to another as an argument."
   ]
  },
  {
   "cell_type": "code",
   "execution_count": 6,
   "id": "527e70cc",
   "metadata": {},
   "outputs": [
    {
     "name": "stdout",
     "output_type": "stream",
     "text": [
      "2\n"
     ]
    }
   ],
   "source": [
    "def f(x):\n",
    "    return x + 1\n",
    "\n",
    "def manipulate_value(func, x):\n",
    "    return func(x)\n",
    "\n",
    "value = manipulate_value(f, 1) \n",
    "print(value)"
   ]
  }
 ],
 "metadata": {
  "kernelspec": {
   "display_name": "Python 3",
   "language": "python",
   "name": "python3"
  },
  "language_info": {
   "codemirror_mode": {
    "name": "ipython",
    "version": 3
   },
   "file_extension": ".py",
   "mimetype": "text/x-python",
   "name": "python",
   "nbconvert_exporter": "python",
   "pygments_lexer": "ipython3",
   "version": "3.9.18"
  }
 },
 "nbformat": 4,
 "nbformat_minor": 5
}
