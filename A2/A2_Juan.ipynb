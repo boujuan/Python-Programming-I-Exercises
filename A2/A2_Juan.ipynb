{
 "cells": [
  {
   "cell_type": "markdown",
   "metadata": {},
   "source": [
    "# <center><b> Python Programming in Energy Science I</b></center>\n",
    "\n",
    "## <center> Assignment A2 </center>\n",
    "\n",
    "### <center>[Group 4]</center>\n",
    "<center> Juan Manuel Boullosa Novo </center>\n",
    "\n",
    "-------------------------------"
   ]
  },
  {
   "cell_type": "markdown",
   "metadata": {},
   "source": [
    "### E1. Data analysis"
   ]
  },
  {
   "cell_type": "code",
   "execution_count": 157,
   "metadata": {},
   "outputs": [
    {
     "name": "stdout",
     "output_type": "stream",
     "text": [
      "Average wind speed vector: [1.9637, 0.4262]\n",
      "Magnitude of mean: 2.0095\n",
      "Standard deviation: 6.3649\n",
      "All wind speeds are positive: True\n",
      "Any wind speed is over 25 m/s: False\n",
      "Minimum and maximum wind speeds: [0.0621, 23.1355]\n",
      "\n",
      "Count of wind speeds in bins of size 1 m/s:\n",
      "\n",
      " 0.0621 m/s -> 134 counts\n",
      " 1.0621 m/s -> 408 counts\n",
      " 2.0621 m/s -> 628 counts\n",
      " 3.0621 m/s -> 619 counts\n",
      " 4.0621 m/s -> 616 counts\n",
      " 5.0621 m/s -> 564 counts\n",
      " 6.0621 m/s -> 459 counts\n",
      " 7.0621 m/s -> 399 counts\n",
      " 8.0621 m/s -> 425 counts\n",
      " 9.0621 m/s -> 318 counts\n",
      "10.0621 m/s -> 174 counts\n",
      "11.0621 m/s -> 131 counts\n",
      "12.0621 m/s ->  86 counts\n",
      "13.0621 m/s ->  46 counts\n",
      "14.0621 m/s ->  34 counts\n",
      "15.0621 m/s ->  16 counts\n",
      "16.0621 m/s ->   9 counts\n",
      "17.0621 m/s ->   9 counts\n",
      "18.0621 m/s ->   4 counts\n",
      "19.0621 m/s ->   6 counts\n",
      "20.0621 m/s ->   1 counts\n",
      "21.0621 m/s ->   1 counts\n",
      "22.0621 m/s ->   0 counts\n",
      "23.0621 m/s ->   1 counts\n",
      "\n",
      "Longest period of wind speed greater than 10 m/s:\n",
      "[737 hours, 0 minutes, 0 seconds]\n",
      "\n",
      "Longest period of wind speed greater than 15 m/s:\n",
      "[396 hours, 0 minutes, 0 seconds]\n",
      "\n",
      "Longest period of wind speed greater than 25 m/s:\n",
      "[0 hours, 0 minutes, 0 seconds]\n"
     ]
    }
   ],
   "source": [
    "class WindAnalysis:\n",
    "    def __init__(self, filepath):\n",
    "        self.datestamps, self.wind_speed_vectors = self._read_csv(filepath)\n",
    "        self.magnitudes = [self._vector_magnitude(vector) for vector in self.wind_speed_vectors]\n",
    "        self.mean, self.mean_mag, self.std = self._mean_vector()\n",
    "        self.is_positive, self.is_over_25 = self._check_wind_speeds()\n",
    "        self.min, self.max = self._find_min_max()\n",
    "    '''\n",
    "    PRIVATE methods called by the constructor or other class methods:\n",
    "    '''\n",
    "    def _read_csv(self, filepath):\n",
    "        with open(filepath, 'r') as file:\n",
    "            next(file)  # skip header\n",
    "            data = [line.strip().split(',') for line in file]\n",
    "        datestamps = [row[0] for row in data]\n",
    "        wind_speed_vectors = [[float(row[1]), float(row[2])] for row in data]\n",
    "        return datestamps, wind_speed_vectors\n",
    "    \n",
    "    def _vector_magnitude(self, vector):\n",
    "        return (vector[0] ** 2 + vector[1] ** 2) ** 0.5\n",
    "    \n",
    "    def _mean_vector(self):\n",
    "        vector_length = len(self.wind_speed_vectors)\n",
    "        sum_u100, sum_v100 = sum(float(row[0]) for row in self.wind_speed_vectors), sum(float(row[1]) for row in self.wind_speed_vectors)\n",
    "        avg_vector = [sum_u100 / vector_length, sum_v100 / vector_length]\n",
    "        avg_vector_magnitude = self._vector_magnitude(avg_vector)\n",
    "        std_dev = self._standard_deviation(avg_vector)\n",
    "        return avg_vector, avg_vector_magnitude, std_dev\n",
    "        \n",
    "    def _check_wind_speeds(self):\n",
    "        return all(mag > 0 for mag in self.magnitudes), any(mag > 25 for mag in self.magnitudes)\n",
    "\n",
    "    def _find_min_max(self):\n",
    "        return min(self.magnitudes), max(self.magnitudes)\n",
    "    '''\n",
    "    HELPER class methods that are not called by the user:\n",
    "    '''    \n",
    "    def _standard_deviation(self, mean_vector):\n",
    "        # Handled by mean_vector() method\n",
    "        squared_differences = [(float(vector[0]) - mean_vector[0]) ** 2 + (float(vector[1]) - mean_vector[1]) ** 2 for vector in self.wind_speed_vectors]\n",
    "        variance = sum(squared_differences) / len(squared_differences)\n",
    "        return variance ** 0.5\n",
    "    \n",
    "    def _time_difference(self, date1, date2):\n",
    "        # Calculate the difference in seconds between two dates\n",
    "        year1, month1, day1, hour1, minute1, second1 = map(int, date1.replace('-', ' ').replace(':', ' ').split())\n",
    "        year2, month2, day2, hour2, minute2, second2 = map(int, date2.replace('-', ' ').replace(':', ' ').split())\n",
    "\n",
    "        time1 = second1 + minute1*60 + hour1*3600 + day1*86400 + month1*2592000 + year1*31104000\n",
    "        time2 = second2 + minute2*60 + hour2*3600 + day2*86400 + month2*2592000 + year2*31104000\n",
    "        return abs(time2 - time1)\n",
    "    \n",
    "    def _s_to_hms(self, seconds):\n",
    "        hours = seconds // 3600\n",
    "        minutes = (seconds % 3600) // 60\n",
    "        seconds = seconds % 60\n",
    "        return hours, minutes, seconds\n",
    "    \n",
    "    def _float_range(self, start, stop, step):\n",
    "        # Custom helper function to create a range of floats\n",
    "        float_range = []\n",
    "        while start < stop:\n",
    "            float_range.append(start)\n",
    "            start += step\n",
    "        return float_range\n",
    "    '''\n",
    "    PUBLIC methods that can be called by the user:\n",
    "    '''\n",
    "    def bin_counter(self, bin_size=1):\n",
    "        # Sorts wind speeds into bins (dict) of size bin_size from min to max\n",
    "        bins = dict()\n",
    "        for bin in self._float_range(self.min, self.max, bin_size):\n",
    "            bins[bin] = sum(1 for magnitude in self.magnitudes if bin <= magnitude < bin+1)\n",
    "        return bins\n",
    "\n",
    "    def longest_period_greater_than(self, threshold=10):\n",
    "        longest_period, current_period = 0, 0\n",
    "        previous_date = None\n",
    "        \n",
    "        for i in range(len(self.wind_speed_vectors)):\n",
    "            magnitude = self._vector_magnitude(self.wind_speed_vectors[i])\n",
    "            date = self.datestamps[i]\n",
    "            \n",
    "            if magnitude > threshold:\n",
    "                if previous_date is not None:\n",
    "                    current_period += self._time_difference(previous_date, date)\n",
    "                previous_date = date\n",
    "            else:\n",
    "                longest_period = max(longest_period, current_period)\n",
    "                current_period = 0\n",
    "\n",
    "        longest_period = self._s_to_hms(max(longest_period, current_period))\n",
    "        return longest_period\n",
    "'''\n",
    "MAIN PROGRAM:\n",
    "'''\n",
    "# Call instance of class with csv file path as constructor argument:\n",
    "wind_analysed = WindAnalysis('winddata.csv')\n",
    "# Call optional methods:\n",
    "bins = wind_analysed.bin_counter()\n",
    "longest_period10 = wind_analysed.longest_period_greater_than()\n",
    "longest_period15 = wind_analysed.longest_period_greater_than(15)\n",
    "longest_period25 = wind_analysed.longest_period_greater_than(25)\n",
    "\n",
    "print(f'Average wind speed vector: [{wind_analysed.mean[0]:.4f}, {wind_analysed.mean[1]:.4f}]')\n",
    "print(f'Magnitude of mean: {wind_analysed.mean_mag:.4f}')\n",
    "print(f'Standard deviation: {wind_analysed.std:.4f}')\n",
    "print(f'All wind speeds are positive: {wind_analysed.is_positive}')\n",
    "print(f'Any wind speed is over 25 m/s: {wind_analysed.is_over_25}')\n",
    "print(f'Minimum and maximum wind speeds: [{wind_analysed.min:.4f}, {wind_analysed.max:.4f}]')\n",
    "print(f'\\nCount of wind speeds in bins of size 1 m/s:\\n')\n",
    "for key, value in bins.items():\n",
    "    print(f'{format(key, \".4f\"):>7} m/s -> {value:>3} counts')\n",
    "print(f'\\nLongest period of wind speed greater than 10 m/s:\\n[{longest_period10[0]} hours, {longest_period10[1]} minutes, {longest_period10[2]} seconds]')\n",
    "print(f'\\nLongest period of wind speed greater than 15 m/s:\\n[{longest_period15[0]} hours, {longest_period15[1]} minutes, {longest_period15[2]} seconds]')\n",
    "print(f'\\nLongest period of wind speed greater than 25 m/s:\\n[{longest_period25[0]} hours, {longest_period25[1]} minutes, {longest_period25[2]} seconds]')"
   ]
  },
  {
   "cell_type": "markdown",
   "metadata": {},
   "source": [
    "### E2. "
   ]
  },
  {
   "cell_type": "markdown",
   "metadata": {},
   "source": [
    "### E3. "
   ]
  },
  {
   "cell_type": "markdown",
   "metadata": {},
   "source": [
    "### E4. "
   ]
  },
  {
   "cell_type": "markdown",
   "metadata": {},
   "source": [
    "### E5. "
   ]
  },
  {
   "cell_type": "markdown",
   "metadata": {},
   "source": [
    "### E6. "
   ]
  }
 ],
 "metadata": {
  "kernelspec": {
   "display_name": "latest",
   "language": "python",
   "name": "python3"
  },
  "language_info": {
   "codemirror_mode": {
    "name": "ipython",
    "version": 3
   },
   "file_extension": ".py",
   "mimetype": "text/x-python",
   "name": "python",
   "nbconvert_exporter": "python",
   "pygments_lexer": "ipython3",
   "version": "3.11.5"
  }
 },
 "nbformat": 4,
 "nbformat_minor": 2
}
