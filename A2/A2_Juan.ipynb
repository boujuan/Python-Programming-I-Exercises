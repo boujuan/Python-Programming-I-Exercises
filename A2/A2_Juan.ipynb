{
 "cells": [
  {
   "cell_type": "markdown",
   "metadata": {},
   "source": [
    "# <center><b> Python Programming in Energy Science I</b></center>\n",
    "\n",
    "## <center> Assignment A2 </center>\n",
    "\n",
    "### <center>[Group 4]</center>\n",
    "<center> Juan Manuel Boullosa Novo </center>\n",
    "\n",
    "-------------------------------"
   ]
  },
  {
   "cell_type": "markdown",
   "metadata": {},
   "source": [
    "### E1. Data analysis"
   ]
  },
  {
   "cell_type": "markdown",
   "metadata": {},
   "source": [
    "### E1. Data analysis"
   ]
  },
  {
   "cell_type": "code",
   "execution_count": 60,
   "metadata": {},
   "outputs": [
    {
     "name": "stdout",
     "output_type": "stream",
     "text": [
      "737 0 0\n"
     ]
    }
   ],
   "source": [
    "def read_csv(filepath):\n",
    "    with open(filepath, 'r') as file:\n",
    "        next(file) # skip header\n",
    "        data = [line.strip().split(',') for line in file]\n",
    "    datestamp = [row[0] for row in data]\n",
    "    wind_speed_vectors = [[float(row[1]), float(row[2])] for row in data]\n",
    "    return datestamp, wind_speed_vectors\n",
    "\n",
    "def mean_vector(wind_speed_vectors):\n",
    "    vector_length = len(wind_speed_vectors)\n",
    "    sum_u100, sum_v100 = sum(float(row[0]) for row in wind_speed_vectors), sum(float(row[1]) for row in wind_speed_vectors)\n",
    "    avg_vector = [sum_u100/vector_length, sum_v100/vector_length]\n",
    "    avg_vector_magnitude = vector_magnitude(avg_vector)\n",
    "    std_dev = vector_standard_deviation(wind_speed_vectors, avg_vector)\n",
    "    return avg_vector, avg_vector_magnitude, std_dev\n",
    "\n",
    "def vector_magnitude(vector):\n",
    "    return (vector[0]**2 + vector[1]**2)**0.5\n",
    "\n",
    "def vector_standard_deviation(wind_speed_vectors, mean_vector):\n",
    "    squared_differences = [(float(vector[0])-mean_vector[0])**2 + (float(vector[1])-mean_vector[1])**2 for vector in wind_speed_vectors]\n",
    "    variance = sum(squared_differences)/len(squared_differences)\n",
    "    return variance**0.5\n",
    "\n",
    "def check_wind_speeds(wind_speed_vectors):\n",
    "    magnitudes = [vector_magnitude(vector) for vector in wind_speed_vectors]\n",
    "    return all(mag > 0 for mag in magnitudes), any(mag > 25 for mag in magnitudes)\n",
    "\n",
    "def find_min_max(wind_speed_vectors):\n",
    "    magnitudes = [vector_magnitude(vector) for vector in wind_speed_vectors]\n",
    "    return min(magnitudes), max(magnitudes)\n",
    "\n",
    "def bin_counter(wind_speed_vectors, min_wind_speed, max_wind_speed, bin_size=1):\n",
    "    bins = dict()\n",
    "    for bin in float_range(min_wind_speed, max_wind_speed, bin_size):\n",
    "        bins[bin] = sum(1 for vector in wind_speed_vectors if bin <= vector_magnitude(vector) < bin+1)\n",
    "    return bins\n",
    "\n",
    "def float_range(start, stop, step):\n",
    "    # Custom float range function\n",
    "    frange = []\n",
    "    while start < stop:\n",
    "        frange.append(start)\n",
    "        start += step\n",
    "    return frange\n",
    "\n",
    "def longest_period_greater_than(datestamp, wind_speed_vectors, threshold):\n",
    "    longest_period, current_period = 0, 0\n",
    "    previous_date = None\n",
    "    \n",
    "    for i in range(len(wind_speed_vectors)):\n",
    "        magnitude = vector_magnitude(wind_speed_vectors[i])\n",
    "        date = datestamp[i]\n",
    "        \n",
    "        if magnitude > threshold:\n",
    "            if previous_date is not None:\n",
    "                current_period += time_difference(previous_date, date)\n",
    "            previous_date = date\n",
    "        else:\n",
    "            longest_period = max(longest_period, current_period)\n",
    "            current_period = 0\n",
    "    \n",
    "    longest_period = max(longest_period, current_period)\n",
    "    return longest_period\n",
    "\n",
    "def time_difference(date1, date2):\n",
    "    # Calculate the difference in seconds between two dates\n",
    "    year1, month1, day1, hour1, minute1, second1 = map(int, date1.replace('-', ' ').replace(':', ' ').split())\n",
    "    year2, month2, day2, hour2, minute2, second2 = map(int, date2.replace('-', ' ').replace(':', ' ').split())\n",
    "\n",
    "    time1 = second1 + minute1*60 + hour1*3600 + day1*86400 + month1*2592000 + year1*31104000\n",
    "    time2 = second2 + minute2*60 + hour2*3600 + day2*86400 + month2*2592000 + year2*31104000\n",
    "\n",
    "    return abs(time2 - time1)\n",
    "\n",
    "def s_to_hms(seconds):\n",
    "    # Convert seconds to hours, minutes, seconds\n",
    "    hours = seconds // 3600\n",
    "    minutes = (seconds % 3600) // 60\n",
    "    seconds = seconds % 60\n",
    "    return hours, minutes, seconds\n",
    "\n",
    "datestamp, wind_speed_vectors = read_csv('winddata.csv')\n",
    "avg_wind_speed_vector, avg_wind_speed_magnitude, wind_speed_standard_deviation = mean_vector(wind_speed_vectors)\n",
    "all_greater_than_zero, any_greater_than_25 = check_wind_speeds(wind_speed_vectors)\n",
    "min_wind_speed, max_wind_speed = find_min_max(wind_speed_vectors)\n",
    "bins = bin_counter(wind_speed_vectors, min_wind_speed, max_wind_speed)\n",
    "longest_greater_than_10 = longest_period_greater_than(datestamp, wind_speed_vectors, 10)\n",
    "longest_greater_than_15 = longest_period_greater_than(datestamp, wind_speed_vectors, 15)\n",
    "longest_greater_than_25 = longest_period_greater_than(datestamp, wind_speed_vectors, 25)\n",
    "\n",
    "print(*s_to_hms(longest_greater_than_10))\n",
    "\n"
   ]
  },
  {
   "cell_type": "markdown",
   "metadata": {},
   "source": [
    "### E2. "
   ]
  },
  {
   "cell_type": "markdown",
   "metadata": {},
   "source": [
    "### E3. "
   ]
  },
  {
   "cell_type": "markdown",
   "metadata": {},
   "source": [
    "### E4. "
   ]
  },
  {
   "cell_type": "markdown",
   "metadata": {},
   "source": [
    "### E5. "
   ]
  },
  {
   "cell_type": "markdown",
   "metadata": {},
   "source": [
    "### E6. "
   ]
  }
 ],
 "metadata": {
  "kernelspec": {
   "display_name": "latest",
   "language": "python",
   "name": "python3"
  },
  "language_info": {
   "codemirror_mode": {
    "name": "ipython",
    "version": 3
   },
   "file_extension": ".py",
   "mimetype": "text/x-python",
   "name": "python",
   "nbconvert_exporter": "python",
   "pygments_lexer": "ipython3",
   "version": "3.11.5"
  }
 },
 "nbformat": 4,
 "nbformat_minor": 2
}
